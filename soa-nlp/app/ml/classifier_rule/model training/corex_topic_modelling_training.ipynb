{
 "cells": [
  {
   "cell_type": "code",
   "execution_count": 1,
   "metadata": {},
   "outputs": [],
   "source": [
    "import numpy as np\n",
    "import pandas as pd\n",
    "import re\n",
    "\n",
    "# import regex\n",
    "import matplotlib.pyplot as plt\n",
    "\n",
    "%matplotlib inline\n",
    "from sklearn.feature_extraction.text import TfidfVectorizer\n",
    "from corextopic import corextopic as ct"
   ]
  },
  {
   "cell_type": "code",
   "execution_count": 2,
   "metadata": {},
   "outputs": [],
   "source": [
    "# !pip install seaborn"
   ]
  },
  {
   "cell_type": "code",
   "execution_count": 3,
   "metadata": {},
   "outputs": [],
   "source": [
    "import nltk\n",
    "from nltk.corpus import stopwords"
   ]
  },
  {
   "cell_type": "markdown",
   "metadata": {},
   "source": [
    "# Reading the Data"
   ]
  },
  {
   "cell_type": "code",
   "execution_count": 4,
   "metadata": {},
   "outputs": [],
   "source": [
    "# 1. Reading the data\n",
    "data_df = pd.read_excel(r\"processed_data.xlsx\")\n",
    "data_df = data_df.dropna(subset=[\"Message\"])"
   ]
  },
  {
   "cell_type": "code",
   "execution_count": 5,
   "metadata": {},
   "outputs": [],
   "source": [
    "from sklearn.model_selection import train_test_split\n",
    "\n",
    "train, test = train_test_split(data_df, test_size=0.1)"
   ]
  },
  {
   "cell_type": "code",
   "execution_count": 6,
   "metadata": {},
   "outputs": [
    {
     "data": {
      "text/html": [
       "<div>\n",
       "<style scoped>\n",
       "    .dataframe tbody tr th:only-of-type {\n",
       "        vertical-align: middle;\n",
       "    }\n",
       "\n",
       "    .dataframe tbody tr th {\n",
       "        vertical-align: top;\n",
       "    }\n",
       "\n",
       "    .dataframe thead th {\n",
       "        text-align: right;\n",
       "    }\n",
       "</style>\n",
       "<table border=\"1\" class=\"dataframe\">\n",
       "  <thead>\n",
       "    <tr style=\"text-align: right;\">\n",
       "      <th></th>\n",
       "      <th>Message</th>\n",
       "      <th>Reason for Call</th>\n",
       "    </tr>\n",
       "  </thead>\n",
       "  <tbody>\n",
       "    <tr>\n",
       "      <th>4177</th>\n",
       "      <td>im trying find physical therapy doesnt seem pa...</td>\n",
       "      <td>Benefits</td>\n",
       "    </tr>\n",
       "    <tr>\n",
       "      <th>13774</th>\n",
       "      <td>im calling order otc shower chair back order n...</td>\n",
       "      <td>OTC</td>\n",
       "    </tr>\n",
       "    <tr>\n",
       "      <th>13322</th>\n",
       "      <td>saundoctora mclemore would like place order</td>\n",
       "      <td>OTC</td>\n",
       "    </tr>\n",
       "    <tr>\n",
       "      <th>7935</th>\n",
       "      <td>need know insurance numbers</td>\n",
       "      <td>Membership/Enrollment</td>\n",
       "    </tr>\n",
       "    <tr>\n",
       "      <th>5419</th>\n",
       "      <td>want talk someone would like talk somone 51388...</td>\n",
       "      <td>No Reason Given</td>\n",
       "    </tr>\n",
       "    <tr>\n",
       "      <th>...</th>\n",
       "      <td>...</td>\n",
       "      <td>...</td>\n",
       "    </tr>\n",
       "    <tr>\n",
       "      <th>16109</th>\n",
       "      <td>trying place order otc mother sally collins gi...</td>\n",
       "      <td>OTC</td>\n",
       "    </tr>\n",
       "    <tr>\n",
       "      <th>15904</th>\n",
       "      <td>need someone call cancellation need know whati...</td>\n",
       "      <td>Membership/Enrollment</td>\n",
       "    </tr>\n",
       "    <tr>\n",
       "      <th>6635</th>\n",
       "      <td>want cancel insurance please cancel insurance</td>\n",
       "      <td>Membership/Enrollment</td>\n",
       "    </tr>\n",
       "    <tr>\n",
       "      <th>20112</th>\n",
       "      <td>hi sandoctora logan trying find balance otc ca...</td>\n",
       "      <td>OTC</td>\n",
       "    </tr>\n",
       "    <tr>\n",
       "      <th>14722</th>\n",
       "      <td>okay youre taking premiums check medicare, med...</td>\n",
       "      <td>Monthly Premium</td>\n",
       "    </tr>\n",
       "  </tbody>\n",
       "</table>\n",
       "<p>20433 rows × 2 columns</p>\n",
       "</div>"
      ],
      "text/plain": [
       "                                                 Message  \\\n",
       "4177   im trying find physical therapy doesnt seem pa...   \n",
       "13774  im calling order otc shower chair back order n...   \n",
       "13322        saundoctora mclemore would like place order   \n",
       "7935                         need know insurance numbers   \n",
       "5419   want talk someone would like talk somone 51388...   \n",
       "...                                                  ...   \n",
       "16109  trying place order otc mother sally collins gi...   \n",
       "15904  need someone call cancellation need know whati...   \n",
       "6635       want cancel insurance please cancel insurance   \n",
       "20112  hi sandoctora logan trying find balance otc ca...   \n",
       "14722  okay youre taking premiums check medicare, med...   \n",
       "\n",
       "             Reason for Call  \n",
       "4177                Benefits  \n",
       "13774                    OTC  \n",
       "13322                    OTC  \n",
       "7935   Membership/Enrollment  \n",
       "5419         No Reason Given  \n",
       "...                      ...  \n",
       "16109                    OTC  \n",
       "15904  Membership/Enrollment  \n",
       "6635   Membership/Enrollment  \n",
       "20112                    OTC  \n",
       "14722        Monthly Premium  \n",
       "\n",
       "[20433 rows x 2 columns]"
      ]
     },
     "execution_count": 6,
     "metadata": {},
     "output_type": "execute_result"
    }
   ],
   "source": [
    "train"
   ]
  },
  {
   "cell_type": "markdown",
   "metadata": {},
   "source": [
    "# Data Preprocessing\n"
   ]
  },
  {
   "cell_type": "code",
   "execution_count": 7,
   "metadata": {},
   "outputs": [],
   "source": [
    "# 2. Data Preprocessing\n",
    "stop_words = stopwords.words(\"english\")\n",
    "stop_words_to_keep = [\"not\", \"no\"]\n",
    "stop_words = list(set(stop_words) - set(stop_words_to_keep))\n",
    "# custom_stopwords = ['claimid']     #Can I add refund, claim, paid into these\n",
    "# stop_words.extend(custom_stopwords)"
   ]
  },
  {
   "cell_type": "code",
   "execution_count": 8,
   "metadata": {},
   "outputs": [],
   "source": [
    "import re\n",
    "import nltk\n",
    "import string\n",
    "from nltk.corpus import stopwords\n",
    "from nltk.stem import WordNetLemmatizer\n",
    "from nltk.stem import PorterStemmer\n",
    "\n",
    "\n",
    "stop_words = stopwords.words(\"english\")\n",
    "stop_words_to_keep = [\"not\", \"no\"]\n",
    "stop_words = list(set(stop_words) - set(stop_words_to_keep))\n",
    "\n",
    "\n",
    "def has_numbers(token):\n",
    "    return any(char.isdigit() for char in token)\n",
    "\n",
    "\n",
    "def tokenize_text(book_text):\n",
    "    \"\"\"\n",
    "    Text Tokenization\n",
    "    input : sentence string\n",
    "    output : processed string\n",
    "    \"\"\"\n",
    "    TOKEN_PATTERN = r\"\\s+\"\n",
    "    regex_wt = nltk.RegexpTokenizer(pattern=TOKEN_PATTERN, gaps=True)\n",
    "    word_tokens = regex_wt.tokenize(book_text)\n",
    "    return word_tokens\n",
    "\n",
    "\n",
    "def remove_characters_after_tokenization(tokens):\n",
    "    \"\"\"\n",
    "    Removing characters like single quotes from an sentence\n",
    "    input : sentence string\n",
    "    output : processed string\n",
    "    \"\"\"\n",
    "    pattern = re.compile(\"[{}]\".format(re.escape(string.punctuation)))\n",
    "    filtered_tokens = filter(None, [pattern.sub(\"\", token) for token in tokens])\n",
    "    return filtered_tokens\n",
    "\n",
    "\n",
    "def remove_stopwords(tokens):\n",
    "    \"\"\"\n",
    "    removing stop words from a sentence\n",
    "    input : sentence string\n",
    "    output : processed string\n",
    "    \"\"\"\n",
    "\n",
    "    filtered_tokens = [token for token in tokens if token not in stop_words]\n",
    "    return filtered_tokens\n",
    "\n",
    "\n",
    "def apply_lemmatization(tokens, Ps=WordNetLemmatizer()):\n",
    "    \"\"\"\n",
    "    Applying lemmatization to a sentence\n",
    "    input : sentence string\n",
    "    output : processed string\n",
    "    \"\"\"\n",
    "    return [Ps.lemmatize(token) for token in tokens]\n",
    "\n",
    "\n",
    "def clean_text(text):\n",
    "    \"\"\"\n",
    "    Applying basic cleaning to the text\n",
    "    input : sentence string\n",
    "    output : processed string\n",
    "    \"\"\"\n",
    "    text = text.lower()\n",
    "    #     print(text)\n",
    "    tokens = tokenize_text(text)\n",
    "    #     print(tokens)\n",
    "    tokens = remove_characters_after_tokenization(tokens)\n",
    "\n",
    "    tokens = remove_stopwords(tokens)\n",
    "    tokens = apply_lemmatization(tokens)\n",
    "\n",
    "    text = \" \".join([token for token in tokens if not has_numbers(token)])\n",
    "    return text"
   ]
  },
  {
   "cell_type": "code",
   "execution_count": 10,
   "metadata": {},
   "outputs": [],
   "source": [
    "train[\"Message\"] = train[\"Message\"].apply(clean_text)"
   ]
  },
  {
   "cell_type": "markdown",
   "metadata": {},
   "source": [
    "# creating TFIDF VECTORS for the training data"
   ]
  },
  {
   "cell_type": "code",
   "execution_count": 11,
   "metadata": {},
   "outputs": [
    {
     "name": "stdout",
     "output_type": "stream",
     "text": [
      "97701\n"
     ]
    },
    {
     "name": "stderr",
     "output_type": "stream",
     "text": [
      "C:\\Users\\AG84960\\AppData\\Local\\conda\\conda\\envs\\voicemail_final\\lib\\site-packages\\sklearn\\utils\\deprecation.py:87: FutureWarning: Function get_feature_names is deprecated; get_feature_names is deprecated in 1.0 and will be removed in 1.2. Please use get_feature_names_out instead.\n",
      "  warnings.warn(msg, category=FutureWarning)\n"
     ]
    }
   ],
   "source": [
    "# 3. Feature creation or Feature Engineering\n",
    "vectorizer = TfidfVectorizer(\n",
    "    max_features=None, ngram_range=(1, 2), token_pattern=\"[a-zA-Z0-9&]+\"\n",
    ")\n",
    "vectorizer = vectorizer.fit(train[\"Message\"])\n",
    "tfidf_features = vectorizer.transform(train[\"Message\"])\n",
    "vocab = vectorizer.get_feature_names()\n",
    "print(len(vocab))"
   ]
  },
  {
   "cell_type": "code",
   "execution_count": 44,
   "metadata": {},
   "outputs": [],
   "source": [
    "import pickle\n",
    "\n",
    "pickle.dump(vocab, open(\"voicemail_vocab.pkl\", \"wb\"))"
   ]
  },
  {
   "cell_type": "markdown",
   "metadata": {},
   "source": [
    "# anchor words creation"
   ]
  },
  {
   "cell_type": "code",
   "execution_count": 21,
   "metadata": {},
   "outputs": [],
   "source": [
    "anchor_words_dict_old = {\n",
    "    \"Claim\": [\n",
    "        \"bill\",\n",
    "        \"claim\",\n",
    "        \"calling claim\",\n",
    "        \"calling bill\",\n",
    "        \"received bill\",\n",
    "        \"got bill\",\n",
    "        \"billed\",\n",
    "    ],\n",
    "    \"Benefits\": [\"benefit\", \"dental\", \"vision\", \"coverage\"],\n",
    "    \"Grievance and/or Appeal\": [\n",
    "        \"grievance\",\n",
    "        \"appeal\",\n",
    "        \"complaint\",\n",
    "        \"file grievance\",\n",
    "        \"filed\",\n",
    "    ],\n",
    "    \"Membership/Enrollment\": [\"plan\", \"insurance\", \"enrollment\", \"policy\", \"enrolled\"],\n",
    "    \"OTC\": [\"order\", \"otc\", \"otc card\", \"place otc\", \"place order\"],\n",
    "    \"ID Card\": [\"card\", \"id card\", \"need new\", \"card need\", \"new id\"],\n",
    "    \"Need Case Management\": [\n",
    "        \"case manager\",\n",
    "        \"manager\",\n",
    "        \"case management\",\n",
    "        \"assessment\",\n",
    "        \"risk assessment\",\n",
    "    ],\n",
    "    \"EE Benefits\": [\"extra benefit\", \"healthy\", \"healthy benefit\"],\n",
    "    \"Authorization\": [\"authorization\", \"approved\", \"approval\"],\n",
    "    \"RX/Pharmacy\": [\n",
    "        \"rx\",\n",
    "        \"pharmacy\",\n",
    "        \"prescription\",\n",
    "        \"medication\",\n",
    "        \"medicine\",\n",
    "        \"get prescription\",\n",
    "        \"need prescription\",\n",
    "    ],\n",
    "    \"Provider\": [\"provider\", \"network\", \"pcp\", \"change pcp\"],\n",
    "    \"Transportation\": [\n",
    "        \"ride\",\n",
    "        \"need ride\",\n",
    "        \"transportation\",\n",
    "        \"need transportation\",\n",
    "        \"calling transportation\",\n",
    "        \"trip\",\n",
    "        \"get transportation\",\n",
    "    ],\n",
    "    \"Nurse Line\": [\"nurse\", \"nurse line\", \"line\", \"need nurse\"],\n",
    "    \"Access to Care\": [\"appointment\", \"care\", \"need help\", \"need speak\"],\n",
    "    \"Monthly Premium\": [\n",
    "        \"premium\",\n",
    "        \"make payment\",\n",
    "        \"premium payment\",\n",
    "        \"trying make payment\",\n",
    "    ],\n",
    "}"
   ]
  },
  {
   "cell_type": "code",
   "execution_count": null,
   "metadata": {},
   "outputs": [],
   "source": [
    "anchor_words_dict = {\n",
    "    \"Claim\": [\n",
    "        \"bill\",\n",
    "        \"claim\",\n",
    "        \"calling claim\",\n",
    "        \"calling bill\",\n",
    "        \"received bill\",\n",
    "        \"got bill\",\n",
    "        \"billed\",\n",
    "        \"payment denial\",\n",
    "        \"service denied\",\n",
    "        \"claim\",\n",
    "        \"bill\",\n",
    "        \"denied coverage\",\n",
    "        \"procedure denied\",\n",
    "    ],\n",
    "    \"Benefits\": [\"benefit\", \"dental\", \"vision\", \"coverage\"],\n",
    "    \"Grievance and/or Appeal\": [\n",
    "        \"grievance\",\n",
    "        \"appeal\",\n",
    "        \"complaint\",\n",
    "        \"file grievance\",\n",
    "        \"filed\",\n",
    "        \"dispute\",\n",
    "    ],\n",
    "    \"Membership/Enrollment\": [\n",
    "        \"plan\",\n",
    "        \"insurance\",\n",
    "        \"enrollment\",\n",
    "        \"policy\",\n",
    "        \"enrolled\",\n",
    "        \"disenrolled\",\n",
    "        \"new member\",\n",
    "        \"(anthem) idcard\",\n",
    "        \"cancel plan\",\n",
    "        \"cancel insurance\",\n",
    "        \"cancel enrollment\",\n",
    "        \"Send idcard\",\n",
    "        \"sign anthem\",\n",
    "        \"address change ,ask plan\",\n",
    "        \"change plan\",\n",
    "    ],\n",
    "    \"OTC\": [\n",
    "        \"order\",\n",
    "        \"otc\",\n",
    "        \"otc card\",\n",
    "        \"place otc\",\n",
    "        \"place order\",\n",
    "        \"activate OTC\",\n",
    "        \"OTC benefits\",\n",
    "        \"Lost OTC card\",\n",
    "        \"cancel OTC card\",\n",
    "        \"order catalog\",\n",
    "    ],\n",
    "    \"ID Card\": [\"card\", \"id card\", \"need new\", \"card need\", \"new id\"],\n",
    "    \"Need Case Management\": [\n",
    "        \"case manager\",\n",
    "        \"manager\",\n",
    "        \"case management\",\n",
    "        \"assessment\",\n",
    "        \"risk assessment\",\n",
    "    ],\n",
    "    \"EE Benefits\": [\"extra benefit\", \"healthy\", \"healthy benefit\", \"grocery benefits\"],\n",
    "    \"Authorization\": [\n",
    "        \"authorization\",\n",
    "        \"approved\",\n",
    "        \"approval\",\n",
    "        \"Auth form\",\n",
    "        \"Preauthorization\",\n",
    "    ],\n",
    "    \"RX/Pharmacy\": [\n",
    "        \"rx\",\n",
    "        \"pharmacy\",\n",
    "        \"prescription\",\n",
    "        \"medication\",\n",
    "        \"medicine\",\n",
    "        \"get prescription\",\n",
    "        \"need prescription\",\n",
    "        \"refill prescriptions\",\n",
    "        \"Place order\",\n",
    "        \"medicine\",\n",
    "        \"refill prescription\",\n",
    "    ],\n",
    "    \"Provider\": [\"provider\", \"network\", \"pcp\", \"change pcp\"],\n",
    "    \"Transportation\": [\n",
    "        \"ride\",\n",
    "        \"need ride\",\n",
    "        \"transportation\",\n",
    "        \"need transportation\",\n",
    "        \"calling transportation\",\n",
    "        \"trip\",\n",
    "        \"get transportation\",\n",
    "        \"Doctor\",\n",
    "        \"dentist\",\n",
    "        \"doctor plan\",\n",
    "        \"doctor area\",\n",
    "        \"provider list\",\n",
    "        \"Primary care physicians(PCP),Primary care doctor\",\n",
    "        \"referral doctor\",\n",
    "        \"chiropractor\",\n",
    "        \"eye doctor\",\n",
    "        \"ear doctor\",\n",
    "        \"Psychiatrist\",\n",
    "        \"provider directory\",\n",
    "    ],\n",
    "    \"Nurse Line\": [\"nurse\", \"nurse line\", \"line\", \"need nurse\"],\n",
    "    \"Access to Care\": [\n",
    "        \"appointment\",\n",
    "        \"care\",\n",
    "        \"need help\",\n",
    "        \"need speak\",\n",
    "        \"transportation\",\n",
    "        \"need transportation\",\n",
    "        \"Ride scheduled\",\n",
    "        \"need cab\",\n",
    "        \"round trip\",\n",
    "        \"pick\",\n",
    "    ],\n",
    "    \"Monthly Premium\": [\n",
    "        \"premium\",\n",
    "        \"make payment\",\n",
    "        \"premium payment\",\n",
    "        \"trying make payment\",\n",
    "    ],\n",
    "}"
   ]
  },
  {
   "cell_type": "code",
   "execution_count": null,
   "metadata": {},
   "outputs": [],
   "source": [
    "# please use below updated dictionary for training\n",
    "anchor_words_dict_updated = {\n",
    "    \"Claim\": [\n",
    "        \"bill\",\n",
    "        \"claim\",\n",
    "        \"calling claim\",\n",
    "        \"calling bill\",\n",
    "        \"received bill\",\n",
    "        \"got bill\",\n",
    "        \"billed\",\n",
    "        \"payment denial\",\n",
    "        \"service denied\",\n",
    "        \"claim\",\n",
    "        \"bill\",\n",
    "        \"denied coverage\",\n",
    "        \"procedure denied\",\n",
    "    ],\n",
    "    \"Benefits\": [\n",
    "        \"benefit\",\n",
    "        \"dental\",\n",
    "        \"vision\",\n",
    "        \"coverage\",\n",
    "        \"not covered\",\n",
    "        \"need to know\",\n",
    "        \"benefit statement\",\n",
    "        \"inquire about benefits\",\n",
    "        \"Calling regarding coverage\",\n",
    "        \"Calling regarding services\",\n",
    "        \"Calling about benefits\",\n",
    "        \"2022 benefits\",\n",
    "        \"benefits under my insurance\",\n",
    "        \"vison benefits\",\n",
    "        \"dental benefits\",\n",
    "        \"benefits for next year\",\n",
    "        \"international benefits\",\n",
    "    ],\n",
    "    \"Grievance and/or Appeal\": [\n",
    "        \"grievance\",\n",
    "        \"appeal\",\n",
    "        \"complaint\",\n",
    "        \"file grievance\",\n",
    "        \"filed\",\n",
    "        \"dispute\",\n",
    "        \"upset\",\n",
    "        \"taking so long\",\n",
    "        \"called a few times\",\n",
    "        \"no one gets back to me\",\n",
    "    ],\n",
    "    \"Membership/Enrollment\": [\n",
    "        \"plan\",\n",
    "        \"insurance\",\n",
    "        \"enrollment\",\n",
    "        \"policy\",\n",
    "        \"enrolled\",\n",
    "        \"disenrolled\",\n",
    "        \"new member\",\n",
    "        \"(anthem) idcard\",\n",
    "        \"cancel plan\",\n",
    "        \"cancel insurance\",\n",
    "        \"cancel enrollment\",\n",
    "        \"Send idcard\",\n",
    "        \"sign anthem\",\n",
    "        \"address change ,ask plan\",\n",
    "        \"change plan\",\n",
    "        \"No activePlan\",\n",
    "        \"cancel policy\",\n",
    "        \"disenroll\",\n",
    "        \"original medicare\",\n",
    "    ],\n",
    "    \"OTC\": [\n",
    "        \"order\",\n",
    "        \"otc\",\n",
    "        \"otc card\",\n",
    "        \"place otc\",\n",
    "        \"place order\",\n",
    "        \"activate OTC\",\n",
    "        \"OTC benefits\",\n",
    "        \"Lost OTC card\",\n",
    "        \"cancel OTC\",\n",
    "        \"order catalog\",\n",
    "    ],\n",
    "    \"ID Card\": [\"card\", \"id card\", \"need new\", \"card need\", \"new id\"],\n",
    "    \"Need Case Management\": [\n",
    "        \"case manager\",\n",
    "        \"manager\",\n",
    "        \"case management\",\n",
    "        \"assessment\",\n",
    "        \"risk assessment\",\n",
    "        \"speak\",\n",
    "        \"social worker\",\n",
    "        \"regarding my case manager\",\n",
    "        \"Case worker\",\n",
    "        \"case representative\",\n",
    "        \"speak representative\",\n",
    "        \"case manager\",\n",
    "        \"HRA\",\n",
    "        \"health risk\",\n",
    "        \"risk assessment\",\n",
    "    ],\n",
    "    \"EE Benefits\": [\n",
    "        \"extra benefit\",\n",
    "        \"healthy\",\n",
    "        \"healthy benefit\",\n",
    "        \"grocery benefits\",\n",
    "        \"Transportation\",\n",
    "        \"personal home helpers\",\n",
    "        \"Flex cards\",\n",
    "        \"Healthy meals\",\n",
    "        \"Healthy grocery\",\n",
    "        \"healthy pantary\",\n",
    "        \"extra benefit\" \",\" \"healthy\" \",\" \"healthy benefit\",\n",
    "    ],\n",
    "    \"Authorization\": [\n",
    "        \"authorization\",\n",
    "        \"approved\",\n",
    "        \"approval\",\n",
    "        \"Auth form\",\n",
    "        \"Preauthorization\",\n",
    "        \"Check authStatus\",\n",
    "        \"Denial authorization\",\n",
    "        \"denied authorization\",\n",
    "        \"denial letter\",\n",
    "        \"why was this denied\",\n",
    "    ],\n",
    "    \"RX/Pharmacy\": [\n",
    "        \"rx\",\n",
    "        \"pharmacy\",\n",
    "        \"prescription\",\n",
    "        \"medication\",\n",
    "        \"medicine\",\n",
    "        \"get prescription\",\n",
    "        \"need prescription\",\n",
    "        \"refill prescriptions\",\n",
    "        \"Place order\",\n",
    "        \"medicine\",\n",
    "        \"refill prescription\",\n",
    "    ],\n",
    "    \"Provider\": [\n",
    "        \"provider\",\n",
    "        \"network\",\n",
    "        \"pcp\",\n",
    "        \"change pcp\",\n",
    "        \"Trauma centre\",\n",
    "        \"Doctors number\",\n",
    "        \"doctor list\",\n",
    "        \"Assigned PCP\",\n",
    "        \"Calling about Vision\",\n",
    "        \"emergency room\",\n",
    "        \"primary physician\",\n",
    "        \"network provider guide \",\n",
    "        \"provider pharmacy directory\",\n",
    "        \"Change PCP\",\n",
    "        \"dermatologist in area\",\n",
    "        \"dermatologist in network\",\n",
    "        \"provider for oral surgery\",\n",
    "        \"retna specialist\",\n",
    "        \"therapy appointment\",\n",
    "        \"neurologist\",\n",
    "        \"Urgent care\",\n",
    "        \"Change Provider\",\n",
    "        \"dental appointment\",\n",
    "        \"cardiologist appointment\",\n",
    "        \"vision place\",\n",
    "    ],\n",
    "    \"Transportation\": [\n",
    "        \"ride\",\n",
    "        \"need ride\",\n",
    "        \"transportation\",\n",
    "        \"need transportation\",\n",
    "        \"calling transportation\",\n",
    "        \"trip\",\n",
    "        \"get transportation\",\n",
    "        \"Doctor\",\n",
    "        \"dentist\",\n",
    "        \"doctor plan\",\n",
    "        \"doctor area\",\n",
    "        \"provider list\",\n",
    "        \"Primary care physicians(PCP)\",\n",
    "        \"Primary care doctor\",\n",
    "        \"referral doctor\",\n",
    "        \"chiropractor\",\n",
    "        \"eye doctor\",\n",
    "        \"ear doctor\",\n",
    "        \"Psychiatrist\",\n",
    "        \"provider directory\",\n",
    "    ],\n",
    "    \"Nurse Line\": [\n",
    "        \"nurse\",\n",
    "        \"nurse line\",\n",
    "        \"line\",\n",
    "        \"need nurse\",\n",
    "        \"need to speak to a nurse\",\n",
    "    ],\n",
    "    \"Access to Care\": [\n",
    "        \"appointment\",\n",
    "        \"care\",\n",
    "        \"need help\",\n",
    "        \"need speak\",\n",
    "        \"transportation\",\n",
    "        \"need transportation\",\n",
    "        \"Ride scheduled\",\n",
    "        \"need cab\",\n",
    "        \"round trip\",\n",
    "        \"pick\",\n",
    "        \"No access to doctor\",\n",
    "        \"Need Help\",\n",
    "        \"Appointment\",\n",
    "        \"speak to representative\",\n",
    "    ],\n",
    "    \"Monthly Premium\": [\n",
    "        \"premium\",\n",
    "        \"make payment\",\n",
    "        \"premium payment\",\n",
    "        \"trying payment\",\n",
    "        \"premium payment\",\n",
    "        \"pay bill\",\n",
    "        \"premium bill\",\n",
    "        \"questions premium\",\n",
    "        \"premium withholding\",\n",
    "        \"missing a payment\",\n",
    "        \"auto pay premium\",\n",
    "        \"premium question\",\n",
    "        \"extra penalty for drugs coverage\",\n",
    "        \"premium payment\",\n",
    "        \" Make Payment\",\n",
    "        \"pay bill\",\n",
    "        \" premium bill\",\n",
    "        \"questions about premium\",\n",
    "        \"premium withholding\",\n",
    "        \"missing a payment\",\n",
    "        \" auto pay - premium\",\n",
    "        \"premium question\",\n",
    "    ],\n",
    "}"
   ]
  },
  {
   "cell_type": "code",
   "execution_count": 13,
   "metadata": {},
   "outputs": [
    {
     "data": {
      "text/plain": [
       "['Claim',\n",
       " 'Benefits',\n",
       " 'Grievance and/or Appeal',\n",
       " 'Membership/Enrollment',\n",
       " 'OTC',\n",
       " 'ID Card',\n",
       " 'Need Case Management',\n",
       " 'EE Benefits',\n",
       " 'Authorization',\n",
       " 'RX/Pharmacy',\n",
       " 'Provider',\n",
       " 'Transportation',\n",
       " 'Nurse Line',\n",
       " 'Access to Care',\n",
       " 'Monthly Premium']"
      ]
     },
     "execution_count": 13,
     "metadata": {},
     "output_type": "execute_result"
    }
   ],
   "source": [
    "list(anchor_words_dict.keys())"
   ]
  },
  {
   "cell_type": "code",
   "execution_count": 14,
   "metadata": {},
   "outputs": [],
   "source": [
    "for topic in anchor_words_dict:\n",
    "    for ind in range(len(anchor_words_dict[topic])):\n",
    "\n",
    "        anchor_words_dict[topic][ind] = clean_text(anchor_words_dict[topic][ind])"
   ]
  },
  {
   "cell_type": "code",
   "execution_count": 15,
   "metadata": {},
   "outputs": [
    {
     "data": {
      "text/plain": [
       "['Claim',\n",
       " 'Benefits',\n",
       " 'Grievance and/or Appeal',\n",
       " 'Membership/Enrollment',\n",
       " 'OTC',\n",
       " 'ID Card',\n",
       " 'Need Case Management',\n",
       " 'EE Benefits',\n",
       " 'Authorization',\n",
       " 'RX/Pharmacy',\n",
       " 'Provider',\n",
       " 'Transportation',\n",
       " 'Nurse Line',\n",
       " 'Access to Care',\n",
       " 'Monthly Premium']"
      ]
     },
     "execution_count": 15,
     "metadata": {},
     "output_type": "execute_result"
    }
   ],
   "source": [
    "list(anchor_words_dict.keys())"
   ]
  },
  {
   "cell_type": "code",
   "execution_count": 16,
   "metadata": {},
   "outputs": [
    {
     "name": "stdout",
     "output_type": "stream",
     "text": [
      "[]\n"
     ]
    }
   ],
   "source": [
    "# To check if a anchor word contains any stop words. We have to handle them if we find any such\n",
    "def get_anchor_words_with_stopwords():\n",
    "    anchor_words_with_stopwords = []\n",
    "    stop_words_set = set(stop_words)\n",
    "    for topic in anchor_words_dict.keys():\n",
    "        for key_word in anchor_words_dict[topic]:\n",
    "            if len(stop_words_set.intersection(set(key_word.split()))) > 0:\n",
    "\n",
    "                print(\n",
    "                    stop_words_set.intersection(set(key_word.split())),\n",
    "                    \" exists in \",\n",
    "                    key_word,\n",
    "                    topic,\n",
    "                )\n",
    "                anchor_words_with_stopwords.append(key_word)\n",
    "\n",
    "    return anchor_words_with_stopwords\n",
    "\n",
    "\n",
    "print(get_anchor_words_with_stopwords())"
   ]
  },
  {
   "cell_type": "code",
   "execution_count": 17,
   "metadata": {},
   "outputs": [],
   "source": [
    "anchor_words = list(anchor_words_dict.values())"
   ]
  },
  {
   "cell_type": "markdown",
   "metadata": {},
   "source": [
    "# Building the model"
   ]
  },
  {
   "cell_type": "code",
   "execution_count": 18,
   "metadata": {},
   "outputs": [],
   "source": [
    "# 5. Building the model\n",
    "def build_model_with_anchor_words(num_of_topics, anchor_words):\n",
    "    corex_model = ct.Corex(n_hidden=num_of_topics, seed=3)\n",
    "    corex_model = corex_model.fit(\n",
    "        tfidf_features,\n",
    "        words=vocab,\n",
    "        anchors=anchor_words,  # Pass the anchors in here\n",
    "        anchor_strength=1000,  # Tell the model how much it should rely on the anchors\n",
    "    )\n",
    "    return corex_model"
   ]
  },
  {
   "cell_type": "code",
   "execution_count": 11,
   "metadata": {},
   "outputs": [],
   "source": [
    "# 5. Building the model without topics\n",
    "def build_model_with_anchor_words_without_anchor_words(num_of_topics):\n",
    "    corex_model = ct.Corex(n_hidden=num_of_topics, seed=10)\n",
    "    corex_model = corex_model.fit(\n",
    "        tfidf_features,\n",
    "        words=vocab\n",
    "        # Pass the anchors in here\n",
    "        # Tell the model how much it should rely on the anchors\n",
    "    )\n",
    "    return corex_model"
   ]
  },
  {
   "cell_type": "code",
   "execution_count": 19,
   "metadata": {
    "scrolled": true
   },
   "outputs": [],
   "source": [
    "# Displaying the topics and top words within it\n",
    "def display_topics_and_words(model, max_n_words):\n",
    "    for i, topic_ngrams in enumerate(model.get_topics(n_words=max_n_words)):\n",
    "        topic_ngrams = [ngram[0] for ngram in topic_ngrams if ngram[1] > 0]\n",
    "        print(\"Topic #{}: {}\".format(i + 1, \", \".join(topic_ngrams)))"
   ]
  },
  {
   "cell_type": "code",
   "execution_count": 20,
   "metadata": {},
   "outputs": [
    {
     "name": "stdout",
     "output_type": "stream",
     "text": [
      "WARNING: Anchor word not in word column labels provided to CorEx: service denied\n",
      "WARNING: Anchor word not in word column labels provided to CorEx: procedure denied\n",
      "WARNING: Anchor word not in word column labels provided to CorEx: (anthem) idcard\n",
      "WARNING: Anchor word not in word column labels provided to CorEx: send idcard\n",
      "WARNING: Anchor word not in word column labels provided to CorEx: address change ,ask plan\n",
      "WARNING: Anchor word not in word column labels provided to CorEx: lost otc card\n",
      "WARNING: Anchor word not in word column labels provided to CorEx: cancel otc card\n",
      "WARNING: Anchor word not in word column labels provided to CorEx: grocery benefits\n",
      "WARNING: Anchor word not in word column labels provided to CorEx: provider list\n",
      "WARNING: Anchor word not in word column labels provided to CorEx: primary care physicians(pcp),primary care doctor\n",
      "WARNING: Anchor word not in word column labels provided to CorEx: referral doctor\n",
      "WARNING: Anchor word not in word column labels provided to CorEx: trying make payment\n"
     ]
    }
   ],
   "source": [
    "corex_model = build_model_with_anchor_words(15, anchor_words)"
   ]
  },
  {
   "cell_type": "code",
   "execution_count": 71,
   "metadata": {},
   "outputs": [],
   "source": [
    "corex_model_without = build_model_with_anchor_words_without(15)"
   ]
  },
  {
   "cell_type": "code",
   "execution_count": 38,
   "metadata": {},
   "outputs": [
    {
     "data": {
      "text/plain": [
       "247.5436286638524"
      ]
     },
     "execution_count": 38,
     "metadata": {},
     "output_type": "execute_result"
    }
   ],
   "source": [
    "corex_model.tc"
   ]
  },
  {
   "cell_type": "code",
   "execution_count": 22,
   "metadata": {},
   "outputs": [
    {
     "data": {
      "text/plain": [
       "522.8564035297404"
      ]
     },
     "execution_count": 22,
     "metadata": {},
     "output_type": "execute_result"
    }
   ],
   "source": [
    "corex_model.tc"
   ]
  },
  {
   "cell_type": "code",
   "execution_count": 41,
   "metadata": {},
   "outputs": [
    {
     "data": {
      "text/plain": [
       "522.8564035297404"
      ]
     },
     "execution_count": 41,
     "metadata": {},
     "output_type": "execute_result"
    }
   ],
   "source": [
    "corex_model.tc"
   ]
  },
  {
   "cell_type": "code",
   "execution_count": 39,
   "metadata": {},
   "outputs": [],
   "source": [
    "corex_model.save(\"corex_final_v2.pkl\")"
   ]
  },
  {
   "cell_type": "code",
   "execution_count": 86,
   "metadata": {},
   "outputs": [],
   "source": [
    "import pickle"
   ]
  },
  {
   "cell_type": "code",
   "execution_count": 65,
   "metadata": {},
   "outputs": [],
   "source": [
    "with open(r\"new_corex.pkl\", \"wb\") as f:\n",
    "    pickle.dump(corex_model)\n",
    "\n",
    "# mode = pickle.loads(r'new_corex.pkl')"
   ]
  },
  {
   "cell_type": "code",
   "execution_count": null,
   "metadata": {},
   "outputs": [],
   "source": [
    "[\n",
    "    \"Benefits\",\n",
    "    \"Grievance and/or Appeal\",\n",
    "    \"Membership/Enrollment\",\n",
    "    \"Provider\",\n",
    "    \"RX/Pharmacy\",\n",
    "    \"Nurse Line\",\n",
    "    \"Authorization\",\n",
    "    \"Claim\",\n",
    "    \"Transportation\",\n",
    "    \"OTC\",\n",
    "    \"ID Card\",\n",
    "    \"Need Case Management\",\n",
    "    \"EE Benefits\",\n",
    "    \"Access to Care\",\n",
    "    \"Monthly Premium\",\n",
    "]"
   ]
  },
  {
   "cell_type": "code",
   "execution_count": 23,
   "metadata": {},
   "outputs": [
    {
     "name": "stdout",
     "output_type": "stream",
     "text": [
      "Topic #1: bill, claim, calling bill, got bill, calling claim, received bill, billed, payment denial\n",
      "Topic #2: coverage, dental, benefit, vision, benefit card, otc benefit, vision benefits, dental coverage\n",
      "Topic #3: grievance, appeal, complaint, file grievance, filed, file, calling grievance, want file\n",
      "Topic #4: plan, insurance, enrollment, enrolled, cancel plan, disenrolled, new member, cancel insurance\n",
      "Topic #5: order, otc, place order, otc card, place otc, otc benefits, activate otc, order catalog\n",
      "Topic #6: card, id card, need new, card need, new id, activate, use, card please\n",
      "Topic #7: assessment, manager, case manager, risk assessment, case management, case, health risk, risk\n",
      "Topic #8: healthy, healthy benefit, extra benefit, healthy benefits, benefits, calling healthy, order healthy, healthy meals\n",
      "Topic #9: approved, authorization, approval, need approval, get authorization, need authorization, prior authorization, pre approval\n",
      "Topic #10: place order, pharmacy, prescription, medicine, rx, need prescription, get prescription, refill prescription\n",
      "Topic #11: pcp, provider, network, change pcp, directory, change, need provider, new pcp\n",
      "Topic #12: transportation, doctor, ride, need transportation, calling transportation, need ride, dentist, trip\n",
      "Topic #13: nurse, line, nurse line, need nurse, talk nurse, speak nurse, nurse please, calling nurse\n",
      "Topic #14: transportation, appointment, need speak, need help, need transportation, pick, ride scheduled, need cab\n",
      "Topic #15: premium, make payment, premium payment, payment, make, pay premium, make premium, trying make\n"
     ]
    }
   ],
   "source": [
    "display_topics_and_words(corex_model, max_n_words=8)"
   ]
  },
  {
   "cell_type": "code",
   "execution_count": 21,
   "metadata": {},
   "outputs": [],
   "source": [
    "# display_topics_and_words(corex_model, max_n_words=8)"
   ]
  },
  {
   "cell_type": "code",
   "execution_count": null,
   "metadata": {},
   "outputs": [],
   "source": []
  },
  {
   "cell_type": "code",
   "execution_count": 43,
   "metadata": {},
   "outputs": [
    {
     "data": {
      "text/plain": [
       "247.5436286638524"
      ]
     },
     "execution_count": 43,
     "metadata": {},
     "output_type": "execute_result"
    }
   ],
   "source": [
    "corex_model.tc"
   ]
  },
  {
   "cell_type": "code",
   "execution_count": 24,
   "metadata": {},
   "outputs": [],
   "source": [
    "# # 6. Evaluation metrics for identifing optimal number of topics\n",
    "# # Total Correlation\n",
    "# # Coherence\n",
    "def get_total_correlation(corex_model):\n",
    "    return corex_model.tc\n",
    "\n",
    "\n",
    "def compute_coherence(documents, corex_model):\n",
    "    from gensim.models.coherencemodel import CoherenceModel\n",
    "    from gensim import corpora\n",
    "\n",
    "    # Creating the term dictionary, where every unique term is assigned an index\n",
    "    dictionary = corpora.Dictionary(documents)\n",
    "\n",
    "    # Creating corpus using dictionary prepared above\n",
    "    corpus = [dictionary.doc2bow(doc) for doc in documents]\n",
    "\n",
    "    # Get top words for each topic from the trained corex model\n",
    "    topics = corex_model.get_topics(n_words=100)\n",
    "    corex_topic_words = [[word for word, tc, sign in topic] for topic in topics]\n",
    "\n",
    "    # Get coherence score\n",
    "    cm_corex = CoherenceModel(\n",
    "        topics=corex_topic_words,\n",
    "        texts=documents,\n",
    "        corpus=corpus,\n",
    "        dictionary=dictionary,\n",
    "        coherence=\"c_v\",\n",
    "    )\n",
    "    coherence_score = cm_corex.get_coherence()\n",
    "    return coherence_score"
   ]
  },
  {
   "cell_type": "code",
   "execution_count": 19,
   "metadata": {},
   "outputs": [],
   "source": [
    "# Storing n-gram features that can be used in calculating coherence score\n",
    "doc_features = vectorizer.inverse_transform(tfidf_features)"
   ]
  },
  {
   "cell_type": "code",
   "execution_count": 25,
   "metadata": {},
   "outputs": [],
   "source": [
    "### Model prediction / Inference\n",
    "predictions = corex_model.predict(tfidf_features)\n",
    "# Selecting the first topic among all other possible topics for the given document\n",
    "predicted_labels = [\n",
    "    np.where(pred)[0][0] if len(np.where(pred)[0]) > 0 else -1 for pred in predictions\n",
    "]"
   ]
  },
  {
   "cell_type": "code",
   "execution_count": 63,
   "metadata": {},
   "outputs": [],
   "source": [
    "predictions = corex_model.predict(tfidf_features)"
   ]
  },
  {
   "cell_type": "code",
   "execution_count": 38,
   "metadata": {},
   "outputs": [],
   "source": [
    "predictions = corex_model.predict_proba(tfidf_features)"
   ]
  },
  {
   "cell_type": "code",
   "execution_count": 27,
   "metadata": {},
   "outputs": [
    {
     "data": {
      "text/plain": [
       "['Claim',\n",
       " 'Benefits',\n",
       " 'Grievance and/or Appeal',\n",
       " 'Membership/Enrollment',\n",
       " 'OTC',\n",
       " 'ID Card',\n",
       " 'Need Case Management',\n",
       " 'EE Benefits',\n",
       " 'Authorization',\n",
       " 'RX/Pharmacy',\n",
       " 'Provider',\n",
       " 'Transportation',\n",
       " 'Nurse Line',\n",
       " 'Access to Care',\n",
       " 'Monthly Premium']"
      ]
     },
     "execution_count": 27,
     "metadata": {},
     "output_type": "execute_result"
    }
   ],
   "source": [
    "list(anchor_words_dict.keys())"
   ]
  },
  {
   "cell_type": "code",
   "execution_count": 28,
   "metadata": {},
   "outputs": [],
   "source": [
    "categories = [\n",
    "    \"Claim\",\n",
    "    \"Benefits\",\n",
    "    \"Grievance and/or Appeal\",\n",
    "    \"Membership/Enrollment\",\n",
    "    \"OTC\",\n",
    "    \"ID Card\",\n",
    "    \"Need Case Management\",\n",
    "    \"EE Benefits\",\n",
    "    \"Authorization\",\n",
    "    \"RX/Pharmacy\",\n",
    "    \"Provider\",\n",
    "    \"Transportation\",\n",
    "    \"Nurse Line\",\n",
    "    \"Access to Care\",\n",
    "    \"Monthly Premium\",\n",
    "]"
   ]
  },
  {
   "cell_type": "code",
   "execution_count": 29,
   "metadata": {},
   "outputs": [],
   "source": [
    "# Topics to categories mapping\n",
    "predicted_topics = [\n",
    "    categories[label] if label >= 0 else \"Unknown category\"\n",
    "    for label in predicted_labels\n",
    "]\n",
    "# data_df['predicted_category'] = predicted_topics\n",
    "train[\"predicted_category\"] = predicted_topics"
   ]
  },
  {
   "cell_type": "code",
   "execution_count": 45,
   "metadata": {},
   "outputs": [],
   "source": [
    "test.to_excel(\"test.xlsx\")"
   ]
  },
  {
   "cell_type": "markdown",
   "metadata": {},
   "source": [
    "# accuracy and precision calculations"
   ]
  },
  {
   "cell_type": "code",
   "execution_count": 1,
   "metadata": {},
   "outputs": [],
   "source": [
    "import pandas as pd"
   ]
  },
  {
   "cell_type": "code",
   "execution_count": 31,
   "metadata": {},
   "outputs": [],
   "source": [
    "df_pred = pd.read_excel(\"end_Result_train.xlsx\")"
   ]
  },
  {
   "cell_type": "code",
   "execution_count": 86,
   "metadata": {},
   "outputs": [
    {
     "data": {
      "text/html": [
       "<div>\n",
       "<style scoped>\n",
       "    .dataframe tbody tr th:only-of-type {\n",
       "        vertical-align: middle;\n",
       "    }\n",
       "\n",
       "    .dataframe tbody tr th {\n",
       "        vertical-align: top;\n",
       "    }\n",
       "\n",
       "    .dataframe thead th {\n",
       "        text-align: right;\n",
       "    }\n",
       "</style>\n",
       "<table border=\"1\" class=\"dataframe\">\n",
       "  <thead>\n",
       "    <tr style=\"text-align: right;\">\n",
       "      <th></th>\n",
       "      <th>Unnamed: 0</th>\n",
       "      <th>Message</th>\n",
       "      <th>Reason for Call</th>\n",
       "      <th>Reason for Call list</th>\n",
       "      <th>predicted_category</th>\n",
       "    </tr>\n",
       "  </thead>\n",
       "  <tbody>\n",
       "    <tr>\n",
       "      <th>0</th>\n",
       "      <td>2506</td>\n",
       "      <td>husband needs know otc balance</td>\n",
       "      <td>OTC</td>\n",
       "      <td>[OTC]</td>\n",
       "      <td>OTC</td>\n",
       "    </tr>\n",
       "    <tr>\n",
       "      <th>1</th>\n",
       "      <td>2712</td>\n",
       "      <td>trying find number lady computer wants? card n...</td>\n",
       "      <td>OTC</td>\n",
       "      <td>[OTC]</td>\n",
       "      <td>OTC</td>\n",
       "    </tr>\n",
       "    <tr>\n",
       "      <th>2</th>\n",
       "      <td>16862</td>\n",
       "      <td>helloo? hello? need know balance please</td>\n",
       "      <td>OTC</td>\n",
       "      <td>[OTC]</td>\n",
       "      <td>Unknown category</td>\n",
       "    </tr>\n",
       "    <tr>\n",
       "      <th>3</th>\n",
       "      <td>10024</td>\n",
       "      <td>would like make payment itis due today</td>\n",
       "      <td>Monthly Premium</td>\n",
       "      <td>[Monthly Premium]</td>\n",
       "      <td>Monthly Premium</td>\n",
       "    </tr>\n",
       "    <tr>\n",
       "      <th>4</th>\n",
       "      <td>20406</td>\n",
       "      <td>carl paulson one two questions someone call back</td>\n",
       "      <td>No Reason Given</td>\n",
       "      <td>[No Reason Given]</td>\n",
       "      <td>Unknown category</td>\n",
       "    </tr>\n",
       "    <tr>\n",
       "      <th>...</th>\n",
       "      <td>...</td>\n",
       "      <td>...</td>\n",
       "      <td>...</td>\n",
       "      <td>...</td>\n",
       "      <td>...</td>\n",
       "    </tr>\n",
       "    <tr>\n",
       "      <th>18158</th>\n",
       "      <td>19926</td>\n",
       "      <td>wanted place order make order closed today yea...</td>\n",
       "      <td>OTC</td>\n",
       "      <td>[OTC]</td>\n",
       "      <td>OTC</td>\n",
       "    </tr>\n",
       "    <tr>\n",
       "      <th>18159</th>\n",
       "      <td>16059</td>\n",
       "      <td>calling order placed using otc card think paid...</td>\n",
       "      <td>OTC</td>\n",
       "      <td>[OTC]</td>\n",
       "      <td>OTC</td>\n",
       "    </tr>\n",
       "    <tr>\n",
       "      <th>18160</th>\n",
       "      <td>5854</td>\n",
       "      <td>want get confirmation number recording said fa...</td>\n",
       "      <td>Monthly Premium</td>\n",
       "      <td>[Monthly Premium]</td>\n",
       "      <td>Unknown category</td>\n",
       "    </tr>\n",
       "    <tr>\n",
       "      <th>18161</th>\n",
       "      <td>11807</td>\n",
       "      <td>yes appointment wednesday clock morning need r...</td>\n",
       "      <td>Transportation</td>\n",
       "      <td>[Transportation]</td>\n",
       "      <td>Transportation</td>\n",
       "    </tr>\n",
       "    <tr>\n",
       "      <th>18162</th>\n",
       "      <td>735</td>\n",
       "      <td>judy holloway call thank</td>\n",
       "      <td>No Reason Given</td>\n",
       "      <td>[No Reason Given]</td>\n",
       "      <td>Unknown category</td>\n",
       "    </tr>\n",
       "  </tbody>\n",
       "</table>\n",
       "<p>18163 rows × 5 columns</p>\n",
       "</div>"
      ],
      "text/plain": [
       "       Unnamed: 0                                            Message  \\\n",
       "0            2506                     husband needs know otc balance   \n",
       "1            2712  trying find number lady computer wants? card n...   \n",
       "2           16862            helloo? hello? need know balance please   \n",
       "3           10024             would like make payment itis due today   \n",
       "4           20406   carl paulson one two questions someone call back   \n",
       "...           ...                                                ...   \n",
       "18158       19926  wanted place order make order closed today yea...   \n",
       "18159       16059  calling order placed using otc card think paid...   \n",
       "18160        5854  want get confirmation number recording said fa...   \n",
       "18161       11807  yes appointment wednesday clock morning need r...   \n",
       "18162         735                           judy holloway call thank   \n",
       "\n",
       "       Reason for Call Reason for Call list predicted_category  \n",
       "0                  OTC                [OTC]                OTC  \n",
       "1                  OTC                [OTC]                OTC  \n",
       "2                  OTC                [OTC]   Unknown category  \n",
       "3      Monthly Premium    [Monthly Premium]    Monthly Premium  \n",
       "4      No Reason Given    [No Reason Given]   Unknown category  \n",
       "...                ...                  ...                ...  \n",
       "18158              OTC                [OTC]                OTC  \n",
       "18159              OTC                [OTC]                OTC  \n",
       "18160  Monthly Premium    [Monthly Premium]   Unknown category  \n",
       "18161   Transportation     [Transportation]     Transportation  \n",
       "18162  No Reason Given    [No Reason Given]   Unknown category  \n",
       "\n",
       "[18163 rows x 5 columns]"
      ]
     },
     "execution_count": 86,
     "metadata": {},
     "output_type": "execute_result"
    }
   ],
   "source": [
    "df_pred"
   ]
  },
  {
   "cell_type": "code",
   "execution_count": 32,
   "metadata": {},
   "outputs": [],
   "source": [
    "def split_the_labels(reason):\n",
    "    reason = reason.split(\";\")\n",
    "    for label in range(len(reason)):\n",
    "        reason[label] = reason[label].replace(\"#\", \"\")\n",
    "        #         reason[label] =reason[label].encode()\n",
    "        reason[label] = str(reason[label])\n",
    "    return reason"
   ]
  },
  {
   "cell_type": "code",
   "execution_count": null,
   "metadata": {},
   "outputs": [],
   "source": [
    "def create_list(val):\n",
    "    if val == \"Unknown category\":\n",
    "        val = \"No Reason Given\"\n",
    "    #     val = val.encode()\n",
    "    val = str(val)\n",
    "    val = val.split(\";\")\n",
    "    return val\n",
    "\n",
    "\n",
    "df_pred[\"predicted_category_lis\"] = df_pred[\"predicted_category\"].apply(create_list)"
   ]
  },
  {
   "cell_type": "code",
   "execution_count": 33,
   "metadata": {},
   "outputs": [],
   "source": [
    "df_pred[\"Reason for Call list\"] = df_pred[\"Reason for Call\"].apply(split_the_labels)"
   ]
  },
  {
   "cell_type": "code",
   "execution_count": 34,
   "metadata": {},
   "outputs": [
    {
     "name": "stdout",
     "output_type": "stream",
     "text": [
      "Found20433images\n"
     ]
    },
    {
     "name": "stderr",
     "output_type": "stream",
     "text": [
      "C:\\Users\\AG84960\\AppData\\Local\\conda\\conda\\envs\\voicemail_final\\lib\\site-packages\\seaborn\\_decorators.py:36: FutureWarning: Pass the following variable as a keyword arg: x. From version 0.12, the only valid positional argument will be `data`, and passing other arguments without an explicit keyword will result in an error or misinterpretation.\n",
      "  warnings.warn(\n"
     ]
    },
    {
     "data": {
      "image/png": "[encoded data removed]",
      "text/plain": [
       "<Figure size 432x288 with 1 Axes>"
      ]
     },
     "metadata": {
      "needs_background": "light"
     },
     "output_type": "display_data"
    }
   ],
   "source": [
    "import numpy as np\n",
    "import pandas as pd\n",
    "import seaborn as sns\n",
    "from collections import Counter\n",
    "import ast\n",
    "\n",
    "meta = pd.DataFrame(df_pred, columns=[\"Message\", \"Reason for Call list\"])\n",
    "print(\"Found{}images\".format(len(meta)))\n",
    "meta.sample(9)\n",
    "# meta['labels'] = [ast.literal_eval(x) for x in meta['Reason for Call list'].values]\n",
    "all_labels = [label for lbs in meta[\"Reason for Call list\"] for label in lbs]\n",
    "labels_count = Counter(all_labels)\n",
    "ax = sns.countplot(\n",
    "    all_labels, order=[k for k, _ in labels_count.most_common()], log=True\n",
    ")\n",
    "ax.set_title(\"Number of sentences for each class\")\n",
    "# ax.set_ylim(1E2, 1E4)\n",
    "ax.set_xticklabels(ax.get_xticklabels(), rotation=90);"
   ]
  },
  {
   "cell_type": "code",
   "execution_count": 96,
   "metadata": {},
   "outputs": [
    {
     "name": "stdout",
     "output_type": "stream",
     "text": [
      "Found22704images\n"
     ]
    },
    {
     "data": {
      "image/png": "[encoded data removed]",
      "text/plain": [
       "<Figure size 432x288 with 1 Axes>"
      ]
     },
     "metadata": {},
     "output_type": "display_data"
    }
   ],
   "source": [
    "import numpy as np\n",
    "import pandas as pd\n",
    "import seaborn as sns\n",
    "from collections import Counter\n",
    "import ast\n",
    "\n",
    "meta = pd.DataFrame(df_pred, columns=[\"Message\", \"Reason for Call list\"])\n",
    "print(\"Found{}images\".format(len(meta)))\n",
    "meta.sample(9)\n",
    "# meta['labels'] = [ast.literal_eval(x) for x in meta['Reason for Call list'].values]\n",
    "all_labels = [label for lbs in meta[\"Reason for Call list\"] for label in lbs]\n",
    "labels_count = Counter(all_labels)\n",
    "ax = sns.countplot(\n",
    "    all_labels, order=[k for k, _ in labels_count.most_common()], log=True\n",
    ")\n",
    "ax.set_title(\"Number of sentences for each class\")\n",
    "# ax.set_ylim(1E2, 1E4)\n",
    "ax.set_xticklabels(ax.get_xticklabels(), rotation=90);"
   ]
  },
  {
   "cell_type": "code",
   "execution_count": null,
   "metadata": {},
   "outputs": [],
   "source": []
  },
  {
   "cell_type": "code",
   "execution_count": 66,
   "metadata": {},
   "outputs": [
    {
     "data": {
      "text/plain": [
       "'3.8.13'"
      ]
     },
     "execution_count": 66,
     "metadata": {},
     "output_type": "execute_result"
    }
   ],
   "source": [
    "from platform import python_version\n",
    "\n",
    "python_version()"
   ]
  },
  {
   "cell_type": "code",
   "execution_count": 82,
   "metadata": {},
   "outputs": [
    {
     "data": {
      "text/plain": [
       "['RX/Pharmacy']"
      ]
     },
     "execution_count": 82,
     "metadata": {},
     "output_type": "execute_result"
    }
   ],
   "source": [
    "df_pred[\"Reason for Call list\"][0]"
   ]
  },
  {
   "cell_type": "code",
   "execution_count": 93,
   "metadata": {},
   "outputs": [
    {
     "data": {
      "text/plain": [
       "array([list(['RX/Pharmacy']), list(['Nurse Line']), list(['ID Card']),\n",
       "       ..., list(['Membership/Enrollment']), list(['Provider']),\n",
       "       list(['Benefits'])], dtype=object)"
      ]
     },
     "execution_count": 93,
     "metadata": {},
     "output_type": "execute_result"
    }
   ],
   "source": [
    "meta[\"Reason for Call list\"].values"
   ]
  },
  {
   "cell_type": "code",
   "execution_count": 100,
   "metadata": {},
   "outputs": [
    {
     "name": "stdout",
     "output_type": "stream",
     "text": [
      "Collecting notebook\n",
      "  Downloading notebook-6.4.11-py3-none-any.whl (9.9 MB)\n",
      "Collecting tornado>=6.1\n",
      "  Downloading tornado-6.1-cp38-cp38-win_amd64.whl (422 kB)\n",
      "Collecting prometheus-client\n",
      "  Downloading prometheus_client-0.14.1-py3-none-any.whl (59 kB)\n",
      "Collecting argon2-cffi\n",
      "  Downloading argon2_cffi-21.3.0-py3-none-any.whl (14 kB)\n",
      "Collecting nest-asyncio>=1.5\n",
      "  Downloading nest_asyncio-1.5.5-py3-none-any.whl (5.2 kB)\n",
      "Collecting traitlets>=4.2.1\n",
      "  Downloading traitlets-5.1.1-py3-none-any.whl (102 kB)\n",
      "Collecting nbconvert>=5\n",
      "  Downloading nbconvert-6.5.0-py3-none-any.whl (561 kB)\n",
      "Collecting ipykernel\n",
      "  Downloading ipykernel-6.13.0-py3-none-any.whl (131 kB)\n",
      "Collecting jupyter-client>=5.3.4\n",
      "  Downloading jupyter_client-7.2.2-py3-none-any.whl (130 kB)\n",
      "Collecting pyzmq>=17\n",
      "  Downloading pyzmq-22.3.0-cp38-cp38-win_amd64.whl (1.0 MB)\n",
      "Collecting jinja2\n",
      "  Downloading Jinja2-3.1.1-py3-none-any.whl (132 kB)\n",
      "Collecting ipython-genutils\n",
      "  Using cached ipython_genutils-0.2.0-py2.py3-none-any.whl (26 kB)\n",
      "Collecting nbformat\n",
      "  Downloading nbformat-5.3.0-py3-none-any.whl (73 kB)\n",
      "Collecting jupyter-core>=4.6.1\n",
      "  Downloading jupyter_core-4.10.0-py3-none-any.whl (87 kB)\n",
      "Collecting terminado>=0.8.3\n",
      "  Downloading terminado-0.13.3-py3-none-any.whl (14 kB)\n",
      "Collecting Send2Trash>=1.8.0\n",
      "  Downloading Send2Trash-1.8.0-py3-none-any.whl (18 kB)\n",
      "Collecting entrypoints\n",
      "  Downloading entrypoints-0.4-py3-none-any.whl (5.3 kB)\n",
      "Collecting python-dateutil>=2.8.2\n",
      "  Downloading python_dateutil-2.8.2-py2.py3-none-any.whl (247 kB)\n",
      "Collecting pywin32>=1.0\n",
      "  Downloading pywin32-303-cp38-cp38-win_amd64.whl (9.3 MB)\n",
      "Collecting pygments>=2.4.1\n",
      "  Downloading Pygments-2.11.2-py3-none-any.whl (1.1 MB)\n",
      "Collecting nbclient>=0.5.0\n",
      "  Downloading nbclient-0.6.0-py3-none-any.whl (70 kB)\n",
      "Collecting beautifulsoup4\n",
      "  Downloading beautifulsoup4-4.11.1-py3-none-any.whl (128 kB)\n",
      "Collecting tinycss2\n",
      "  Downloading tinycss2-1.1.1-py3-none-any.whl (21 kB)\n",
      "Collecting defusedxml\n",
      "  Using cached defusedxml-0.7.1-py2.py3-none-any.whl (25 kB)\n",
      "Collecting jupyterlab-pygments\n",
      "  Downloading jupyterlab_pygments-0.2.2-py2.py3-none-any.whl (21 kB)\n",
      "Collecting mistune<2,>=0.8.1\n",
      "  Using cached mistune-0.8.4-py2.py3-none-any.whl (16 kB)\n",
      "Collecting pandocfilters>=1.4.1\n",
      "  Downloading pandocfilters-1.5.0-py2.py3-none-any.whl (8.7 kB)\n",
      "Collecting packaging\n",
      "  Downloading packaging-21.3-py3-none-any.whl (40 kB)\n",
      "Collecting bleach\n",
      "  Downloading bleach-5.0.0-py3-none-any.whl (160 kB)\n",
      "Collecting MarkupSafe>=2.0\n",
      "  Downloading MarkupSafe-2.1.1-cp38-cp38-win_amd64.whl (17 kB)\n",
      "Collecting jsonschema>=2.6\n",
      "  Downloading jsonschema-4.4.0-py3-none-any.whl (72 kB)\n",
      "Collecting fastjsonschema\n",
      "  Downloading fastjsonschema-2.15.3-py3-none-any.whl (22 kB)\n",
      "Collecting importlib-resources>=1.4.0\n",
      "  Downloading importlib_resources-5.7.1-py3-none-any.whl (28 kB)\n",
      "Collecting attrs>=17.4.0\n",
      "  Downloading attrs-21.4.0-py2.py3-none-any.whl (60 kB)\n",
      "Collecting pyrsistent!=0.17.0,!=0.17.1,!=0.17.2,>=0.14.0\n",
      "  Downloading pyrsistent-0.18.1-cp38-cp38-win_amd64.whl (61 kB)\n",
      "Collecting zipp>=3.1.0\n",
      "  Downloading zipp-3.8.0-py3-none-any.whl (5.4 kB)\n",
      "Collecting six>=1.5\n",
      "  Downloading six-1.16.0-py2.py3-none-any.whl (11 kB)\n",
      "Collecting pywinpty>=1.1.0\n",
      "  Downloading pywinpty-2.0.5-cp38-none-win_amd64.whl (1.4 MB)\n",
      "Collecting argon2-cffi-bindings\n",
      "  Downloading argon2_cffi_bindings-21.2.0-cp36-abi3-win_amd64.whl (30 kB)\n",
      "Collecting cffi>=1.0.1\n",
      "  Downloading cffi-1.15.0-cp38-cp38-win_amd64.whl (179 kB)\n",
      "Collecting pycparser\n",
      "  Downloading pycparser-2.21-py2.py3-none-any.whl (118 kB)\n",
      "Collecting soupsieve>1.2\n",
      "  Downloading soupsieve-2.3.2.post1-py3-none-any.whl (37 kB)\n",
      "Collecting webencodings\n",
      "  Using cached webencodings-0.5.1-py2.py3-none-any.whl (11 kB)\n",
      "Collecting matplotlib-inline>=0.1\n",
      "  Downloading matplotlib_inline-0.1.3-py3-none-any.whl (8.2 kB)\n",
      "Collecting debugpy>=1.0\n",
      "  Downloading debugpy-1.6.0-cp38-cp38-win_amd64.whl (4.3 MB)\n",
      "Collecting ipython>=7.23.1\n",
      "  Downloading ipython-8.2.0-py3-none-any.whl (750 kB)\n",
      "Collecting psutil\n",
      "  Downloading psutil-5.9.0-cp38-cp38-win_amd64.whl (246 kB)\n",
      "Collecting backcall\n",
      "  Using cached backcall-0.2.0-py2.py3-none-any.whl (11 kB)\n",
      "Collecting stack-data\n",
      "  Downloading stack_data-0.2.0-py3-none-any.whl (21 kB)\n",
      "Collecting jedi>=0.16\n",
      "  Downloading jedi-0.18.1-py2.py3-none-any.whl (1.6 MB)\n",
      "Requirement already satisfied: setuptools>=18.5 in c:\\users\\ag84960\\appdata\\local\\conda\\conda\\envs\\voicemail_final\\lib\\site-packages (from ipython>=7.23.1->ipykernel->notebook) (58.0.4)\n",
      "Collecting prompt-toolkit!=3.0.0,!=3.0.1,<3.1.0,>=2.0.0\n",
      "  Downloading prompt_toolkit-3.0.29-py3-none-any.whl (381 kB)\n",
      "Collecting pickleshare\n",
      "  Using cached pickleshare-0.7.5-py2.py3-none-any.whl (6.9 kB)\n",
      "Collecting colorama\n",
      "  Using cached colorama-0.4.4-py2.py3-none-any.whl (16 kB)\n",
      "Collecting decorator\n",
      "  Downloading decorator-5.1.1-py3-none-any.whl (9.1 kB)\n",
      "Collecting parso<0.9.0,>=0.8.0\n",
      "  Downloading parso-0.8.3-py2.py3-none-any.whl (100 kB)\n",
      "Collecting wcwidth\n",
      "  Using cached wcwidth-0.2.5-py2.py3-none-any.whl (30 kB)\n",
      "Collecting pyparsing!=3.0.5,>=2.0.2\n",
      "  Downloading pyparsing-3.0.8-py3-none-any.whl (98 kB)\n",
      "Collecting executing\n",
      "  Downloading executing-0.8.3-py2.py3-none-any.whl (16 kB)\n",
      "Collecting pure-eval\n",
      "  Downloading pure_eval-0.2.2-py3-none-any.whl (11 kB)\n",
      "Collecting asttokens\n",
      "  Downloading asttokens-2.0.5-py2.py3-none-any.whl (20 kB)\n",
      "Installing collected packages: zipp, traitlets, six, pywin32, pyrsistent, importlib-resources, attrs, wcwidth, tornado, pyzmq, python-dateutil, pycparser, pure-eval, parso, nest-asyncio, jupyter-core, jsonschema, fastjsonschema, executing, entrypoints, asttokens, webencodings, stack-data, soupsieve, pyparsing, pygments, prompt-toolkit, pickleshare, nbformat, matplotlib-inline, MarkupSafe, jupyter-client, jedi, decorator, colorama, cffi, backcall, tinycss2, pywinpty, psutil, pandocfilters, packaging, nbclient, mistune, jupyterlab-pygments, jinja2, ipython, defusedxml, debugpy, bleach, beautifulsoup4, argon2-cffi-bindings, terminado, Send2Trash, prometheus-client, nbconvert, ipython-genutils, ipykernel, argon2-cffi, notebook\n",
      "Successfully installed MarkupSafe-2.1.1 Send2Trash-1.8.0 argon2-cffi-21.3.0 argon2-cffi-bindings-21.2.0 asttokens-2.0.5 attrs-21.4.0 backcall-0.2.0 beautifulsoup4-4.11.1 bleach-5.0.0 cffi-1.15.0 colorama-0.4.4 debugpy-1.6.0 decorator-5.1.1 defusedxml-0.7.1 entrypoints-0.4 executing-0.8.3 fastjsonschema-2.15.3 importlib-resources-5.7.1 ipykernel-6.13.0 ipython-8.2.0 ipython-genutils-0.2.0 jedi-0.18.1 jinja2-3.1.1 jsonschema-4.4.0 jupyter-client-7.2.2 jupyter-core-4.10.0 jupyterlab-pygments-0.2.2 matplotlib-inline-0.1.3 mistune-0.8.4 nbclient-0.6.0 nbconvert-6.5.0 nbformat-5.3.0 nest-asyncio-1.5.5 notebook-6.4.11 packaging-21.3 pandocfilters-1.5.0 parso-0.8.3 pickleshare-0.7.5 prometheus-client-0.14.1 prompt-toolkit-3.0.29 psutil-5.9.0 pure-eval-0.2.2 pycparser-2.21 pygments-2.11.2 pyparsing-3.0.8 pyrsistent-0.18.1 python-dateutil-2.8.2 pywin32-303 pywinpty-2.0.5 pyzmq-22.3.0 six-1.16.0 soupsieve-2.3.2.post1 stack-data-0.2.0 terminado-0.13.3 tinycss2-1.1.1 tornado-6.1 traitlets-5.1.1 wcwidth-0.2.5 webencodings-0.5.1 zipp-3.8.0\n"
     ]
    }
   ],
   "source": [
    "!pip install notebook --upgrade"
   ]
  },
  {
   "cell_type": "code",
   "execution_count": 36,
   "metadata": {},
   "outputs": [],
   "source": [
    "from sklearn.preprocessing import MultiLabelBinarizer\n",
    "\n",
    "mlb = MultiLabelBinarizer(sparse_output=True)\n",
    "a = mlb.fit_transform(df_pred[\"Reason for Call list\"])\n",
    "y_true = a.toarray()\n",
    "y_pred = mlb.fit_transform(df_pred[\"predicted_category_lis\"]).toarray()"
   ]
  },
  {
   "cell_type": "code",
   "execution_count": 37,
   "metadata": {},
   "outputs": [],
   "source": [
    "labels = list(mlb.classes_)"
   ]
  },
  {
   "cell_type": "code",
   "execution_count": 38,
   "metadata": {},
   "outputs": [
    {
     "name": "stdout",
     "output_type": "stream",
     "text": [
      "                         precision    recall  f1-score   support\n",
      "\n",
      "         Access to Care       0.05      0.06      0.06       358\n",
      "          Authorization       0.59      0.27      0.37       338\n",
      "               Benefits       0.50      0.13      0.21      2798\n",
      "                  Claim       0.61      0.56      0.59      1099\n",
      "            EE Benefits       0.29      0.10      0.15       385\n",
      "Grievance and/or Appeal       0.61      0.49      0.55       343\n",
      "                ID Card       0.21      0.75      0.32       409\n",
      "  Membership/Enrollment       0.55      0.37      0.44      2083\n",
      "        Monthly Premium       0.96      0.28      0.43       986\n",
      "   Need Case Management       0.24      0.33      0.28        33\n",
      "        No Reason Given       0.36      0.88      0.51      2770\n",
      "             Nurse Line       0.45      0.70      0.55       105\n",
      "                    OTC       0.97      0.72      0.83      7783\n",
      "               Provider       0.73      0.27      0.39       968\n",
      "            RX/Pharmacy       0.80      0.33      0.47       618\n",
      "         Transportation       0.43      0.78      0.55       623\n",
      "\n",
      "              micro avg       0.58      0.54      0.56     21699\n",
      "              macro avg       0.52      0.44      0.42     21699\n",
      "           weighted avg       0.68      0.54      0.56     21699\n",
      "            samples avg       0.58      0.56      0.57     21699\n",
      "\n"
     ]
    }
   ],
   "source": [
    "from sklearn.metrics import classification_report\n",
    "\n",
    "print(classification_report(y_true, y_pred, target_names=labels))"
   ]
  },
  {
   "cell_type": "code",
   "execution_count": 28,
   "metadata": {},
   "outputs": [
    {
     "data": {
      "text/plain": [
       "  C_CONTIGUOUS : True\n",
       "  F_CONTIGUOUS : False\n",
       "  OWNDATA : True\n",
       "  WRITEABLE : True\n",
       "  ALIGNED : True\n",
       "  WRITEBACKIFCOPY : False\n",
       "  UPDATEIFCOPY : False"
      ]
     },
     "execution_count": 28,
     "metadata": {},
     "output_type": "execute_result"
    }
   ],
   "source": [
    "y_true.c"
   ]
  },
  {
   "cell_type": "code",
   "execution_count": 35,
   "metadata": {},
   "outputs": [],
   "source": []
  },
  {
   "cell_type": "code",
   "execution_count": 88,
   "metadata": {},
   "outputs": [
    {
     "data": {
      "text/html": [
       "<div>\n",
       "<style scoped>\n",
       "    .dataframe tbody tr th:only-of-type {\n",
       "        vertical-align: middle;\n",
       "    }\n",
       "\n",
       "    .dataframe tbody tr th {\n",
       "        vertical-align: top;\n",
       "    }\n",
       "\n",
       "    .dataframe thead th {\n",
       "        text-align: right;\n",
       "    }\n",
       "</style>\n",
       "<table border=\"1\" class=\"dataframe\">\n",
       "  <thead>\n",
       "    <tr style=\"text-align: right;\">\n",
       "      <th></th>\n",
       "      <th>Unnamed: 0</th>\n",
       "      <th>Message</th>\n",
       "      <th>Reason for Call</th>\n",
       "      <th>Reason for Call list</th>\n",
       "      <th>predicted_category</th>\n",
       "      <th>predicted_category_lis</th>\n",
       "    </tr>\n",
       "  </thead>\n",
       "  <tbody>\n",
       "    <tr>\n",
       "      <th>0</th>\n",
       "      <td>2506</td>\n",
       "      <td>husband needs know otc balance</td>\n",
       "      <td>OTC</td>\n",
       "      <td>[OTC]</td>\n",
       "      <td>OTC</td>\n",
       "      <td>[OTC]</td>\n",
       "    </tr>\n",
       "    <tr>\n",
       "      <th>1</th>\n",
       "      <td>2712</td>\n",
       "      <td>trying find number lady computer wants? card n...</td>\n",
       "      <td>OTC</td>\n",
       "      <td>[OTC]</td>\n",
       "      <td>OTC</td>\n",
       "      <td>[OTC]</td>\n",
       "    </tr>\n",
       "    <tr>\n",
       "      <th>2</th>\n",
       "      <td>16862</td>\n",
       "      <td>helloo? hello? need know balance please</td>\n",
       "      <td>OTC</td>\n",
       "      <td>[OTC]</td>\n",
       "      <td>Unknown category</td>\n",
       "      <td>[No Reason Given]</td>\n",
       "    </tr>\n",
       "    <tr>\n",
       "      <th>3</th>\n",
       "      <td>10024</td>\n",
       "      <td>would like make payment itis due today</td>\n",
       "      <td>Monthly Premium</td>\n",
       "      <td>[Monthly Premium]</td>\n",
       "      <td>Monthly Premium</td>\n",
       "      <td>[Monthly Premium]</td>\n",
       "    </tr>\n",
       "    <tr>\n",
       "      <th>4</th>\n",
       "      <td>20406</td>\n",
       "      <td>carl paulson one two questions someone call back</td>\n",
       "      <td>No Reason Given</td>\n",
       "      <td>[No Reason Given]</td>\n",
       "      <td>Unknown category</td>\n",
       "      <td>[No Reason Given]</td>\n",
       "    </tr>\n",
       "    <tr>\n",
       "      <th>...</th>\n",
       "      <td>...</td>\n",
       "      <td>...</td>\n",
       "      <td>...</td>\n",
       "      <td>...</td>\n",
       "      <td>...</td>\n",
       "      <td>...</td>\n",
       "    </tr>\n",
       "    <tr>\n",
       "      <th>18158</th>\n",
       "      <td>19926</td>\n",
       "      <td>wanted place order make order closed today yea...</td>\n",
       "      <td>OTC</td>\n",
       "      <td>[OTC]</td>\n",
       "      <td>OTC</td>\n",
       "      <td>[OTC]</td>\n",
       "    </tr>\n",
       "    <tr>\n",
       "      <th>18159</th>\n",
       "      <td>16059</td>\n",
       "      <td>calling order placed using otc card think paid...</td>\n",
       "      <td>OTC</td>\n",
       "      <td>[OTC]</td>\n",
       "      <td>OTC</td>\n",
       "      <td>[OTC]</td>\n",
       "    </tr>\n",
       "    <tr>\n",
       "      <th>18160</th>\n",
       "      <td>5854</td>\n",
       "      <td>want get confirmation number recording said fa...</td>\n",
       "      <td>Monthly Premium</td>\n",
       "      <td>[Monthly Premium]</td>\n",
       "      <td>Unknown category</td>\n",
       "      <td>[No Reason Given]</td>\n",
       "    </tr>\n",
       "    <tr>\n",
       "      <th>18161</th>\n",
       "      <td>11807</td>\n",
       "      <td>yes appointment wednesday clock morning need r...</td>\n",
       "      <td>Transportation</td>\n",
       "      <td>[Transportation]</td>\n",
       "      <td>Transportation</td>\n",
       "      <td>[Transportation]</td>\n",
       "    </tr>\n",
       "    <tr>\n",
       "      <th>18162</th>\n",
       "      <td>735</td>\n",
       "      <td>judy holloway call thank</td>\n",
       "      <td>No Reason Given</td>\n",
       "      <td>[No Reason Given]</td>\n",
       "      <td>Unknown category</td>\n",
       "      <td>[No Reason Given]</td>\n",
       "    </tr>\n",
       "  </tbody>\n",
       "</table>\n",
       "<p>18163 rows × 6 columns</p>\n",
       "</div>"
      ],
      "text/plain": [
       "       Unnamed: 0                                            Message  \\\n",
       "0            2506                     husband needs know otc balance   \n",
       "1            2712  trying find number lady computer wants? card n...   \n",
       "2           16862            helloo? hello? need know balance please   \n",
       "3           10024             would like make payment itis due today   \n",
       "4           20406   carl paulson one two questions someone call back   \n",
       "...           ...                                                ...   \n",
       "18158       19926  wanted place order make order closed today yea...   \n",
       "18159       16059  calling order placed using otc card think paid...   \n",
       "18160        5854  want get confirmation number recording said fa...   \n",
       "18161       11807  yes appointment wednesday clock morning need r...   \n",
       "18162         735                           judy holloway call thank   \n",
       "\n",
       "       Reason for Call Reason for Call list predicted_category  \\\n",
       "0                  OTC                [OTC]                OTC   \n",
       "1                  OTC                [OTC]                OTC   \n",
       "2                  OTC                [OTC]   Unknown category   \n",
       "3      Monthly Premium    [Monthly Premium]    Monthly Premium   \n",
       "4      No Reason Given    [No Reason Given]   Unknown category   \n",
       "...                ...                  ...                ...   \n",
       "18158              OTC                [OTC]                OTC   \n",
       "18159              OTC                [OTC]                OTC   \n",
       "18160  Monthly Premium    [Monthly Premium]   Unknown category   \n",
       "18161   Transportation     [Transportation]     Transportation   \n",
       "18162  No Reason Given    [No Reason Given]   Unknown category   \n",
       "\n",
       "      predicted_category_lis  \n",
       "0                      [OTC]  \n",
       "1                      [OTC]  \n",
       "2          [No Reason Given]  \n",
       "3          [Monthly Premium]  \n",
       "4          [No Reason Given]  \n",
       "...                      ...  \n",
       "18158                  [OTC]  \n",
       "18159                  [OTC]  \n",
       "18160      [No Reason Given]  \n",
       "18161       [Transportation]  \n",
       "18162      [No Reason Given]  \n",
       "\n",
       "[18163 rows x 6 columns]"
      ]
     },
     "execution_count": 88,
     "metadata": {},
     "output_type": "execute_result"
    }
   ],
   "source": [
    "df_pred"
   ]
  },
  {
   "cell_type": "code",
   "execution_count": 43,
   "metadata": {},
   "outputs": [],
   "source": [
    "test.to_excel(\"test.xlsx\")"
   ]
  },
  {
   "cell_type": "code",
   "execution_count": null,
   "metadata": {},
   "outputs": [],
   "source": [
    "cor"
   ]
  }
 ],
 "metadata": {
  "kernelspec": {
   "display_name": "voicemail_kernel",
   "language": "python",
   "name": "voicemail_kernel"
  },
  "language_info": {
   "codemirror_mode": {
    "name": "ipython",
    "version": 3
   },
   "file_extension": ".py",
   "mimetype": "text/x-python",
   "name": "python",
   "nbconvert_exporter": "python",
   "pygments_lexer": "ipython3",
   "version": "3.8.13"
  }
 },
 "nbformat": 4,
 "nbformat_minor": 4
}