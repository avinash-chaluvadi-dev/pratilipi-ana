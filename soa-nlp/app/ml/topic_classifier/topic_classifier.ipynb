{
 "cells": [
  {
   "cell_type": "code",
   "execution_count": 1,
   "metadata": {},
   "outputs": [
    {
     "data": {
      "application/javascript": [
       "\n",
       "            setTimeout(function() {\n",
       "                var nbb_cell_id = 1;\n",
       "                var nbb_unformatted_code = \"%load_ext nb_black\";\n",
       "                var nbb_formatted_code = \"%load_ext nb_black\";\n",
       "                var nbb_cells = Jupyter.notebook.get_cells();\n",
       "                for (var i = 0; i < nbb_cells.length; ++i) {\n",
       "                    if (nbb_cells[i].input_prompt_number == nbb_cell_id) {\n",
       "                        if (nbb_cells[i].get_text() == nbb_unformatted_code) {\n",
       "                             nbb_cells[i].set_text(nbb_formatted_code);\n",
       "                        }\n",
       "                        break;\n",
       "                    }\n",
       "                }\n",
       "            }, 500);\n",
       "            "
      ],
      "text/plain": [
       "<IPython.core.display.Javascript object>"
      ]
     },
     "metadata": {},
     "output_type": "display_data"
    }
   ],
   "source": [
    "%load_ext nb_black"
   ]
  },
  {
   "cell_type": "code",
   "execution_count": 2,
   "metadata": {},
   "outputs": [
    {
     "data": {
      "application/javascript": [
       "\n",
       "            setTimeout(function() {\n",
       "                var nbb_cell_id = 2;\n",
       "                var nbb_unformatted_code = \"# Let's import all the required python packages\\nimport io\\nimport os\\nimport re\\nimport nltk\\nimport boto3\\nimport pickle\\nimport random\\nimport string\\nimport numpy as np\\nimport pandas as pd\\nimport seaborn as sns\\nfrom sklearn import metrics\\nfrom sklearn.svm import SVC\\nfrom datetime import datetime\\nfrom botocore import exceptions\\nimport matplotlib.pyplot as plt\\nfrom xgboost import XGBClassifier\\nfrom sklearn import model_selection\\nfrom contextlib import contextmanager\\nfrom sklearn.ensemble import RandomForestClassifier\\nfrom skmultilearn.problem_transform import LabelPowerset\\nfrom sklearn.naive_bayes import GaussianNB, MultinomialNB\\nfrom skmultilearn.cluster import LabelCooccurrenceGraphBuilder\\nfrom skmultilearn.ensemble import LabelSpacePartitioningClassifier\\nfrom sklearn.model_selection import RandomizedSearchCV, GridSearchCV\\nfrom skmultilearn.cluster.networkx import NetworkXLabelGraphClusterer\\nfrom simpletransformers.language_representation import RepresentationModel\\n\\n# Ipython magic function which helps to display the plots inside the notebook itself\\n%matplotlib inline\\n\\nimport warnings  # seaborn generates a bunch of warnings that we'll ignore\\nwarnings.filterwarnings(\\\"ignore\\\")\";\n",
       "                var nbb_formatted_code = \"# Let's import all the required python packages\\nimport io\\nimport os\\nimport re\\nimport nltk\\nimport boto3\\nimport pickle\\nimport random\\nimport string\\nimport numpy as np\\nimport pandas as pd\\nimport seaborn as sns\\nfrom sklearn import metrics\\nfrom sklearn.svm import SVC\\nfrom datetime import datetime\\nfrom botocore import exceptions\\nimport matplotlib.pyplot as plt\\nfrom xgboost import XGBClassifier\\nfrom sklearn import model_selection\\nfrom contextlib import contextmanager\\nfrom sklearn.ensemble import RandomForestClassifier\\nfrom skmultilearn.problem_transform import LabelPowerset\\nfrom sklearn.naive_bayes import GaussianNB, MultinomialNB\\nfrom skmultilearn.cluster import LabelCooccurrenceGraphBuilder\\nfrom skmultilearn.ensemble import LabelSpacePartitioningClassifier\\nfrom sklearn.model_selection import RandomizedSearchCV, GridSearchCV\\nfrom skmultilearn.cluster.networkx import NetworkXLabelGraphClusterer\\nfrom simpletransformers.language_representation import RepresentationModel\\n\\n# Ipython magic function which helps to display the plots inside the notebook itself\\n%matplotlib inline\\n\\nimport warnings  # seaborn generates a bunch of warnings that we'll ignore\\n\\nwarnings.filterwarnings(\\\"ignore\\\")\";\n",
       "                var nbb_cells = Jupyter.notebook.get_cells();\n",
       "                for (var i = 0; i < nbb_cells.length; ++i) {\n",
       "                    if (nbb_cells[i].input_prompt_number == nbb_cell_id) {\n",
       "                        if (nbb_cells[i].get_text() == nbb_unformatted_code) {\n",
       "                             nbb_cells[i].set_text(nbb_formatted_code);\n",
       "                        }\n",
       "                        break;\n",
       "                    }\n",
       "                }\n",
       "            }, 500);\n",
       "            "
      ],
      "text/plain": [
       "<IPython.core.display.Javascript object>"
      ]
     },
     "metadata": {},
     "output_type": "display_data"
    }
   ],
   "source": [
    "# Let's import all the required python packages\n",
    "import io\n",
    "import os\n",
    "import re\n",
    "import nltk\n",
    "import boto3\n",
    "import pickle\n",
    "import random\n",
    "import string\n",
    "import numpy as np\n",
    "import pandas as pd\n",
    "import seaborn as sns\n",
    "from sklearn import metrics\n",
    "from sklearn.svm import SVC\n",
    "from datetime import datetime\n",
    "from botocore import exceptions\n",
    "import matplotlib.pyplot as plt\n",
    "from xgboost import XGBClassifier\n",
    "from sklearn import model_selection\n",
    "from contextlib import contextmanager\n",
    "from sklearn.ensemble import RandomForestClassifier\n",
    "from skmultilearn.problem_transform import LabelPowerset\n",
    "from sklearn.naive_bayes import GaussianNB, MultinomialNB\n",
    "from skmultilearn.cluster import LabelCooccurrenceGraphBuilder\n",
    "from skmultilearn.ensemble import LabelSpacePartitioningClassifier\n",
    "from sklearn.model_selection import RandomizedSearchCV, GridSearchCV\n",
    "from skmultilearn.cluster.networkx import NetworkXLabelGraphClusterer\n",
    "from simpletransformers.language_representation import RepresentationModel\n",
    "\n",
    "# Ipython magic function which helps to display the plots inside the notebook itself\n",
    "%matplotlib inline\n",
    "\n",
    "import warnings  # seaborn generates a bunch of warnings that we'll ignore\n",
    "\n",
    "warnings.filterwarnings(\"ignore\")"
   ]
  },
  {
   "cell_type": "code",
   "execution_count": 3,
   "metadata": {},
   "outputs": [
    {
     "data": {
      "application/javascript": [
       "\n",
       "            setTimeout(function() {\n",
       "                var nbb_cell_id = 3;\n",
       "                var nbb_unformatted_code = \"# S3 Config Params\\nBUCKET_NAME = \\\"hive-s3-lz\\\"\\nBASE_PREFIX = \\\"medicare-voicemail\\\"\\nDATASET_PREFIX = f\\\"{BASE_PREFIX}/dataset\\\"\\nTOPIC_CLASSIFIER = datetime.now().strftime(\\\"Topic_Classifier_Model_%H-%M-%d-%m-%Y\\\")\\nMODEL_PREFIX = f\\\"{BASE_PREFIX}/models/{TOPIC_CLASSIFIER}\\\"\\n\\n\\n# Initializing S3 client and resource objects\\nS3_CLIENT = boto3.client(\\\"s3\\\")\\nS3_RESOURCE = boto3.resource(\\\"s3\\\")\\n\\nNUM_EPOCHS = 10\\nLABELS = [\\n    \\\"Access to Care\\\",\\n    \\\"Authorization\\\",\\n    \\\"Benefits\\\",\\n    \\\"Claim\\\",\\n    \\\"EE Benefits\\\",\\n    \\\"Grievance and/or Appeal\\\",\\n    \\\"ID Card\\\",\\n    \\\"Membership/Enrollment\\\",\\n    \\\"Monthly Premium\\\",\\n    \\\"Need Case Management\\\",\\n    \\\"No Reason Given\\\",\\n    \\\"Nurse Line\\\",\\n    \\\"OTC\\\",\\n    \\\"Provider\\\",\\n    \\\"RX/Pharmacy\\\",\\n    \\\"Transportation\\\",\\n]\\nANCHOR_WORDS = {\\n    \\\"Claim\\\": [\\\"bill\\\",\\\"claim\\\",\\\"calling claim\\\",\\\"calling bill\\\",\\\"received bill\\\",\\\"got bill\\\",\\\"billed\\\"],\\n    \\\"Benefits\\\": [\\\"benefit\\\",\\\"dental\\\",\\\"vision\\\",\\\"coverage\\\"],\\n    \\\"Grievance and/or Appeal\\\": [\\\"grievance\\\",\\\"appeal\\\",\\\"complaint\\\",\\\"file grievance\\\",\\\"filed\\\"],\\n    \\\"Membership/Enrollment\\\": [\\\"plan\\\",\\\"insurance\\\",\\\"enrollment\\\",\\\"policy\\\",\\\"enrolled\\\"],\\n    \\\"OTC\\\": [\\\"order\\\",\\\"otc\\\",\\\"otc card\\\",\\\"place otc\\\",\\\"place order\\\"],\\n    \\\"ID Card\\\": [\\\"card\\\",\\\"id card\\\",\\\"need new\\\",\\\"card need\\\",\\\"new id\\\"],\\n    \\\"Need Case Management\\\": [\\\"case manager\\\",\\\"manager\\\",\\\"case management\\\",\\\"assessment\\\",\\\"risk assessment\\\"],\\n    \\\"EE Benefits\\\": [\\\"extra benefit\\\",\\\"healthy\\\",\\\"healthy benefit\\\"],\\n    \\\"Authorization\\\": [\\\"authorization\\\",\\\"approved\\\",\\\"approval\\\"],\\n    \\\"RX/Pharmacy\\\": [\\\"rx\\\",\\\"pharmacy\\\",\\\"prescription\\\",\\\"medication\\\",\\\"medicine\\\",\\\"get prescription\\\",\\\"need prescription\\\"],\\n    \\\"Provider\\\": [\\\"provider\\\",\\\"network\\\",\\\"pcp\\\",\\\"change pcp\\\"],\\n    \\\"Transportation\\\": [\\\"ride\\\",\\\"need ride\\\",\\\"transportation\\\",\\\"need transportation\\\",\\\"calling transportation\\\",\\\"trip\\\",\\\"get transportation\\\"],\\n    \\\"Nurse Line\\\": [\\\"nurse\\\",\\\"nurse line\\\",\\\"line\\\",\\\"need nurse\\\"],\\n    \\\"Access to Care\\\": [\\\"appointment\\\",\\\"care\\\",\\\"need help\\\",\\\"need speak\\\"],\\n    \\\"Monthly Premium\\\": [\\\"premium\\\",\\\"make payment\\\",\\\"premium payment\\\",\\\"trying make payment\\\"]\\n}\\n\\n\\nMODEL_NAME = \\\"svm.pkl\\\"\\nMESSAGE_COLUMN = \\\"Message\\\"\\nLABEL_COLUMN = \\\"Reason for Call \\\"\\nVOICE_MAIL_DATA = \\\"voicemail_data.xlsx\\\"\";\n",
       "                var nbb_formatted_code = \"# S3 Config Params\\nBUCKET_NAME = \\\"hive-s3-lz\\\"\\nBASE_PREFIX = \\\"medicare-voicemail\\\"\\nDATASET_PREFIX = f\\\"{BASE_PREFIX}/dataset\\\"\\nTOPIC_CLASSIFIER = datetime.now().strftime(\\\"Topic_Classifier_Model_%H-%M-%d-%m-%Y\\\")\\nMODEL_PREFIX = f\\\"{BASE_PREFIX}/models/{TOPIC_CLASSIFIER}\\\"\\n\\n\\n# Initializing S3 client and resource objects\\nS3_CLIENT = boto3.client(\\\"s3\\\")\\nS3_RESOURCE = boto3.resource(\\\"s3\\\")\\n\\nNUM_EPOCHS = 10\\nLABELS = [\\n    \\\"Access to Care\\\",\\n    \\\"Authorization\\\",\\n    \\\"Benefits\\\",\\n    \\\"Claim\\\",\\n    \\\"EE Benefits\\\",\\n    \\\"Grievance and/or Appeal\\\",\\n    \\\"ID Card\\\",\\n    \\\"Membership/Enrollment\\\",\\n    \\\"Monthly Premium\\\",\\n    \\\"Need Case Management\\\",\\n    \\\"No Reason Given\\\",\\n    \\\"Nurse Line\\\",\\n    \\\"OTC\\\",\\n    \\\"Provider\\\",\\n    \\\"RX/Pharmacy\\\",\\n    \\\"Transportation\\\",\\n]\\nANCHOR_WORDS = {\\n    \\\"Claim\\\": [\\n        \\\"bill\\\",\\n        \\\"claim\\\",\\n        \\\"calling claim\\\",\\n        \\\"calling bill\\\",\\n        \\\"received bill\\\",\\n        \\\"got bill\\\",\\n        \\\"billed\\\",\\n    ],\\n    \\\"Benefits\\\": [\\\"benefit\\\", \\\"dental\\\", \\\"vision\\\", \\\"coverage\\\"],\\n    \\\"Grievance and/or Appeal\\\": [\\n        \\\"grievance\\\",\\n        \\\"appeal\\\",\\n        \\\"complaint\\\",\\n        \\\"file grievance\\\",\\n        \\\"filed\\\",\\n    ],\\n    \\\"Membership/Enrollment\\\": [\\\"plan\\\", \\\"insurance\\\", \\\"enrollment\\\", \\\"policy\\\", \\\"enrolled\\\"],\\n    \\\"OTC\\\": [\\\"order\\\", \\\"otc\\\", \\\"otc card\\\", \\\"place otc\\\", \\\"place order\\\"],\\n    \\\"ID Card\\\": [\\\"card\\\", \\\"id card\\\", \\\"need new\\\", \\\"card need\\\", \\\"new id\\\"],\\n    \\\"Need Case Management\\\": [\\n        \\\"case manager\\\",\\n        \\\"manager\\\",\\n        \\\"case management\\\",\\n        \\\"assessment\\\",\\n        \\\"risk assessment\\\",\\n    ],\\n    \\\"EE Benefits\\\": [\\\"extra benefit\\\", \\\"healthy\\\", \\\"healthy benefit\\\"],\\n    \\\"Authorization\\\": [\\\"authorization\\\", \\\"approved\\\", \\\"approval\\\"],\\n    \\\"RX/Pharmacy\\\": [\\n        \\\"rx\\\",\\n        \\\"pharmacy\\\",\\n        \\\"prescription\\\",\\n        \\\"medication\\\",\\n        \\\"medicine\\\",\\n        \\\"get prescription\\\",\\n        \\\"need prescription\\\",\\n    ],\\n    \\\"Provider\\\": [\\\"provider\\\", \\\"network\\\", \\\"pcp\\\", \\\"change pcp\\\"],\\n    \\\"Transportation\\\": [\\n        \\\"ride\\\",\\n        \\\"need ride\\\",\\n        \\\"transportation\\\",\\n        \\\"need transportation\\\",\\n        \\\"calling transportation\\\",\\n        \\\"trip\\\",\\n        \\\"get transportation\\\",\\n    ],\\n    \\\"Nurse Line\\\": [\\\"nurse\\\", \\\"nurse line\\\", \\\"line\\\", \\\"need nurse\\\"],\\n    \\\"Access to Care\\\": [\\\"appointment\\\", \\\"care\\\", \\\"need help\\\", \\\"need speak\\\"],\\n    \\\"Monthly Premium\\\": [\\n        \\\"premium\\\",\\n        \\\"make payment\\\",\\n        \\\"premium payment\\\",\\n        \\\"trying make payment\\\",\\n    ],\\n}\\n\\n\\nMODEL_NAME = \\\"svm.pkl\\\"\\nMESSAGE_COLUMN = \\\"Message\\\"\\nLABEL_COLUMN = \\\"Reason for Call \\\"\\nVOICE_MAIL_DATA = \\\"voicemail_data.xlsx\\\"\";\n",
       "                var nbb_cells = Jupyter.notebook.get_cells();\n",
       "                for (var i = 0; i < nbb_cells.length; ++i) {\n",
       "                    if (nbb_cells[i].input_prompt_number == nbb_cell_id) {\n",
       "                        if (nbb_cells[i].get_text() == nbb_unformatted_code) {\n",
       "                             nbb_cells[i].set_text(nbb_formatted_code);\n",
       "                        }\n",
       "                        break;\n",
       "                    }\n",
       "                }\n",
       "            }, 500);\n",
       "            "
      ],
      "text/plain": [
       "<IPython.core.display.Javascript object>"
      ]
     },
     "metadata": {},
     "output_type": "display_data"
    }
   ],
   "source": [
    "# S3 Config Params\n",
    "BUCKET_NAME = \"hive-s3-lz\"\n",
    "BASE_PREFIX = \"medicare-voicemail\"\n",
    "DATASET_PREFIX = f\"{BASE_PREFIX}/dataset\"\n",
    "TOPIC_CLASSIFIER = datetime.now().strftime(\"Topic_Classifier_Model_%H-%M-%d-%m-%Y\")\n",
    "MODEL_PREFIX = f\"{BASE_PREFIX}/models/{TOPIC_CLASSIFIER}\"\n",
    "\n",
    "\n",
    "# Initializing S3 client and resource objects\n",
    "S3_CLIENT = boto3.client(\"s3\")\n",
    "S3_RESOURCE = boto3.resource(\"s3\")\n",
    "\n",
    "NUM_EPOCHS = 10\n",
    "LABELS = [\n",
    "    \"Access to Care\",\n",
    "    \"Authorization\",\n",
    "    \"Benefits\",\n",
    "    \"Claim\",\n",
    "    \"EE Benefits\",\n",
    "    \"Grievance and/or Appeal\",\n",
    "    \"ID Card\",\n",
    "    \"Membership/Enrollment\",\n",
    "    \"Monthly Premium\",\n",
    "    \"Need Case Management\",\n",
    "    \"No Reason Given\",\n",
    "    \"Nurse Line\",\n",
    "    \"OTC\",\n",
    "    \"Provider\",\n",
    "    \"RX/Pharmacy\",\n",
    "    \"Transportation\",\n",
    "]\n",
    "ANCHOR_WORDS = {\n",
    "    \"Claim\": [\n",
    "        \"bill\",\n",
    "        \"claim\",\n",
    "        \"calling claim\",\n",
    "        \"calling bill\",\n",
    "        \"received bill\",\n",
    "        \"got bill\",\n",
    "        \"billed\",\n",
    "    ],\n",
    "    \"Benefits\": [\"benefit\", \"dental\", \"vision\", \"coverage\"],\n",
    "    \"Grievance and/or Appeal\": [\n",
    "        \"grievance\",\n",
    "        \"appeal\",\n",
    "        \"complaint\",\n",
    "        \"file grievance\",\n",
    "        \"filed\",\n",
    "    ],\n",
    "    \"Membership/Enrollment\": [\"plan\", \"insurance\", \"enrollment\", \"policy\", \"enrolled\"],\n",
    "    \"OTC\": [\"order\", \"otc\", \"otc card\", \"place otc\", \"place order\"],\n",
    "    \"ID Card\": [\"card\", \"id card\", \"need new\", \"card need\", \"new id\"],\n",
    "    \"Need Case Management\": [\n",
    "        \"case manager\",\n",
    "        \"manager\",\n",
    "        \"case management\",\n",
    "        \"assessment\",\n",
    "        \"risk assessment\",\n",
    "    ],\n",
    "    \"EE Benefits\": [\"extra benefit\", \"healthy\", \"healthy benefit\"],\n",
    "    \"Authorization\": [\"authorization\", \"approved\", \"approval\"],\n",
    "    \"RX/Pharmacy\": [\n",
    "        \"rx\",\n",
    "        \"pharmacy\",\n",
    "        \"prescription\",\n",
    "        \"medication\",\n",
    "        \"medicine\",\n",
    "        \"get prescription\",\n",
    "        \"need prescription\",\n",
    "    ],\n",
    "    \"Provider\": [\"provider\", \"network\", \"pcp\", \"change pcp\"],\n",
    "    \"Transportation\": [\n",
    "        \"ride\",\n",
    "        \"need ride\",\n",
    "        \"transportation\",\n",
    "        \"need transportation\",\n",
    "        \"calling transportation\",\n",
    "        \"trip\",\n",
    "        \"get transportation\",\n",
    "    ],\n",
    "    \"Nurse Line\": [\"nurse\", \"nurse line\", \"line\", \"need nurse\"],\n",
    "    \"Access to Care\": [\"appointment\", \"care\", \"need help\", \"need speak\"],\n",
    "    \"Monthly Premium\": [\n",
    "        \"premium\",\n",
    "        \"make payment\",\n",
    "        \"premium payment\",\n",
    "        \"trying make payment\",\n",
    "    ],\n",
    "}\n",
    "\n",
    "\n",
    "MODEL_NAME = \"svm.pkl\"\n",
    "MESSAGE_COLUMN = \"Message\"\n",
    "LABEL_COLUMN = \"Reason for Call \"\n",
    "VOICE_MAIL_DATA = \"voicemail_data.xlsx\""
   ]
  },
  {
   "cell_type": "markdown",
   "metadata": {},
   "source": [
    "<br>\n",
    "<font color=magenta><h3> <b>Helper Functions</b></h3></font>\n"
   ]
  },
  {
   "cell_type": "code",
   "execution_count": 4,
   "metadata": {},
   "outputs": [
    {
     "data": {
      "application/javascript": [
       "\n",
       "            setTimeout(function() {\n",
       "                var nbb_cell_id = 4;\n",
       "                var nbb_unformatted_code = \"@contextmanager\\ndef s3_fileobj(key, bucket_name=BUCKET_NAME):\\n\\n        \\\"\\\"\\\"\\n        Yields a file object from the corresponding Prefix/Key at {bucket}/{key}.\\n\\n            :param bucket_name: Name of the S3 Bucket.\\n            :param key: Relative path from the base of S3 bucket, including\\n                    the filename and extension of the object to be retrieved.\\n        \\\"\\\"\\\"\\n\\n        try:\\n            obj = S3_CLIENT.get_object(Bucket=bucket_name, Key=key)\\n            yield io.BytesIO(obj[\\\"Body\\\"].read())\\n\\n        except exceptions.DataNotFoundError as error:\\n            print(\\\"Specified key does not exist\\\")\\n            raise error\\n\\n        except exceptions.ConnectTimeoutError as error:\\n            print(\\\"Connection got timed out try increasing the timeout value\\\")\\n            raise error\\n\\n        except exceptions.ClientError as error:\\n            print(err.response[\\\"Error\\\"][\\\"Message\\\"])\\n            raise error\\n\\ndef save_model_into_s3(\\n        model_prefix,\\n        model,\\n        model_name,\\n        bucket_name=BUCKET_NAME,\\n    ):\\n\\n        \\\"\\\"\\\"\\n        Saves Model checkpoint and tokenizer into the correponding prefix on S3 Bucket.\\n\\n            :param logger: custom_logger object to log the information.\\n            :param model_prefix: Relative path from the base of S3 bucket, including\\n                                the filename and extension of the model/tokenizer to be stored.\\n            :param model: model checkpoint used to save the state_dict of model object.\\n            :param model_name: Name of the checkpoint/model used to save the model.\\n            :param bucket_name: Name of the S3 Bucket.\\n        \\\"\\\"\\\"\\n\\n        try:\\n            model_byte_object = pickle.dumps(model)\\n            S3_CLIENT.put_object(\\n                Bucket=bucket_name,\\n                Key=f\\\"{model_prefix}/{model_name}\\\",\\n                Body=model_byte_object,\\n            )\\n\\n        except exceptions.ConnectTimeoutError as error:\\n            logger.exception(\\n                \\\"Connection got timed out try increasing the timeout value\\\",\\n                exc_info=True,\\n            )\\n            raise error\\n\\n        except exceptions.ClientError as error:\\n            logger.exception(err.response[\\\"Error\\\"][\\\"Message\\\"], exc_info=True)\";\n",
       "                var nbb_formatted_code = \"@contextmanager\\ndef s3_fileobj(key, bucket_name=BUCKET_NAME):\\n\\n    \\\"\\\"\\\"\\n    Yields a file object from the corresponding Prefix/Key at {bucket}/{key}.\\n\\n        :param bucket_name: Name of the S3 Bucket.\\n        :param key: Relative path from the base of S3 bucket, including\\n                the filename and extension of the object to be retrieved.\\n    \\\"\\\"\\\"\\n\\n    try:\\n        obj = S3_CLIENT.get_object(Bucket=bucket_name, Key=key)\\n        yield io.BytesIO(obj[\\\"Body\\\"].read())\\n\\n    except exceptions.DataNotFoundError as error:\\n        print(\\\"Specified key does not exist\\\")\\n        raise error\\n\\n    except exceptions.ConnectTimeoutError as error:\\n        print(\\\"Connection got timed out try increasing the timeout value\\\")\\n        raise error\\n\\n    except exceptions.ClientError as error:\\n        print(err.response[\\\"Error\\\"][\\\"Message\\\"])\\n        raise error\\n\\n\\ndef save_model_into_s3(\\n    model_prefix,\\n    model,\\n    model_name,\\n    bucket_name=BUCKET_NAME,\\n):\\n\\n    \\\"\\\"\\\"\\n    Saves Model checkpoint and tokenizer into the correponding prefix on S3 Bucket.\\n\\n        :param logger: custom_logger object to log the information.\\n        :param model_prefix: Relative path from the base of S3 bucket, including\\n                            the filename and extension of the model/tokenizer to be stored.\\n        :param model: model checkpoint used to save the state_dict of model object.\\n        :param model_name: Name of the checkpoint/model used to save the model.\\n        :param bucket_name: Name of the S3 Bucket.\\n    \\\"\\\"\\\"\\n\\n    try:\\n        model_byte_object = pickle.dumps(model)\\n        S3_CLIENT.put_object(\\n            Bucket=bucket_name,\\n            Key=f\\\"{model_prefix}/{model_name}\\\",\\n            Body=model_byte_object,\\n        )\\n\\n    except exceptions.ConnectTimeoutError as error:\\n        logger.exception(\\n            \\\"Connection got timed out try increasing the timeout value\\\",\\n            exc_info=True,\\n        )\\n        raise error\\n\\n    except exceptions.ClientError as error:\\n        logger.exception(err.response[\\\"Error\\\"][\\\"Message\\\"], exc_info=True)\";\n",
       "                var nbb_cells = Jupyter.notebook.get_cells();\n",
       "                for (var i = 0; i < nbb_cells.length; ++i) {\n",
       "                    if (nbb_cells[i].input_prompt_number == nbb_cell_id) {\n",
       "                        if (nbb_cells[i].get_text() == nbb_unformatted_code) {\n",
       "                             nbb_cells[i].set_text(nbb_formatted_code);\n",
       "                        }\n",
       "                        break;\n",
       "                    }\n",
       "                }\n",
       "            }, 500);\n",
       "            "
      ],
      "text/plain": [
       "<IPython.core.display.Javascript object>"
      ]
     },
     "metadata": {},
     "output_type": "display_data"
    }
   ],
   "source": [
    "@contextmanager\n",
    "def s3_fileobj(key, bucket_name=BUCKET_NAME):\n",
    "\n",
    "    \"\"\"\n",
    "    Yields a file object from the corresponding Prefix/Key at {bucket}/{key}.\n",
    "\n",
    "        :param bucket_name: Name of the S3 Bucket.\n",
    "        :param key: Relative path from the base of S3 bucket, including\n",
    "                the filename and extension of the object to be retrieved.\n",
    "    \"\"\"\n",
    "\n",
    "    try:\n",
    "        obj = S3_CLIENT.get_object(Bucket=bucket_name, Key=key)\n",
    "        yield io.BytesIO(obj[\"Body\"].read())\n",
    "\n",
    "    except exceptions.DataNotFoundError as error:\n",
    "        print(\"Specified key does not exist\")\n",
    "        raise error\n",
    "\n",
    "    except exceptions.ConnectTimeoutError as error:\n",
    "        print(\"Connection got timed out try increasing the timeout value\")\n",
    "        raise error\n",
    "\n",
    "    except exceptions.ClientError as error:\n",
    "        print(err.response[\"Error\"][\"Message\"])\n",
    "        raise error\n",
    "\n",
    "\n",
    "def save_model_into_s3(\n",
    "    model_prefix,\n",
    "    model,\n",
    "    model_name,\n",
    "    bucket_name=BUCKET_NAME,\n",
    "):\n",
    "\n",
    "    \"\"\"\n",
    "    Saves Model checkpoint and tokenizer into the correponding prefix on S3 Bucket.\n",
    "\n",
    "        :param logger: custom_logger object to log the information.\n",
    "        :param model_prefix: Relative path from the base of S3 bucket, including\n",
    "                            the filename and extension of the model/tokenizer to be stored.\n",
    "        :param model: model checkpoint used to save the state_dict of model object.\n",
    "        :param model_name: Name of the checkpoint/model used to save the model.\n",
    "        :param bucket_name: Name of the S3 Bucket.\n",
    "    \"\"\"\n",
    "\n",
    "    try:\n",
    "        model_byte_object = pickle.dumps(model)\n",
    "        S3_CLIENT.put_object(\n",
    "            Bucket=bucket_name,\n",
    "            Key=f\"{model_prefix}/{model_name}\",\n",
    "            Body=model_byte_object,\n",
    "        )\n",
    "\n",
    "    except exceptions.ConnectTimeoutError as error:\n",
    "        logger.exception(\n",
    "            \"Connection got timed out try increasing the timeout value\",\n",
    "            exc_info=True,\n",
    "        )\n",
    "        raise error\n",
    "\n",
    "    except exceptions.ClientError as error:\n",
    "        logger.exception(err.response[\"Error\"][\"Message\"], exc_info=True)"
   ]
  },
  {
   "cell_type": "code",
   "execution_count": 5,
   "metadata": {},
   "outputs": [
    {
     "data": {
      "application/javascript": [
       "\n",
       "            setTimeout(function() {\n",
       "                var nbb_cell_id = 5;\n",
       "                var nbb_unformatted_code = \"def get_metrics(classifier, train_sentence_vectors, eval_sentence_vectors, train_labels, eval_labels):\\n    # Computing Training accuracy\\n    \\n    train_hypothesis = classifier.predict(train_sentence_vectors)\\n    train_accuracy = metrics.accuracy_score(y_true=train_labels, y_pred=train_hypothesis)\\n\\n    # Computing Evaluation accuracy\\n    eval_hypothesis = classifier.predict(eval_sentence_vectors)\\n    eval_accuracy = metrics.accuracy_score(y_true=eval_labels, y_pred=eval_hypothesis)\\n    return train_accuracy, eval_accuracy\";\n",
       "                var nbb_formatted_code = \"def get_metrics(\\n    classifier, train_sentence_vectors, eval_sentence_vectors, train_labels, eval_labels\\n):\\n    # Computing Training accuracy\\n\\n    train_hypothesis = classifier.predict(train_sentence_vectors)\\n    train_accuracy = metrics.accuracy_score(\\n        y_true=train_labels, y_pred=train_hypothesis\\n    )\\n\\n    # Computing Evaluation accuracy\\n    eval_hypothesis = classifier.predict(eval_sentence_vectors)\\n    eval_accuracy = metrics.accuracy_score(y_true=eval_labels, y_pred=eval_hypothesis)\\n    return train_accuracy, eval_accuracy\";\n",
       "                var nbb_cells = Jupyter.notebook.get_cells();\n",
       "                for (var i = 0; i < nbb_cells.length; ++i) {\n",
       "                    if (nbb_cells[i].input_prompt_number == nbb_cell_id) {\n",
       "                        if (nbb_cells[i].get_text() == nbb_unformatted_code) {\n",
       "                             nbb_cells[i].set_text(nbb_formatted_code);\n",
       "                        }\n",
       "                        break;\n",
       "                    }\n",
       "                }\n",
       "            }, 500);\n",
       "            "
      ],
      "text/plain": [
       "<IPython.core.display.Javascript object>"
      ]
     },
     "metadata": {},
     "output_type": "display_data"
    }
   ],
   "source": [
    "def get_metrics(\n",
    "    classifier, train_sentence_vectors, eval_sentence_vectors, train_labels, eval_labels\n",
    "):\n",
    "    # Computing Training accuracy\n",
    "\n",
    "    train_hypothesis = classifier.predict(train_sentence_vectors)\n",
    "    train_accuracy = metrics.accuracy_score(\n",
    "        y_true=train_labels, y_pred=train_hypothesis\n",
    "    )\n",
    "\n",
    "    # Computing Evaluation accuracy\n",
    "    eval_hypothesis = classifier.predict(eval_sentence_vectors)\n",
    "    eval_accuracy = metrics.accuracy_score(y_true=eval_labels, y_pred=eval_hypothesis)\n",
    "    return train_accuracy, eval_accuracy"
   ]
  },
  {
   "cell_type": "code",
   "execution_count": 6,
   "metadata": {},
   "outputs": [
    {
     "data": {
      "application/javascript": [
       "\n",
       "            setTimeout(function() {\n",
       "                var nbb_cell_id = 6;\n",
       "                var nbb_unformatted_code = \"# Hepler function to get the value counts of different labels\\ndef get_value_counts(dataframe):\\n    labels = dataframe.loc[:, \\\"Reason for Call \\\"].value_counts().keys().tolist()\\n    counts = dataframe.loc[:, \\\"Reason for Call \\\"].value_counts().tolist()\\n    label_pattern = re.compile(r\\\"\\\\s*[;#]+\\\\s*\\\")\\n    labels_dict = {}\\n    for label, count in zip(labels, counts):\\n        match_obj = re.search(label_pattern, label)\\n        if match_obj:\\n            for label in re.split(label_pattern, label):\\n                if not label in labels_dict:\\n                    labels_dict[label] = 0\\n                labels_dict[label]+=count \\n        else:\\n            labels_dict[label] = count\\n    value_counts_df = pd.DataFrame(list(labels_dict.items()), columns=[\\\"Label\\\", \\\"Count\\\"])\\n    return value_counts_df\";\n",
       "                var nbb_formatted_code = \"# Hepler function to get the value counts of different labels\\ndef get_value_counts(dataframe):\\n    labels = dataframe.loc[:, \\\"Reason for Call \\\"].value_counts().keys().tolist()\\n    counts = dataframe.loc[:, \\\"Reason for Call \\\"].value_counts().tolist()\\n    label_pattern = re.compile(r\\\"\\\\s*[;#]+\\\\s*\\\")\\n    labels_dict = {}\\n    for label, count in zip(labels, counts):\\n        match_obj = re.search(label_pattern, label)\\n        if match_obj:\\n            for label in re.split(label_pattern, label):\\n                if not label in labels_dict:\\n                    labels_dict[label] = 0\\n                labels_dict[label] += count\\n        else:\\n            labels_dict[label] = count\\n    value_counts_df = pd.DataFrame(\\n        list(labels_dict.items()), columns=[\\\"Label\\\", \\\"Count\\\"]\\n    )\\n    return value_counts_df\";\n",
       "                var nbb_cells = Jupyter.notebook.get_cells();\n",
       "                for (var i = 0; i < nbb_cells.length; ++i) {\n",
       "                    if (nbb_cells[i].input_prompt_number == nbb_cell_id) {\n",
       "                        if (nbb_cells[i].get_text() == nbb_unformatted_code) {\n",
       "                             nbb_cells[i].set_text(nbb_formatted_code);\n",
       "                        }\n",
       "                        break;\n",
       "                    }\n",
       "                }\n",
       "            }, 500);\n",
       "            "
      ],
      "text/plain": [
       "<IPython.core.display.Javascript object>"
      ]
     },
     "metadata": {},
     "output_type": "display_data"
    }
   ],
   "source": [
    "# Hepler function to get the value counts of different labels\n",
    "def get_value_counts(dataframe):\n",
    "    labels = dataframe.loc[:, \"Reason for Call \"].value_counts().keys().tolist()\n",
    "    counts = dataframe.loc[:, \"Reason for Call \"].value_counts().tolist()\n",
    "    label_pattern = re.compile(r\"\\s*[;#]+\\s*\")\n",
    "    labels_dict = {}\n",
    "    for label, count in zip(labels, counts):\n",
    "        match_obj = re.search(label_pattern, label)\n",
    "        if match_obj:\n",
    "            for label in re.split(label_pattern, label):\n",
    "                if not label in labels_dict:\n",
    "                    labels_dict[label] = 0\n",
    "                labels_dict[label] += count\n",
    "        else:\n",
    "            labels_dict[label] = count\n",
    "    value_counts_df = pd.DataFrame(\n",
    "        list(labels_dict.items()), columns=[\"Label\", \"Count\"]\n",
    "    )\n",
    "    return value_counts_df"
   ]
  },
  {
   "cell_type": "code",
   "execution_count": 7,
   "metadata": {},
   "outputs": [
    {
     "data": {
      "application/javascript": [
       "\n",
       "            setTimeout(function() {\n",
       "                var nbb_cell_id = 7;\n",
       "                var nbb_unformatted_code = \"# Helper function to split the label string into list of labels\\ndef split_label(sentence):\\n    label_pattern = re.compile(r\\\"\\\\s*[;#]+\\\\s*\\\")\\n    return re.split(label_pattern, sentence)\\n\\n\\n# Helper function to encode the dependent feature\\ndef process_label_data(label):\\n    processed_label = []\\n    label_split_pattern = re.compile(r\\\"\\\\s*[;#]+\\\\s*\\\")\\n    for index, _label in enumerate(label):\\n        encoded_label = [0] * len(LABELS)\\n        for word in re.split(label_split_pattern, _label):\\n            encoded_label[LABELS.index(word)]+=1\\n        processed_label.append(encoded_label)\\n    return np.array(processed_label)\\n\\n\\n# Helper function for replacing the general words\\ndef general_substitutions(sentence):\\n    substitution_patterns = [\\n    (r\\\"\\\\s+\\\", \\\" \\\"),\\n    (r\\\"\\\\s*\\\\.+\\\", \\\" \\\"),\\n    (r\\\"\\\\'m\\\", \\\"am\\\"),\\n    (r\\\"\\\\'s\\\", \\\"is\\\"),\\n    (r\\\"\\\\'re\\\", \\\"are\\\"),\\n    (r\\\"n\\\\'t\\\", \\\"not\\\"),\\n    (r\\\"\\\\'ll\\\", \\\"will\\\"),\\n    (r\\\"LAUSD\\\", \\\" \\\"),\\n    (r\\\"dr\\\", \\\"doctor\\\"),\\n    (r\\\"mbr\\\", \\\"member\\\"),\\n    (r\\\"Repeat caller\\\", \\\" \\\"),\\n    (r\\\"appt\\\", \\\"appointment\\\")\\n]\\n    for old, new in substitution_patterns:\\n        sentence = re.sub(old, new, sentence, flags=re.I)\\n    return sentence.lower()\\n\\n# Helper function for removing the unwanted words from sentence\\ndef clean_sentence(sentence):\\n    unwanted_pattern = re.compile(r\\\"([-:@#$/]+)|([*(\\\\[]+.*?[*)\\\\]]+)\\\", flags=re.I)\\n    email_pattern = re.compile(r\\\"^[a-zA-Z0-9_.+-]+@[a-zA-Z0-9-]+\\\\.[a-zA-Z0-9-.]+$\\\", flags=re.I)\\n    id_pattern = re.compile(\\n        r\\\"([0-9]+[a-zA-Z]+[0-9a-zA-Z]+)|([A-Z]+[0-9]+[A-Z]+)\\\", flags=re.I\\n    )\\n    month_pattern = re.compile(\\n        r\\\"((?:Jan(?:uary)?|Feb(?:ruary)?|Mar(?:ch)?|Apr(?:il)?|May|Jun(?:e)?|Jul(?:y)?|Aug(?:ust)?|Sep(?:tember)?|Sept|Oct(?:ober)?|Nov(?:ember)?|Dec(?:ember)?))\\\",\\n        flags=re.I,\\n    )\\n    sentence = re.sub(unwanted_pattern, \\\" \\\", sentence)\\n    sentence = re.sub(email_pattern, \\\" \\\", sentence)\\n    sentence = re.sub(id_pattern, \\\" \\\", sentence)\\n    sentence = re.sub(month_pattern, \\\" \\\", sentence)\\n    sentence = re.sub(r\\\"\\\\d+\\\", \\\" \\\", sentence)\\n    sentence = general_substitutions(sentence=sentence)\\n    return sentence\";\n",
       "                var nbb_formatted_code = \"# Helper function to split the label string into list of labels\\ndef split_label(sentence):\\n    label_pattern = re.compile(r\\\"\\\\s*[;#]+\\\\s*\\\")\\n    return re.split(label_pattern, sentence)\\n\\n\\n# Helper function to encode the dependent feature\\ndef process_label_data(label):\\n    processed_label = []\\n    label_split_pattern = re.compile(r\\\"\\\\s*[;#]+\\\\s*\\\")\\n    for index, _label in enumerate(label):\\n        encoded_label = [0] * len(LABELS)\\n        for word in re.split(label_split_pattern, _label):\\n            encoded_label[LABELS.index(word)] += 1\\n        processed_label.append(encoded_label)\\n    return np.array(processed_label)\\n\\n\\n# Helper function for replacing the general words\\ndef general_substitutions(sentence):\\n    substitution_patterns = [\\n        (r\\\"\\\\s+\\\", \\\" \\\"),\\n        (r\\\"\\\\s*\\\\.+\\\", \\\" \\\"),\\n        (r\\\"\\\\'m\\\", \\\"am\\\"),\\n        (r\\\"\\\\'s\\\", \\\"is\\\"),\\n        (r\\\"\\\\'re\\\", \\\"are\\\"),\\n        (r\\\"n\\\\'t\\\", \\\"not\\\"),\\n        (r\\\"\\\\'ll\\\", \\\"will\\\"),\\n        (r\\\"LAUSD\\\", \\\" \\\"),\\n        (r\\\"dr\\\", \\\"doctor\\\"),\\n        (r\\\"mbr\\\", \\\"member\\\"),\\n        (r\\\"Repeat caller\\\", \\\" \\\"),\\n        (r\\\"appt\\\", \\\"appointment\\\"),\\n    ]\\n    for old, new in substitution_patterns:\\n        sentence = re.sub(old, new, sentence, flags=re.I)\\n    return sentence.lower()\\n\\n\\n# Helper function for removing the unwanted words from sentence\\ndef clean_sentence(sentence):\\n    unwanted_pattern = re.compile(r\\\"([-:@#$/]+)|([*(\\\\[]+.*?[*)\\\\]]+)\\\", flags=re.I)\\n    email_pattern = re.compile(\\n        r\\\"^[a-zA-Z0-9_.+-]+@[a-zA-Z0-9-]+\\\\.[a-zA-Z0-9-.]+$\\\", flags=re.I\\n    )\\n    id_pattern = re.compile(\\n        r\\\"([0-9]+[a-zA-Z]+[0-9a-zA-Z]+)|([A-Z]+[0-9]+[A-Z]+)\\\", flags=re.I\\n    )\\n    month_pattern = re.compile(\\n        r\\\"((?:Jan(?:uary)?|Feb(?:ruary)?|Mar(?:ch)?|Apr(?:il)?|May|Jun(?:e)?|Jul(?:y)?|Aug(?:ust)?|Sep(?:tember)?|Sept|Oct(?:ober)?|Nov(?:ember)?|Dec(?:ember)?))\\\",\\n        flags=re.I,\\n    )\\n    sentence = re.sub(unwanted_pattern, \\\" \\\", sentence)\\n    sentence = re.sub(email_pattern, \\\" \\\", sentence)\\n    sentence = re.sub(id_pattern, \\\" \\\", sentence)\\n    sentence = re.sub(month_pattern, \\\" \\\", sentence)\\n    sentence = re.sub(r\\\"\\\\d+\\\", \\\" \\\", sentence)\\n    sentence = general_substitutions(sentence=sentence)\\n    return sentence\";\n",
       "                var nbb_cells = Jupyter.notebook.get_cells();\n",
       "                for (var i = 0; i < nbb_cells.length; ++i) {\n",
       "                    if (nbb_cells[i].input_prompt_number == nbb_cell_id) {\n",
       "                        if (nbb_cells[i].get_text() == nbb_unformatted_code) {\n",
       "                             nbb_cells[i].set_text(nbb_formatted_code);\n",
       "                        }\n",
       "                        break;\n",
       "                    }\n",
       "                }\n",
       "            }, 500);\n",
       "            "
      ],
      "text/plain": [
       "<IPython.core.display.Javascript object>"
      ]
     },
     "metadata": {},
     "output_type": "display_data"
    }
   ],
   "source": [
    "# Helper function to split the label string into list of labels\n",
    "def split_label(sentence):\n",
    "    label_pattern = re.compile(r\"\\s*[;#]+\\s*\")\n",
    "    return re.split(label_pattern, sentence)\n",
    "\n",
    "\n",
    "# Helper function to encode the dependent feature\n",
    "def process_label_data(label):\n",
    "    processed_label = []\n",
    "    label_split_pattern = re.compile(r\"\\s*[;#]+\\s*\")\n",
    "    for index, _label in enumerate(label):\n",
    "        encoded_label = [0] * len(LABELS)\n",
    "        for word in re.split(label_split_pattern, _label):\n",
    "            encoded_label[LABELS.index(word)] += 1\n",
    "        processed_label.append(encoded_label)\n",
    "    return np.array(processed_label)\n",
    "\n",
    "\n",
    "# Helper function for replacing the general words\n",
    "def general_substitutions(sentence):\n",
    "    substitution_patterns = [\n",
    "        (r\"\\s+\", \" \"),\n",
    "        (r\"\\s*\\.+\", \" \"),\n",
    "        (r\"\\'m\", \"am\"),\n",
    "        (r\"\\'s\", \"is\"),\n",
    "        (r\"\\'re\", \"are\"),\n",
    "        (r\"n\\'t\", \"not\"),\n",
    "        (r\"\\'ll\", \"will\"),\n",
    "        (r\"LAUSD\", \" \"),\n",
    "        (r\"dr\", \"doctor\"),\n",
    "        (r\"mbr\", \"member\"),\n",
    "        (r\"Repeat caller\", \" \"),\n",
    "        (r\"appt\", \"appointment\"),\n",
    "    ]\n",
    "    for old, new in substitution_patterns:\n",
    "        sentence = re.sub(old, new, sentence, flags=re.I)\n",
    "    return sentence.lower()\n",
    "\n",
    "\n",
    "# Helper function for removing the unwanted words from sentence\n",
    "def clean_sentence(sentence):\n",
    "    unwanted_pattern = re.compile(r\"([-:@#$/]+)|([*(\\[]+.*?[*)\\]]+)\", flags=re.I)\n",
    "    email_pattern = re.compile(\n",
    "        r\"^[a-zA-Z0-9_.+-]+@[a-zA-Z0-9-]+\\.[a-zA-Z0-9-.]+$\", flags=re.I\n",
    "    )\n",
    "    id_pattern = re.compile(\n",
    "        r\"([0-9]+[a-zA-Z]+[0-9a-zA-Z]+)|([A-Z]+[0-9]+[A-Z]+)\", flags=re.I\n",
    "    )\n",
    "    month_pattern = re.compile(\n",
    "        r\"((?:Jan(?:uary)?|Feb(?:ruary)?|Mar(?:ch)?|Apr(?:il)?|May|Jun(?:e)?|Jul(?:y)?|Aug(?:ust)?|Sep(?:tember)?|Sept|Oct(?:ober)?|Nov(?:ember)?|Dec(?:ember)?))\",\n",
    "        flags=re.I,\n",
    "    )\n",
    "    sentence = re.sub(unwanted_pattern, \" \", sentence)\n",
    "    sentence = re.sub(email_pattern, \" \", sentence)\n",
    "    sentence = re.sub(id_pattern, \" \", sentence)\n",
    "    sentence = re.sub(month_pattern, \" \", sentence)\n",
    "    sentence = re.sub(r\"\\d+\", \" \", sentence)\n",
    "    sentence = general_substitutions(sentence=sentence)\n",
    "    return sentence"
   ]
  },
  {
   "cell_type": "code",
   "execution_count": 8,
   "metadata": {},
   "outputs": [
    {
     "data": {
      "application/javascript": [
       "\n",
       "            setTimeout(function() {\n",
       "                var nbb_cell_id = 8;\n",
       "                var nbb_unformatted_code = \"# Helper function for text preprocessing/cleaning\\ndef preprocess_data(message, label=None, mode=\\\"train\\\"):\\n    stop_words = nltk.corpus.stopwords.words(\\\"english\\\")\\n    punctuations = list(string.punctuation)\\n    if mode == \\\"train\\\":\\n        for index, (sentence, _label) in enumerate(zip(message, label)):\\n            cleaned_sentence = clean_sentence(sentence=sentence)\\n            if len(sentence) <= 1:\\n                message.pop(index)\\n                label.pop(index)\\n            elif len(sentence) >1:\\n                message[index] = \\\" \\\".join(\\n                    [word for word in cleaned_sentence.split() if word not in stop_words if word not in punctuations]\\n                )\\n                label[index] = _label.strip()\\n\\n        data = list(map(list, zip(*list(set(zip(message, label))))))\\n        message = np.array(data[0])\\n        label = np.array(data[1])\\n        processed_label = np.array(process_label_data(label=data[1]))\\n        return {\\n            \\\"message\\\": message, \\n            \\\"label\\\": label, \\n            \\\"processed_label\\\": processed_label\\n        }\\n    \\n    elif mode in [\\\"eval\\\", \\\"serve\\\"]:\\n        for index, sentence in enumerate(message):\\n            cleaned_sentence = clean_sentence(sentence=sentence)\\n            message[index] = \\\" \\\".join(\\n                    [word for word in cleaned_sentence.split() if word not in stop_words if word not in punctuations]\\n                )\\n        return {\\n            \\\"message\\\": message\\n        }\\n        \";\n",
       "                var nbb_formatted_code = \"# Helper function for text preprocessing/cleaning\\ndef preprocess_data(message, label=None, mode=\\\"train\\\"):\\n    stop_words = nltk.corpus.stopwords.words(\\\"english\\\")\\n    punctuations = list(string.punctuation)\\n    if mode == \\\"train\\\":\\n        for index, (sentence, _label) in enumerate(zip(message, label)):\\n            cleaned_sentence = clean_sentence(sentence=sentence)\\n            if len(sentence) <= 1:\\n                message.pop(index)\\n                label.pop(index)\\n            elif len(sentence) > 1:\\n                message[index] = \\\" \\\".join(\\n                    [\\n                        word\\n                        for word in cleaned_sentence.split()\\n                        if word not in stop_words\\n                        if word not in punctuations\\n                    ]\\n                )\\n                label[index] = _label.strip()\\n\\n        data = list(map(list, zip(*list(set(zip(message, label))))))\\n        message = np.array(data[0])\\n        label = np.array(data[1])\\n        processed_label = np.array(process_label_data(label=data[1]))\\n        return {\\\"message\\\": message, \\\"label\\\": label, \\\"processed_label\\\": processed_label}\\n\\n    elif mode in [\\\"eval\\\", \\\"serve\\\"]:\\n        for index, sentence in enumerate(message):\\n            cleaned_sentence = clean_sentence(sentence=sentence)\\n            message[index] = \\\" \\\".join(\\n                [\\n                    word\\n                    for word in cleaned_sentence.split()\\n                    if word not in stop_words\\n                    if word not in punctuations\\n                ]\\n            )\\n        return {\\\"message\\\": message}\";\n",
       "                var nbb_cells = Jupyter.notebook.get_cells();\n",
       "                for (var i = 0; i < nbb_cells.length; ++i) {\n",
       "                    if (nbb_cells[i].input_prompt_number == nbb_cell_id) {\n",
       "                        if (nbb_cells[i].get_text() == nbb_unformatted_code) {\n",
       "                             nbb_cells[i].set_text(nbb_formatted_code);\n",
       "                        }\n",
       "                        break;\n",
       "                    }\n",
       "                }\n",
       "            }, 500);\n",
       "            "
      ],
      "text/plain": [
       "<IPython.core.display.Javascript object>"
      ]
     },
     "metadata": {},
     "output_type": "display_data"
    }
   ],
   "source": [
    "# Helper function for text preprocessing/cleaning\n",
    "def preprocess_data(message, label=None, mode=\"train\"):\n",
    "    stop_words = nltk.corpus.stopwords.words(\"english\")\n",
    "    punctuations = list(string.punctuation)\n",
    "    if mode == \"train\":\n",
    "        for index, (sentence, _label) in enumerate(zip(message, label)):\n",
    "            cleaned_sentence = clean_sentence(sentence=sentence)\n",
    "            if len(sentence) <= 1:\n",
    "                message.pop(index)\n",
    "                label.pop(index)\n",
    "            elif len(sentence) > 1:\n",
    "                message[index] = \" \".join(\n",
    "                    [\n",
    "                        word\n",
    "                        for word in cleaned_sentence.split()\n",
    "                        if word not in stop_words\n",
    "                        if word not in punctuations\n",
    "                    ]\n",
    "                )\n",
    "                label[index] = _label.strip()\n",
    "\n",
    "        data = list(map(list, zip(*list(set(zip(message, label))))))\n",
    "        message = np.array(data[0])\n",
    "        label = np.array(data[1])\n",
    "        processed_label = np.array(process_label_data(label=data[1]))\n",
    "        return {\"message\": message, \"label\": label, \"processed_label\": processed_label}\n",
    "\n",
    "    elif mode in [\"eval\", \"serve\"]:\n",
    "        for index, sentence in enumerate(message):\n",
    "            cleaned_sentence = clean_sentence(sentence=sentence)\n",
    "            message[index] = \" \".join(\n",
    "                [\n",
    "                    word\n",
    "                    for word in cleaned_sentence.split()\n",
    "                    if word not in stop_words\n",
    "                    if word not in punctuations\n",
    "                ]\n",
    "            )\n",
    "        return {\"message\": message}"
   ]
  },
  {
   "cell_type": "code",
   "execution_count": 9,
   "metadata": {},
   "outputs": [
    {
     "data": {
      "application/javascript": [
       "\n",
       "            setTimeout(function() {\n",
       "                var nbb_cell_id = 9;\n",
       "                var nbb_unformatted_code = \"# Helper function for slicing the dataset\\ndef data_selection(dataframe):\\n    processed_dataframe = pd.DataFrame(columns=[MESSAGE_COLUMN, LABEL_COLUMN, \\\"Matched Word Length\\\"])\\n    data_dict = {}\\n    labels = dataframe.loc[:, LABEL_COLUMN].unique().tolist()\\n    for index, label in enumerate(labels):\\n        label_dataframe = dataframe.loc[dataframe[LABEL_COLUMN]==label, :]\\n        if \\\";#\\\" in label:\\n            processed_dataframe = processed_dataframe.append(label_dataframe.to_dict(\\\"records\\\"), ignore_index=True)\\n        else:\\n            if label == \\\"No Reason Given\\\":\\n                processed_dataframe = processed_dataframe.append(random.sample(label_dataframe.to_dict(\\\"records\\\"), k=700), ignore_index=True)\\n            elif label in [\\\"Access to Care\\\", \\\"Need Case Management\\\"]:\\n                processed_dataframe = processed_dataframe.append(label_dataframe.to_dict(\\\"records\\\"), ignore_index=True)\\n            else:\\n                anchor_words = ANCHOR_WORDS.get(label)\\n                label_dataframe[\\\"Matched Word Length\\\"] = label_dataframe[MESSAGE_COLUMN].apply(lambda x : len(set(x.split()) & set(anchor_words)))\\n                final_dataframe = label_dataframe.loc[label_dataframe[\\\"Matched Word Length\\\"]>=1,:]\\n                if len(final_dataframe)>=700:\\n                    processed_dataframe = processed_dataframe.append(random.sample(final_dataframe.to_dict(\\\"records\\\"), k=700), ignore_index=True)\\n                else:\\n                    processed_dataframe = processed_dataframe.append(random.sample(final_dataframe.to_dict(\\\"records\\\"), k=len(final_dataframe)), ignore_index=True)\\n    return processed_dataframe.loc[:, [MESSAGE_COLUMN, LABEL_COLUMN]]\";\n",
       "                var nbb_formatted_code = \"# Helper function for slicing the dataset\\ndef data_selection(dataframe):\\n    processed_dataframe = pd.DataFrame(\\n        columns=[MESSAGE_COLUMN, LABEL_COLUMN, \\\"Matched Word Length\\\"]\\n    )\\n    data_dict = {}\\n    labels = dataframe.loc[:, LABEL_COLUMN].unique().tolist()\\n    for index, label in enumerate(labels):\\n        label_dataframe = dataframe.loc[dataframe[LABEL_COLUMN] == label, :]\\n        if \\\";#\\\" in label:\\n            processed_dataframe = processed_dataframe.append(\\n                label_dataframe.to_dict(\\\"records\\\"), ignore_index=True\\n            )\\n        else:\\n            if label == \\\"No Reason Given\\\":\\n                processed_dataframe = processed_dataframe.append(\\n                    random.sample(label_dataframe.to_dict(\\\"records\\\"), k=700),\\n                    ignore_index=True,\\n                )\\n            elif label in [\\\"Access to Care\\\", \\\"Need Case Management\\\"]:\\n                processed_dataframe = processed_dataframe.append(\\n                    label_dataframe.to_dict(\\\"records\\\"), ignore_index=True\\n                )\\n            else:\\n                anchor_words = ANCHOR_WORDS.get(label)\\n                label_dataframe[\\\"Matched Word Length\\\"] = label_dataframe[\\n                    MESSAGE_COLUMN\\n                ].apply(lambda x: len(set(x.split()) & set(anchor_words)))\\n                final_dataframe = label_dataframe.loc[\\n                    label_dataframe[\\\"Matched Word Length\\\"] >= 1, :\\n                ]\\n                if len(final_dataframe) >= 700:\\n                    processed_dataframe = processed_dataframe.append(\\n                        random.sample(final_dataframe.to_dict(\\\"records\\\"), k=700),\\n                        ignore_index=True,\\n                    )\\n                else:\\n                    processed_dataframe = processed_dataframe.append(\\n                        random.sample(\\n                            final_dataframe.to_dict(\\\"records\\\"), k=len(final_dataframe)\\n                        ),\\n                        ignore_index=True,\\n                    )\\n    return processed_dataframe.loc[:, [MESSAGE_COLUMN, LABEL_COLUMN]]\";\n",
       "                var nbb_cells = Jupyter.notebook.get_cells();\n",
       "                for (var i = 0; i < nbb_cells.length; ++i) {\n",
       "                    if (nbb_cells[i].input_prompt_number == nbb_cell_id) {\n",
       "                        if (nbb_cells[i].get_text() == nbb_unformatted_code) {\n",
       "                             nbb_cells[i].set_text(nbb_formatted_code);\n",
       "                        }\n",
       "                        break;\n",
       "                    }\n",
       "                }\n",
       "            }, 500);\n",
       "            "
      ],
      "text/plain": [
       "<IPython.core.display.Javascript object>"
      ]
     },
     "metadata": {},
     "output_type": "display_data"
    }
   ],
   "source": [
    "# Helper function for slicing the dataset\n",
    "def data_selection(dataframe):\n",
    "    processed_dataframe = pd.DataFrame(\n",
    "        columns=[MESSAGE_COLUMN, LABEL_COLUMN, \"Matched Word Length\"]\n",
    "    )\n",
    "    data_dict = {}\n",
    "    labels = dataframe.loc[:, LABEL_COLUMN].unique().tolist()\n",
    "    for index, label in enumerate(labels):\n",
    "        label_dataframe = dataframe.loc[dataframe[LABEL_COLUMN] == label, :]\n",
    "        if \";#\" in label:\n",
    "            processed_dataframe = processed_dataframe.append(\n",
    "                label_dataframe.to_dict(\"records\"), ignore_index=True\n",
    "            )\n",
    "        else:\n",
    "            if label == \"No Reason Given\":\n",
    "                processed_dataframe = processed_dataframe.append(\n",
    "                    random.sample(label_dataframe.to_dict(\"records\"), k=700),\n",
    "                    ignore_index=True,\n",
    "                )\n",
    "            elif label in [\"Access to Care\", \"Need Case Management\"]:\n",
    "                processed_dataframe = processed_dataframe.append(\n",
    "                    label_dataframe.to_dict(\"records\"), ignore_index=True\n",
    "                )\n",
    "            else:\n",
    "                anchor_words = ANCHOR_WORDS.get(label)\n",
    "                label_dataframe[\"Matched Word Length\"] = label_dataframe[\n",
    "                    MESSAGE_COLUMN\n",
    "                ].apply(lambda x: len(set(x.split()) & set(anchor_words)))\n",
    "                final_dataframe = label_dataframe.loc[\n",
    "                    label_dataframe[\"Matched Word Length\"] >= 1, :\n",
    "                ]\n",
    "                if len(final_dataframe) >= 700:\n",
    "                    processed_dataframe = processed_dataframe.append(\n",
    "                        random.sample(final_dataframe.to_dict(\"records\"), k=700),\n",
    "                        ignore_index=True,\n",
    "                    )\n",
    "                else:\n",
    "                    processed_dataframe = processed_dataframe.append(\n",
    "                        random.sample(\n",
    "                            final_dataframe.to_dict(\"records\"), k=len(final_dataframe)\n",
    "                        ),\n",
    "                        ignore_index=True,\n",
    "                    )\n",
    "    return processed_dataframe.loc[:, [MESSAGE_COLUMN, LABEL_COLUMN]]"
   ]
  },
  {
   "cell_type": "markdown",
   "metadata": {},
   "source": [
    "<br>\n",
    "<font color=magenta><h3> <b>Dataset Preparation</b></h3></font>\n"
   ]
  },
  {
   "cell_type": "code",
   "execution_count": 10,
   "metadata": {},
   "outputs": [
    {
     "data": {
      "application/javascript": [
       "\n",
       "            setTimeout(function() {\n",
       "                var nbb_cell_id = 10;\n",
       "                var nbb_unformatted_code = \"# Next, we'll load the dataset of medicare-voicemail from the S3 Bucket\\nwith s3_fileobj(key=f\\\"{DATASET_PREFIX}/{VOICE_MAIL_DATA}\\\") as f:\\n    dataframe = pd.read_excel(f, usecols=[MESSAGE_COLUMN, LABEL_COLUMN], engine=\\\"openpyxl\\\")\";\n",
       "                var nbb_formatted_code = \"# Next, we'll load the dataset of medicare-voicemail from the S3 Bucket\\nwith s3_fileobj(key=f\\\"{DATASET_PREFIX}/{VOICE_MAIL_DATA}\\\") as f:\\n    dataframe = pd.read_excel(\\n        f, usecols=[MESSAGE_COLUMN, LABEL_COLUMN], engine=\\\"openpyxl\\\"\\n    )\";\n",
       "                var nbb_cells = Jupyter.notebook.get_cells();\n",
       "                for (var i = 0; i < nbb_cells.length; ++i) {\n",
       "                    if (nbb_cells[i].input_prompt_number == nbb_cell_id) {\n",
       "                        if (nbb_cells[i].get_text() == nbb_unformatted_code) {\n",
       "                             nbb_cells[i].set_text(nbb_formatted_code);\n",
       "                        }\n",
       "                        break;\n",
       "                    }\n",
       "                }\n",
       "            }, 500);\n",
       "            "
      ],
      "text/plain": [
       "<IPython.core.display.Javascript object>"
      ]
     },
     "metadata": {},
     "output_type": "display_data"
    }
   ],
   "source": [
    "# Next, we'll load the dataset of medicare-voicemail from the S3 Bucket\n",
    "with s3_fileobj(key=f\"{DATASET_PREFIX}/{VOICE_MAIL_DATA}\") as f:\n",
    "    dataframe = pd.read_excel(\n",
    "        f, usecols=[MESSAGE_COLUMN, LABEL_COLUMN], engine=\"openpyxl\"\n",
    "    )"
   ]
  },
  {
   "cell_type": "code",
   "execution_count": 11,
   "metadata": {},
   "outputs": [
    {
     "name": "stdout",
     "output_type": "stream",
     "text": [
      "Length of dataset before pre-processing --> 27182\n"
     ]
    },
    {
     "data": {
      "application/javascript": [
       "\n",
       "            setTimeout(function() {\n",
       "                var nbb_cell_id = 11;\n",
       "                var nbb_unformatted_code = \"# Let's see how many records are present in voice-mail data\\nprint(\\\"Length of dataset before pre-processing -->\\\", len(dataframe))\";\n",
       "                var nbb_formatted_code = \"# Let's see how many records are present in voice-mail data\\nprint(\\\"Length of dataset before pre-processing -->\\\", len(dataframe))\";\n",
       "                var nbb_cells = Jupyter.notebook.get_cells();\n",
       "                for (var i = 0; i < nbb_cells.length; ++i) {\n",
       "                    if (nbb_cells[i].input_prompt_number == nbb_cell_id) {\n",
       "                        if (nbb_cells[i].get_text() == nbb_unformatted_code) {\n",
       "                             nbb_cells[i].set_text(nbb_formatted_code);\n",
       "                        }\n",
       "                        break;\n",
       "                    }\n",
       "                }\n",
       "            }, 500);\n",
       "            "
      ],
      "text/plain": [
       "<IPython.core.display.Javascript object>"
      ]
     },
     "metadata": {},
     "output_type": "display_data"
    }
   ],
   "source": [
    "# Let's see how many records are present in voice-mail data\n",
    "print(\"Length of dataset before pre-processing -->\", len(dataframe))"
   ]
  },
  {
   "cell_type": "code",
   "execution_count": 12,
   "metadata": {},
   "outputs": [
    {
     "name": "stdout",
     "output_type": "stream",
     "text": [
      "Number of null/empty values in Message Column         --> 0\n",
      "\n",
      "Number of null/empty values in Reason for Call Column --> 0\n",
      "\n"
     ]
    },
    {
     "data": {
      "application/javascript": [
       "\n",
       "            setTimeout(function() {\n",
       "                var nbb_cell_id = 12;\n",
       "                var nbb_unformatted_code = \"# Let's see how many null/empty values are present in voice-mail data\\nprint(\\\"Number of null/empty values in Message Column         -->\\\", dataframe.loc[:, \\\"Message\\\"].isna().sum(), end=\\\"\\\\n\\\\n\\\")\\nprint(\\\"Number of null/empty values in Reason for Call Column -->\\\", dataframe.loc[:, \\\"Reason for Call \\\"].isna().sum(), end=\\\"\\\\n\\\\n\\\")\";\n",
       "                var nbb_formatted_code = \"# Let's see how many null/empty values are present in voice-mail data\\nprint(\\n    \\\"Number of null/empty values in Message Column         -->\\\",\\n    dataframe.loc[:, \\\"Message\\\"].isna().sum(),\\n    end=\\\"\\\\n\\\\n\\\",\\n)\\nprint(\\n    \\\"Number of null/empty values in Reason for Call Column -->\\\",\\n    dataframe.loc[:, \\\"Reason for Call \\\"].isna().sum(),\\n    end=\\\"\\\\n\\\\n\\\",\\n)\";\n",
       "                var nbb_cells = Jupyter.notebook.get_cells();\n",
       "                for (var i = 0; i < nbb_cells.length; ++i) {\n",
       "                    if (nbb_cells[i].input_prompt_number == nbb_cell_id) {\n",
       "                        if (nbb_cells[i].get_text() == nbb_unformatted_code) {\n",
       "                             nbb_cells[i].set_text(nbb_formatted_code);\n",
       "                        }\n",
       "                        break;\n",
       "                    }\n",
       "                }\n",
       "            }, 500);\n",
       "            "
      ],
      "text/plain": [
       "<IPython.core.display.Javascript object>"
      ]
     },
     "metadata": {},
     "output_type": "display_data"
    }
   ],
   "source": [
    "# Let's see how many null/empty values are present in voice-mail data\n",
    "print(\n",
    "    \"Number of null/empty values in Message Column         -->\",\n",
    "    dataframe.loc[:, \"Message\"].isna().sum(),\n",
    "    end=\"\\n\\n\",\n",
    ")\n",
    "print(\n",
    "    \"Number of null/empty values in Reason for Call Column -->\",\n",
    "    dataframe.loc[:, \"Reason for Call \"].isna().sum(),\n",
    "    end=\"\\n\\n\",\n",
    ")"
   ]
  },
  {
   "cell_type": "code",
   "execution_count": 13,
   "metadata": {},
   "outputs": [
    {
     "data": {
      "text/html": [
       "<div>\n",
       "<style scoped>\n",
       "    .dataframe tbody tr th:only-of-type {\n",
       "        vertical-align: middle;\n",
       "    }\n",
       "\n",
       "    .dataframe tbody tr th {\n",
       "        vertical-align: top;\n",
       "    }\n",
       "\n",
       "    .dataframe thead th {\n",
       "        text-align: right;\n",
       "    }\n",
       "</style>\n",
       "<table border=\"1\" class=\"dataframe\">\n",
       "  <thead>\n",
       "    <tr style=\"text-align: right;\">\n",
       "      <th></th>\n",
       "      <th>Reason for Call</th>\n",
       "      <th>Message</th>\n",
       "    </tr>\n",
       "  </thead>\n",
       "  <tbody>\n",
       "    <tr>\n",
       "      <th>0</th>\n",
       "      <td>OTC</td>\n",
       "      <td>like to place an order</td>\n",
       "    </tr>\n",
       "    <tr>\n",
       "      <th>1</th>\n",
       "      <td>Authorization</td>\n",
       "      <td>needs to talk about an authorization for some ...</td>\n",
       "    </tr>\n",
       "    <tr>\n",
       "      <th>2</th>\n",
       "      <td>Benefits</td>\n",
       "      <td>needs to change address.</td>\n",
       "    </tr>\n",
       "    <tr>\n",
       "      <th>3</th>\n",
       "      <td>Benefits</td>\n",
       "      <td>calling for coverage and benefits.</td>\n",
       "    </tr>\n",
       "    <tr>\n",
       "      <th>4</th>\n",
       "      <td>Benefits</td>\n",
       "      <td>call me about botox please.</td>\n",
       "    </tr>\n",
       "  </tbody>\n",
       "</table>\n",
       "</div>"
      ],
      "text/plain": [
       "  Reason for Call                                             Message\n",
       "0              OTC                             like to place an order\n",
       "1    Authorization  needs to talk about an authorization for some ...\n",
       "2         Benefits                           needs to change address.\n",
       "3         Benefits                 calling for coverage and benefits.\n",
       "4         Benefits                        call me about botox please."
      ]
     },
     "execution_count": 13,
     "metadata": {},
     "output_type": "execute_result"
    },
    {
     "data": {
      "application/javascript": [
       "\n",
       "            setTimeout(function() {\n",
       "                var nbb_cell_id = 13;\n",
       "                var nbb_unformatted_code = \"# Let's see what's in the voice-mail data\\ndataframe.head()\";\n",
       "                var nbb_formatted_code = \"# Let's see what's in the voice-mail data\\ndataframe.head()\";\n",
       "                var nbb_cells = Jupyter.notebook.get_cells();\n",
       "                for (var i = 0; i < nbb_cells.length; ++i) {\n",
       "                    if (nbb_cells[i].input_prompt_number == nbb_cell_id) {\n",
       "                        if (nbb_cells[i].get_text() == nbb_unformatted_code) {\n",
       "                             nbb_cells[i].set_text(nbb_formatted_code);\n",
       "                        }\n",
       "                        break;\n",
       "                    }\n",
       "                }\n",
       "            }, 500);\n",
       "            "
      ],
      "text/plain": [
       "<IPython.core.display.Javascript object>"
      ]
     },
     "metadata": {},
     "output_type": "display_data"
    }
   ],
   "source": [
    "# Let's see what's in the voice-mail data\n",
    "dataframe.head()"
   ]
  },
  {
   "cell_type": "code",
   "execution_count": 14,
   "metadata": {},
   "outputs": [
    {
     "data": {
      "text/html": [
       "<div>\n",
       "<style scoped>\n",
       "    .dataframe tbody tr th:only-of-type {\n",
       "        vertical-align: middle;\n",
       "    }\n",
       "\n",
       "    .dataframe tbody tr th {\n",
       "        vertical-align: top;\n",
       "    }\n",
       "\n",
       "    .dataframe thead th {\n",
       "        text-align: right;\n",
       "    }\n",
       "</style>\n",
       "<table border=\"1\" class=\"dataframe\">\n",
       "  <thead>\n",
       "    <tr style=\"text-align: right;\">\n",
       "      <th></th>\n",
       "      <th>Label</th>\n",
       "      <th>Count</th>\n",
       "    </tr>\n",
       "  </thead>\n",
       "  <tbody>\n",
       "    <tr>\n",
       "      <th>0</th>\n",
       "      <td>OTC</td>\n",
       "      <td>11388</td>\n",
       "    </tr>\n",
       "    <tr>\n",
       "      <th>1</th>\n",
       "      <td>No Reason Given</td>\n",
       "      <td>4221</td>\n",
       "    </tr>\n",
       "    <tr>\n",
       "      <th>2</th>\n",
       "      <td>Benefits</td>\n",
       "      <td>3239</td>\n",
       "    </tr>\n",
       "    <tr>\n",
       "      <th>3</th>\n",
       "      <td>Membership/Enrollment</td>\n",
       "      <td>2425</td>\n",
       "    </tr>\n",
       "    <tr>\n",
       "      <th>4</th>\n",
       "      <td>Monthly Premium</td>\n",
       "      <td>1266</td>\n",
       "    </tr>\n",
       "    <tr>\n",
       "      <th>5</th>\n",
       "      <td>Claim</td>\n",
       "      <td>1268</td>\n",
       "    </tr>\n",
       "    <tr>\n",
       "      <th>6</th>\n",
       "      <td>Provider</td>\n",
       "      <td>1085</td>\n",
       "    </tr>\n",
       "    <tr>\n",
       "      <th>7</th>\n",
       "      <td>Transportation</td>\n",
       "      <td>745</td>\n",
       "    </tr>\n",
       "    <tr>\n",
       "      <th>8</th>\n",
       "      <td>RX/Pharmacy</td>\n",
       "      <td>724</td>\n",
       "    </tr>\n",
       "    <tr>\n",
       "      <th>9</th>\n",
       "      <td>EE Benefits</td>\n",
       "      <td>435</td>\n",
       "    </tr>\n",
       "    <tr>\n",
       "      <th>10</th>\n",
       "      <td>ID Card</td>\n",
       "      <td>477</td>\n",
       "    </tr>\n",
       "    <tr>\n",
       "      <th>11</th>\n",
       "      <td>Authorization</td>\n",
       "      <td>375</td>\n",
       "    </tr>\n",
       "    <tr>\n",
       "      <th>12</th>\n",
       "      <td>Access to Care</td>\n",
       "      <td>405</td>\n",
       "    </tr>\n",
       "    <tr>\n",
       "      <th>13</th>\n",
       "      <td>Grievance and/or Appeal</td>\n",
       "      <td>384</td>\n",
       "    </tr>\n",
       "    <tr>\n",
       "      <th>14</th>\n",
       "      <td>Nurse Line</td>\n",
       "      <td>132</td>\n",
       "    </tr>\n",
       "    <tr>\n",
       "      <th>15</th>\n",
       "      <td>Need Case Management</td>\n",
       "      <td>37</td>\n",
       "    </tr>\n",
       "  </tbody>\n",
       "</table>\n",
       "</div>"
      ],
      "text/plain": [
       "                      Label  Count\n",
       "0                       OTC  11388\n",
       "1           No Reason Given   4221\n",
       "2                  Benefits   3239\n",
       "3     Membership/Enrollment   2425\n",
       "4           Monthly Premium   1266\n",
       "5                     Claim   1268\n",
       "6                  Provider   1085\n",
       "7            Transportation    745\n",
       "8               RX/Pharmacy    724\n",
       "9               EE Benefits    435\n",
       "10                  ID Card    477\n",
       "11            Authorization    375\n",
       "12           Access to Care    405\n",
       "13  Grievance and/or Appeal    384\n",
       "14               Nurse Line    132\n",
       "15     Need Case Management     37"
      ]
     },
     "execution_count": 14,
     "metadata": {},
     "output_type": "execute_result"
    },
    {
     "data": {
      "application/javascript": [
       "\n",
       "            setTimeout(function() {\n",
       "                var nbb_cell_id = 14;\n",
       "                var nbb_unformatted_code = \"# Let's see how many examples we have of each label i.e \\\"OTC\\\", \\\"Provider\\\", \\\"Benefits\\\", \\\"Claim\\\" etc\\nget_value_counts(dataframe=dataframe)\";\n",
       "                var nbb_formatted_code = \"# Let's see how many examples we have of each label i.e \\\"OTC\\\", \\\"Provider\\\", \\\"Benefits\\\", \\\"Claim\\\" etc\\nget_value_counts(dataframe=dataframe)\";\n",
       "                var nbb_cells = Jupyter.notebook.get_cells();\n",
       "                for (var i = 0; i < nbb_cells.length; ++i) {\n",
       "                    if (nbb_cells[i].input_prompt_number == nbb_cell_id) {\n",
       "                        if (nbb_cells[i].get_text() == nbb_unformatted_code) {\n",
       "                             nbb_cells[i].set_text(nbb_formatted_code);\n",
       "                        }\n",
       "                        break;\n",
       "                    }\n",
       "                }\n",
       "            }, 500);\n",
       "            "
      ],
      "text/plain": [
       "<IPython.core.display.Javascript object>"
      ]
     },
     "metadata": {},
     "output_type": "display_data"
    }
   ],
   "source": [
    "# Let's see how many examples we have of each label i.e \"OTC\", \"Provider\", \"Benefits\", \"Claim\" etc\n",
    "get_value_counts(dataframe=dataframe)"
   ]
  },
  {
   "cell_type": "markdown",
   "metadata": {},
   "source": [
    "<br>\n",
    "<font color=magenta><h3> <b>Dataset Cleaning/Processing</b></h3></font>\n"
   ]
  },
  {
   "cell_type": "code",
   "execution_count": 15,
   "metadata": {},
   "outputs": [
    {
     "data": {
      "application/javascript": [
       "\n",
       "            setTimeout(function() {\n",
       "                var nbb_cell_id = 15;\n",
       "                var nbb_unformatted_code = \"# Cleaning the dataframe using generalized regex patterns \\ncleaned_data_dict = preprocess_data(\\n        message=dataframe.loc[:, MESSAGE_COLUMN].values.tolist(), label=dataframe.loc[:, LABEL_COLUMN].values.tolist()\\n    )\\ncleaned_message = cleaned_data_dict.get(\\\"message\\\")\\ncleaned_label = cleaned_data_dict.get(\\\"label\\\")\\nprocessed_label = cleaned_data_dict.get(\\\"processed_label\\\")\";\n",
       "                var nbb_formatted_code = \"# Cleaning the dataframe using generalized regex patterns\\ncleaned_data_dict = preprocess_data(\\n    message=dataframe.loc[:, MESSAGE_COLUMN].values.tolist(),\\n    label=dataframe.loc[:, LABEL_COLUMN].values.tolist(),\\n)\\ncleaned_message = cleaned_data_dict.get(\\\"message\\\")\\ncleaned_label = cleaned_data_dict.get(\\\"label\\\")\\nprocessed_label = cleaned_data_dict.get(\\\"processed_label\\\")\";\n",
       "                var nbb_cells = Jupyter.notebook.get_cells();\n",
       "                for (var i = 0; i < nbb_cells.length; ++i) {\n",
       "                    if (nbb_cells[i].input_prompt_number == nbb_cell_id) {\n",
       "                        if (nbb_cells[i].get_text() == nbb_unformatted_code) {\n",
       "                             nbb_cells[i].set_text(nbb_formatted_code);\n",
       "                        }\n",
       "                        break;\n",
       "                    }\n",
       "                }\n",
       "            }, 500);\n",
       "            "
      ],
      "text/plain": [
       "<IPython.core.display.Javascript object>"
      ]
     },
     "metadata": {},
     "output_type": "display_data"
    }
   ],
   "source": [
    "# Cleaning the dataframe using generalized regex patterns\n",
    "cleaned_data_dict = preprocess_data(\n",
    "    message=dataframe.loc[:, MESSAGE_COLUMN].values.tolist(),\n",
    "    label=dataframe.loc[:, LABEL_COLUMN].values.tolist(),\n",
    ")\n",
    "cleaned_message = cleaned_data_dict.get(\"message\")\n",
    "cleaned_label = cleaned_data_dict.get(\"label\")\n",
    "processed_label = cleaned_data_dict.get(\"processed_label\")"
   ]
  },
  {
   "cell_type": "code",
   "execution_count": 16,
   "metadata": {},
   "outputs": [
    {
     "name": "stdout",
     "output_type": "stream",
     "text": [
      "Length of dataset after cleaning --> 22489\n"
     ]
    },
    {
     "data": {
      "application/javascript": [
       "\n",
       "            setTimeout(function() {\n",
       "                var nbb_cell_id = 16;\n",
       "                var nbb_unformatted_code = \"# Let's see how many records are present in voice-mail data\\nprint(\\\"Length of dataset after cleaning -->\\\", len(cleaned_message))\";\n",
       "                var nbb_formatted_code = \"# Let's see how many records are present in voice-mail data\\nprint(\\\"Length of dataset after cleaning -->\\\", len(cleaned_message))\";\n",
       "                var nbb_cells = Jupyter.notebook.get_cells();\n",
       "                for (var i = 0; i < nbb_cells.length; ++i) {\n",
       "                    if (nbb_cells[i].input_prompt_number == nbb_cell_id) {\n",
       "                        if (nbb_cells[i].get_text() == nbb_unformatted_code) {\n",
       "                             nbb_cells[i].set_text(nbb_formatted_code);\n",
       "                        }\n",
       "                        break;\n",
       "                    }\n",
       "                }\n",
       "            }, 500);\n",
       "            "
      ],
      "text/plain": [
       "<IPython.core.display.Javascript object>"
      ]
     },
     "metadata": {},
     "output_type": "display_data"
    }
   ],
   "source": [
    "# Let's see how many records are present in voice-mail data\n",
    "print(\"Length of dataset after cleaning -->\", len(cleaned_message))"
   ]
  },
  {
   "cell_type": "code",
   "execution_count": 17,
   "metadata": {},
   "outputs": [
    {
     "data": {
      "text/html": [
       "<div>\n",
       "<style scoped>\n",
       "    .dataframe tbody tr th:only-of-type {\n",
       "        vertical-align: middle;\n",
       "    }\n",
       "\n",
       "    .dataframe tbody tr th {\n",
       "        vertical-align: top;\n",
       "    }\n",
       "\n",
       "    .dataframe thead th {\n",
       "        text-align: right;\n",
       "    }\n",
       "</style>\n",
       "<table border=\"1\" class=\"dataframe\">\n",
       "  <thead>\n",
       "    <tr style=\"text-align: right;\">\n",
       "      <th></th>\n",
       "      <th>Message</th>\n",
       "      <th>Reason for Call</th>\n",
       "    </tr>\n",
       "  </thead>\n",
       "  <tbody>\n",
       "    <tr>\n",
       "      <th>0</th>\n",
       "      <td>calling behalf wife, rehab, get pt ot services...</td>\n",
       "      <td>Authorization</td>\n",
       "    </tr>\n",
       "    <tr>\n",
       "      <th>1</th>\n",
       "      <td>called order day going call back must worked c...</td>\n",
       "      <td>OTC</td>\n",
       "    </tr>\n",
       "    <tr>\n",
       "      <th>2</th>\n",
       "      <td>angela king would like place order number need...</td>\n",
       "      <td>OTC</td>\n",
       "    </tr>\n",
       "    <tr>\n",
       "      <th>3</th>\n",
       "      <td>thank made payment thank</td>\n",
       "      <td>Monthly Premium</td>\n",
       "    </tr>\n",
       "    <tr>\n",
       "      <th>4</th>\n",
       "      <td>im trouble downloading app saying card doesnot...</td>\n",
       "      <td>Membership/Enrollment</td>\n",
       "    </tr>\n",
       "  </tbody>\n",
       "</table>\n",
       "</div>"
      ],
      "text/plain": [
       "                                             Message       Reason for Call \n",
       "0  calling behalf wife, rehab, get pt ot services...          Authorization\n",
       "1  called order day going call back must worked c...                    OTC\n",
       "2  angela king would like place order number need...                    OTC\n",
       "3                           thank made payment thank        Monthly Premium\n",
       "4  im trouble downloading app saying card doesnot...  Membership/Enrollment"
      ]
     },
     "execution_count": 17,
     "metadata": {},
     "output_type": "execute_result"
    },
    {
     "data": {
      "application/javascript": [
       "\n",
       "            setTimeout(function() {\n",
       "                var nbb_cell_id = 17;\n",
       "                var nbb_unformatted_code = \"# Let's see what's in the data-frame after applying cleaning patterns\\ncleaned_dataframe = pd.DataFrame({MESSAGE_COLUMN: cleaned_message, LABEL_COLUMN: cleaned_label})\\ncleaned_dataframe.head()\";\n",
       "                var nbb_formatted_code = \"# Let's see what's in the data-frame after applying cleaning patterns\\ncleaned_dataframe = pd.DataFrame(\\n    {MESSAGE_COLUMN: cleaned_message, LABEL_COLUMN: cleaned_label}\\n)\\ncleaned_dataframe.head()\";\n",
       "                var nbb_cells = Jupyter.notebook.get_cells();\n",
       "                for (var i = 0; i < nbb_cells.length; ++i) {\n",
       "                    if (nbb_cells[i].input_prompt_number == nbb_cell_id) {\n",
       "                        if (nbb_cells[i].get_text() == nbb_unformatted_code) {\n",
       "                             nbb_cells[i].set_text(nbb_formatted_code);\n",
       "                        }\n",
       "                        break;\n",
       "                    }\n",
       "                }\n",
       "            }, 500);\n",
       "            "
      ],
      "text/plain": [
       "<IPython.core.display.Javascript object>"
      ]
     },
     "metadata": {},
     "output_type": "display_data"
    }
   ],
   "source": [
    "# Let's see what's in the data-frame after applying cleaning patterns\n",
    "cleaned_dataframe = pd.DataFrame(\n",
    "    {MESSAGE_COLUMN: cleaned_message, LABEL_COLUMN: cleaned_label}\n",
    ")\n",
    "cleaned_dataframe.head()"
   ]
  },
  {
   "cell_type": "code",
   "execution_count": 18,
   "metadata": {},
   "outputs": [
    {
     "name": "stdout",
     "output_type": "stream",
     "text": [
      "OTC 8287\n",
      "No Reason Given 2991\n",
      "Benefits 2448\n",
      "Membership/Enrollment 2005\n",
      "Claim 1018\n",
      "Monthly Premium 988\n",
      "Provider 796\n",
      "Transportation 642\n",
      "RX/Pharmacy 522\n",
      "EE Benefits 334\n",
      "ID Card 326\n",
      "Authorization 267\n",
      "Access to Care 255\n",
      "Grievance and/or Appeal 202\n",
      "Nurse Line 102\n",
      "Need Case Management 23\n"
     ]
    },
    {
     "data": {
      "application/javascript": [
       "\n",
       "            setTimeout(function() {\n",
       "                var nbb_cell_id = 18;\n",
       "                var nbb_unformatted_code = \"# Let's see how many examples we have of each label i.e \\\"OTC\\\", \\\"Provider\\\", \\\"Benefits\\\", \\\"Claim\\\" etc\\nfor label, count in cleaned_dataframe.loc[:, LABEL_COLUMN].value_counts().to_dict().items():\\n    if not \\\";#\\\" in label:\\n        print(label, count)\";\n",
       "                var nbb_formatted_code = \"# Let's see how many examples we have of each label i.e \\\"OTC\\\", \\\"Provider\\\", \\\"Benefits\\\", \\\"Claim\\\" etc\\nfor label, count in (\\n    cleaned_dataframe.loc[:, LABEL_COLUMN].value_counts().to_dict().items()\\n):\\n    if not \\\";#\\\" in label:\\n        print(label, count)\";\n",
       "                var nbb_cells = Jupyter.notebook.get_cells();\n",
       "                for (var i = 0; i < nbb_cells.length; ++i) {\n",
       "                    if (nbb_cells[i].input_prompt_number == nbb_cell_id) {\n",
       "                        if (nbb_cells[i].get_text() == nbb_unformatted_code) {\n",
       "                             nbb_cells[i].set_text(nbb_formatted_code);\n",
       "                        }\n",
       "                        break;\n",
       "                    }\n",
       "                }\n",
       "            }, 500);\n",
       "            "
      ],
      "text/plain": [
       "<IPython.core.display.Javascript object>"
      ]
     },
     "metadata": {},
     "output_type": "display_data"
    }
   ],
   "source": [
    "# Let's see how many examples we have of each label i.e \"OTC\", \"Provider\", \"Benefits\", \"Claim\" etc\n",
    "for label, count in (\n",
    "    cleaned_dataframe.loc[:, LABEL_COLUMN].value_counts().to_dict().items()\n",
    "):\n",
    "    if not \";#\" in label:\n",
    "        print(label, count)"
   ]
  },
  {
   "cell_type": "code",
   "execution_count": 19,
   "metadata": {},
   "outputs": [
    {
     "data": {
      "text/html": [
       "<div>\n",
       "<style scoped>\n",
       "    .dataframe tbody tr th:only-of-type {\n",
       "        vertical-align: middle;\n",
       "    }\n",
       "\n",
       "    .dataframe tbody tr th {\n",
       "        vertical-align: top;\n",
       "    }\n",
       "\n",
       "    .dataframe thead th {\n",
       "        text-align: right;\n",
       "    }\n",
       "</style>\n",
       "<table border=\"1\" class=\"dataframe\">\n",
       "  <thead>\n",
       "    <tr style=\"text-align: right;\">\n",
       "      <th></th>\n",
       "      <th>Message</th>\n",
       "      <th>Reason for Call</th>\n",
       "    </tr>\n",
       "  </thead>\n",
       "  <tbody>\n",
       "    <tr>\n",
       "      <th>4256</th>\n",
       "      <td>name lewis upcoming appointment tuesday transp...</td>\n",
       "      <td>Transportation</td>\n",
       "    </tr>\n",
       "    <tr>\n",
       "      <th>3167</th>\n",
       "      <td>claim question</td>\n",
       "      <td>Claim</td>\n",
       "    </tr>\n",
       "    <tr>\n",
       "      <th>5424</th>\n",
       "      <td>someone went behind back signed anthem didn’t ...</td>\n",
       "      <td>Membership/Enrollment;#Grievance and/or Appeal</td>\n",
       "    </tr>\n",
       "    <tr>\n",
       "      <th>4019</th>\n",
       "      <td>need transportation wednesday</td>\n",
       "      <td>Transportation</td>\n",
       "    </tr>\n",
       "    <tr>\n",
       "      <th>683</th>\n",
       "      <td>want place order please call back</td>\n",
       "      <td>OTC</td>\n",
       "    </tr>\n",
       "  </tbody>\n",
       "</table>\n",
       "</div>"
      ],
      "text/plain": [
       "                                                Message  \\\n",
       "4256  name lewis upcoming appointment tuesday transp...   \n",
       "3167                                     claim question   \n",
       "5424  someone went behind back signed anthem didn’t ...   \n",
       "4019                      need transportation wednesday   \n",
       "683                   want place order please call back   \n",
       "\n",
       "                                    Reason for Call   \n",
       "4256                                  Transportation  \n",
       "3167                                           Claim  \n",
       "5424  Membership/Enrollment;#Grievance and/or Appeal  \n",
       "4019                                  Transportation  \n",
       "683                                              OTC  "
      ]
     },
     "execution_count": 19,
     "metadata": {},
     "output_type": "execute_result"
    },
    {
     "data": {
      "application/javascript": [
       "\n",
       "            setTimeout(function() {\n",
       "                var nbb_cell_id = 19;\n",
       "                var nbb_unformatted_code = \"# Let's filter the data by picking the sentences of upto 700 for each label which has atleast one anchor word\\nprocessed_dataframe = data_selection(dataframe=cleaned_dataframe)\\n# Let's see what's in the data-frame after processing\\nprocessed_dataframe.sample(n=5, random_state=42)\";\n",
       "                var nbb_formatted_code = \"# Let's filter the data by picking the sentences of upto 700 for each label which has atleast one anchor word\\nprocessed_dataframe = data_selection(dataframe=cleaned_dataframe)\\n# Let's see what's in the data-frame after processing\\nprocessed_dataframe.sample(n=5, random_state=42)\";\n",
       "                var nbb_cells = Jupyter.notebook.get_cells();\n",
       "                for (var i = 0; i < nbb_cells.length; ++i) {\n",
       "                    if (nbb_cells[i].input_prompt_number == nbb_cell_id) {\n",
       "                        if (nbb_cells[i].get_text() == nbb_unformatted_code) {\n",
       "                             nbb_cells[i].set_text(nbb_formatted_code);\n",
       "                        }\n",
       "                        break;\n",
       "                    }\n",
       "                }\n",
       "            }, 500);\n",
       "            "
      ],
      "text/plain": [
       "<IPython.core.display.Javascript object>"
      ]
     },
     "metadata": {},
     "output_type": "display_data"
    }
   ],
   "source": [
    "# Let's filter the data by picking the sentences of upto 700 for each label which has atleast one anchor word\n",
    "processed_dataframe = data_selection(dataframe=cleaned_dataframe)\n",
    "# Let's see what's in the data-frame after processing\n",
    "processed_dataframe.sample(n=5, random_state=42)"
   ]
  },
  {
   "cell_type": "code",
   "execution_count": 20,
   "metadata": {},
   "outputs": [
    {
     "name": "stdout",
     "output_type": "stream",
     "text": [
      "Length of dataset after processing --> 6602\n"
     ]
    },
    {
     "data": {
      "application/javascript": [
       "\n",
       "            setTimeout(function() {\n",
       "                var nbb_cell_id = 20;\n",
       "                var nbb_unformatted_code = \"# Let's see how many records are present after picking the sentences of upto 700 for each label which has atleast one anchor word\\nprint(\\\"Length of dataset after processing -->\\\", len(processed_dataframe))\";\n",
       "                var nbb_formatted_code = \"# Let's see how many records are present after picking the sentences of upto 700 for each label which has atleast one anchor word\\nprint(\\\"Length of dataset after processing -->\\\", len(processed_dataframe))\";\n",
       "                var nbb_cells = Jupyter.notebook.get_cells();\n",
       "                for (var i = 0; i < nbb_cells.length; ++i) {\n",
       "                    if (nbb_cells[i].input_prompt_number == nbb_cell_id) {\n",
       "                        if (nbb_cells[i].get_text() == nbb_unformatted_code) {\n",
       "                             nbb_cells[i].set_text(nbb_formatted_code);\n",
       "                        }\n",
       "                        break;\n",
       "                    }\n",
       "                }\n",
       "            }, 500);\n",
       "            "
      ],
      "text/plain": [
       "<IPython.core.display.Javascript object>"
      ]
     },
     "metadata": {},
     "output_type": "display_data"
    }
   ],
   "source": [
    "# Let's see how many records are present after picking the sentences of upto 700 for each label which has atleast one anchor word\n",
    "print(\"Length of dataset after processing -->\", len(processed_dataframe))"
   ]
  },
  {
   "cell_type": "code",
   "execution_count": 21,
   "metadata": {},
   "outputs": [
    {
     "name": "stdout",
     "output_type": "stream",
     "text": [
      "OTC 700\n",
      "No Reason Given 700\n",
      "Membership/Enrollment 700\n",
      "Claim 592\n",
      "Transportation 543\n",
      "Benefits 337\n",
      "RX/Pharmacy 310\n",
      "Provider 302\n",
      "ID Card 274\n",
      "Access to Care 255\n",
      "Monthly Premium 227\n",
      "Grievance and/or Appeal 133\n",
      "Authorization 93\n",
      "Nurse Line 81\n",
      "EE Benefits 49\n",
      "Need Case Management 23\n"
     ]
    },
    {
     "data": {
      "application/javascript": [
       "\n",
       "            setTimeout(function() {\n",
       "                var nbb_cell_id = 21;\n",
       "                var nbb_unformatted_code = \"# Let's see how many examples we have of each label i.e \\\"OTC\\\", \\\"Provider\\\", \\\"Benefits\\\", \\\"Claim\\\" etc\\nfor label, count in processed_dataframe.loc[:, LABEL_COLUMN].value_counts().to_dict().items():\\n    if not \\\";#\\\" in label:\\n        print(label, count)\";\n",
       "                var nbb_formatted_code = \"# Let's see how many examples we have of each label i.e \\\"OTC\\\", \\\"Provider\\\", \\\"Benefits\\\", \\\"Claim\\\" etc\\nfor label, count in (\\n    processed_dataframe.loc[:, LABEL_COLUMN].value_counts().to_dict().items()\\n):\\n    if not \\\";#\\\" in label:\\n        print(label, count)\";\n",
       "                var nbb_cells = Jupyter.notebook.get_cells();\n",
       "                for (var i = 0; i < nbb_cells.length; ++i) {\n",
       "                    if (nbb_cells[i].input_prompt_number == nbb_cell_id) {\n",
       "                        if (nbb_cells[i].get_text() == nbb_unformatted_code) {\n",
       "                             nbb_cells[i].set_text(nbb_formatted_code);\n",
       "                        }\n",
       "                        break;\n",
       "                    }\n",
       "                }\n",
       "            }, 500);\n",
       "            "
      ],
      "text/plain": [
       "<IPython.core.display.Javascript object>"
      ]
     },
     "metadata": {},
     "output_type": "display_data"
    }
   ],
   "source": [
    "# Let's see how many examples we have of each label i.e \"OTC\", \"Provider\", \"Benefits\", \"Claim\" etc\n",
    "for label, count in (\n",
    "    processed_dataframe.loc[:, LABEL_COLUMN].value_counts().to_dict().items()\n",
    "):\n",
    "    if not \";#\" in label:\n",
    "        print(label, count)"
   ]
  },
  {
   "cell_type": "markdown",
   "metadata": {},
   "source": [
    "<br>\n",
    "<font color=magenta><h3> <b>Data Distributions</b></h3></font>"
   ]
  },
  {
   "cell_type": "markdown",
   "metadata": {},
   "source": [
    "<br>\n",
    "<font><h4> <b>We can look at an individual counts of labels in Seaborn through a countplot</b></h4></font>"
   ]
  },
  {
   "cell_type": "code",
   "execution_count": 22,
   "metadata": {},
   "outputs": [
    {
     "data": {
      "text/plain": [
       "Text(0.5, 1.0, 'Label counts')"
      ]
     },
     "execution_count": 22,
     "metadata": {},
     "output_type": "execute_result"
    },
    {
     "data": {
      "image/png": "[encoded data removed]",
      "text/plain": [
       "<Figure size 2880x1440 with 1 Axes>"
      ]
     },
     "metadata": {
      "needs_background": "light"
     },
     "output_type": "display_data"
    },
    {
     "data": {
      "application/javascript": [
       "\n",
       "            setTimeout(function() {\n",
       "                var nbb_cell_id = 22;\n",
       "                var nbb_unformatted_code = \"label_dataframe = pd.DataFrame({\\\"labels\\\":cleaned_dataframe.loc[:, LABEL_COLUMN].apply(split_label).tolist()})\\nlabel_dataframe = pd.DataFrame({\\\"labels\\\":[y for x in label_dataframe['labels'] for y in x]})\\n\\n# Let's plot the counts of labelsin voice-mail data\\nplt.figure(figsize=(40, 20)) # setting the figure-size to width of 40 and height of 20\\nsns.set_theme(style=\\\"darkgrid\\\") # setting the theme to darkgrid\\nsns.countplot(x=\\\"labels\\\", data=label_dataframe, palette = \\\"Set2\\\").set_title(\\\"Label counts\\\")\";\n",
       "                var nbb_formatted_code = \"label_dataframe = pd.DataFrame(\\n    {\\\"labels\\\": cleaned_dataframe.loc[:, LABEL_COLUMN].apply(split_label).tolist()}\\n)\\nlabel_dataframe = pd.DataFrame(\\n    {\\\"labels\\\": [y for x in label_dataframe[\\\"labels\\\"] for y in x]}\\n)\\n\\n# Let's plot the counts of labelsin voice-mail data\\nplt.figure(figsize=(40, 20))  # setting the figure-size to width of 40 and height of 20\\nsns.set_theme(style=\\\"darkgrid\\\")  # setting the theme to darkgrid\\nsns.countplot(x=\\\"labels\\\", data=label_dataframe, palette=\\\"Set2\\\").set_title(\\n    \\\"Label counts\\\"\\n)\";\n",
       "                var nbb_cells = Jupyter.notebook.get_cells();\n",
       "                for (var i = 0; i < nbb_cells.length; ++i) {\n",
       "                    if (nbb_cells[i].input_prompt_number == nbb_cell_id) {\n",
       "                        if (nbb_cells[i].get_text() == nbb_unformatted_code) {\n",
       "                             nbb_cells[i].set_text(nbb_formatted_code);\n",
       "                        }\n",
       "                        break;\n",
       "                    }\n",
       "                }\n",
       "            }, 500);\n",
       "            "
      ],
      "text/plain": [
       "<IPython.core.display.Javascript object>"
      ]
     },
     "metadata": {},
     "output_type": "display_data"
    }
   ],
   "source": [
    "label_dataframe = pd.DataFrame(\n",
    "    {\"labels\": cleaned_dataframe.loc[:, LABEL_COLUMN].apply(split_label).tolist()}\n",
    ")\n",
    "label_dataframe = pd.DataFrame(\n",
    "    {\"labels\": [y for x in label_dataframe[\"labels\"] for y in x]}\n",
    ")\n",
    "\n",
    "# Let's plot the counts of labelsin voice-mail data\n",
    "plt.figure(figsize=(40, 20))  # setting the figure-size to width of 40 and height of 20\n",
    "sns.set_theme(style=\"darkgrid\")  # setting the theme to darkgrid\n",
    "sns.countplot(x=\"labels\", data=label_dataframe, palette=\"Set2\").set_title(\n",
    "    \"Label counts\"\n",
    ")"
   ]
  },
  {
   "cell_type": "markdown",
   "metadata": {},
   "source": [
    "#### **Conclusion:**\n",
    "1. Above histogram shows counts of different labels i.e \"Benefits\", \"Claim\", \"EE Benefits\", \"OTC\", \"Transportation\" etc, training data has maximum number of OTC sentences !!"
   ]
  },
  {
   "cell_type": "markdown",
   "metadata": {},
   "source": [
    "<br>\n",
    "<font><h4> <b>We can look at word lengths of each sentence in Seaborn through a histplot</b></h4></font>"
   ]
  },
  {
   "cell_type": "code",
   "execution_count": 23,
   "metadata": {},
   "outputs": [
    {
     "data": {
      "text/plain": [
       "Text(0.5, 1.0, 'Word counts')"
      ]
     },
     "execution_count": 23,
     "metadata": {},
     "output_type": "execute_result"
    },
    {
     "data": {
      "image/png": "[encoded data removed]",
      "text/plain": [
       "<Figure size 1440x720 with 1 Axes>"
      ]
     },
     "metadata": {},
     "output_type": "display_data"
    },
    {
     "data": {
      "application/javascript": [
       "\n",
       "            setTimeout(function() {\n",
       "                var nbb_cell_id = 23;\n",
       "                var nbb_unformatted_code = \"# Let's plot the word lengths of each sentence in voice-mail data\\nplt.figure(figsize=(20, 10)) # setting the figure-size to width of 20 and height of 10\\nsns.set_theme(style=\\\"darkgrid\\\") # setting the theme to darkgrid\\nsns.histplot(x=cleaned_dataframe.loc[:, MESSAGE_COLUMN].map(lambda x: len(x.split())), data=cleaned_dataframe).set_title(\\\"Word counts\\\")\";\n",
       "                var nbb_formatted_code = \"# Let's plot the word lengths of each sentence in voice-mail data\\nplt.figure(figsize=(20, 10))  # setting the figure-size to width of 20 and height of 10\\nsns.set_theme(style=\\\"darkgrid\\\")  # setting the theme to darkgrid\\nsns.histplot(\\n    x=cleaned_dataframe.loc[:, MESSAGE_COLUMN].map(lambda x: len(x.split())),\\n    data=cleaned_dataframe,\\n).set_title(\\\"Word counts\\\")\";\n",
       "                var nbb_cells = Jupyter.notebook.get_cells();\n",
       "                for (var i = 0; i < nbb_cells.length; ++i) {\n",
       "                    if (nbb_cells[i].input_prompt_number == nbb_cell_id) {\n",
       "                        if (nbb_cells[i].get_text() == nbb_unformatted_code) {\n",
       "                             nbb_cells[i].set_text(nbb_formatted_code);\n",
       "                        }\n",
       "                        break;\n",
       "                    }\n",
       "                }\n",
       "            }, 500);\n",
       "            "
      ],
      "text/plain": [
       "<IPython.core.display.Javascript object>"
      ]
     },
     "metadata": {},
     "output_type": "display_data"
    }
   ],
   "source": [
    "# Let's plot the word lengths of each sentence in voice-mail data\n",
    "plt.figure(figsize=(20, 10))  # setting the figure-size to width of 20 and height of 10\n",
    "sns.set_theme(style=\"darkgrid\")  # setting the theme to darkgrid\n",
    "sns.histplot(\n",
    "    x=cleaned_dataframe.loc[:, MESSAGE_COLUMN].map(lambda x: len(x.split())),\n",
    "    data=cleaned_dataframe,\n",
    ").set_title(\"Word counts\")"
   ]
  },
  {
   "cell_type": "markdown",
   "metadata": {},
   "source": [
    "#### **Conclusion:**\n",
    "1. Above histogram shows that sentences range from 5 to 160 words and generally, it is between 2 to 100 words."
   ]
  },
  {
   "cell_type": "markdown",
   "metadata": {},
   "source": [
    "<br>\n",
    "<font color=magenta><h3> <b>Dataset Split</b></h3></font>"
   ]
  },
  {
   "cell_type": "code",
   "execution_count": 24,
   "metadata": {},
   "outputs": [
    {
     "name": "stdout",
     "output_type": "stream",
     "text": [
      "Shape of Input  Training Data    --> (5281,)\n",
      "Shape of Output Training Data    --> (5281, 16)\n",
      "Shape of Input  Evaluation Data  --> (1321,)\n",
      "Shape of Output Evaluation Data  --> (1321, 16)\n"
     ]
    },
    {
     "data": {
      "application/javascript": [
       "\n",
       "            setTimeout(function() {\n",
       "                var nbb_cell_id = 24;\n",
       "                var nbb_unformatted_code = \"# Let's split the data into train and eval datsets with distribution of 0.75 and 0.25\\nprocessed_message = processed_dataframe.loc[:, MESSAGE_COLUMN].values\\nprocessed_label = process_label_data(label=processed_dataframe.loc[:, LABEL_COLUMN])\\ntrain_sentences, eval_sentences, train_labels, eval_labels = model_selection.train_test_split(\\n        processed_message, \\n        processed_label, \\n        test_size=0.20, \\n        random_state=42, \\n    )\\nprint(\\\"Shape of Input  Training Data    -->\\\", train_sentences.shape)\\nprint(\\\"Shape of Output Training Data    -->\\\", train_labels.shape)\\nprint(\\\"Shape of Input  Evaluation Data  -->\\\", eval_sentences.shape)\\nprint(\\\"Shape of Output Evaluation Data  -->\\\", eval_labels.shape)\";\n",
       "                var nbb_formatted_code = \"# Let's split the data into train and eval datsets with distribution of 0.75 and 0.25\\nprocessed_message = processed_dataframe.loc[:, MESSAGE_COLUMN].values\\nprocessed_label = process_label_data(label=processed_dataframe.loc[:, LABEL_COLUMN])\\n(\\n    train_sentences,\\n    eval_sentences,\\n    train_labels,\\n    eval_labels,\\n) = model_selection.train_test_split(\\n    processed_message,\\n    processed_label,\\n    test_size=0.20,\\n    random_state=42,\\n)\\nprint(\\\"Shape of Input  Training Data    -->\\\", train_sentences.shape)\\nprint(\\\"Shape of Output Training Data    -->\\\", train_labels.shape)\\nprint(\\\"Shape of Input  Evaluation Data  -->\\\", eval_sentences.shape)\\nprint(\\\"Shape of Output Evaluation Data  -->\\\", eval_labels.shape)\";\n",
       "                var nbb_cells = Jupyter.notebook.get_cells();\n",
       "                for (var i = 0; i < nbb_cells.length; ++i) {\n",
       "                    if (nbb_cells[i].input_prompt_number == nbb_cell_id) {\n",
       "                        if (nbb_cells[i].get_text() == nbb_unformatted_code) {\n",
       "                             nbb_cells[i].set_text(nbb_formatted_code);\n",
       "                        }\n",
       "                        break;\n",
       "                    }\n",
       "                }\n",
       "            }, 500);\n",
       "            "
      ],
      "text/plain": [
       "<IPython.core.display.Javascript object>"
      ]
     },
     "metadata": {},
     "output_type": "display_data"
    }
   ],
   "source": [
    "# Let's split the data into train and eval datsets with distribution of 0.75 and 0.25\n",
    "processed_message = processed_dataframe.loc[:, MESSAGE_COLUMN].values\n",
    "processed_label = process_label_data(label=processed_dataframe.loc[:, LABEL_COLUMN])\n",
    "(\n",
    "    train_sentences,\n",
    "    eval_sentences,\n",
    "    train_labels,\n",
    "    eval_labels,\n",
    ") = model_selection.train_test_split(\n",
    "    processed_message,\n",
    "    processed_label,\n",
    "    test_size=0.20,\n",
    "    random_state=42,\n",
    ")\n",
    "print(\"Shape of Input  Training Data    -->\", train_sentences.shape)\n",
    "print(\"Shape of Output Training Data    -->\", train_labels.shape)\n",
    "print(\"Shape of Input  Evaluation Data  -->\", eval_sentences.shape)\n",
    "print(\"Shape of Output Evaluation Data  -->\", eval_labels.shape)"
   ]
  },
  {
   "cell_type": "markdown",
   "metadata": {},
   "source": [
    "<br>\n",
    "<font color=magenta><h3> <b>Feature Engineering</b></h3></font>"
   ]
  },
  {
   "cell_type": "markdown",
   "metadata": {},
   "source": [
    "<font color=magenta><h4> <b>Word/Sentence Embeddings using BERT</b></h4></font>"
   ]
  },
  {
   "cell_type": "code",
   "execution_count": 25,
   "metadata": {},
   "outputs": [
    {
     "name": "stderr",
     "output_type": "stream",
     "text": [
      "Some weights of the model checkpoint at bert-base-uncased were not used when initializing BertForTextRepresentation: ['cls.predictions.transform.dense.bias', 'cls.predictions.transform.LayerNorm.bias', 'cls.seq_relationship.bias', 'cls.predictions.bias', 'cls.predictions.transform.dense.weight', 'cls.seq_relationship.weight', 'cls.predictions.decoder.weight', 'cls.predictions.transform.LayerNorm.weight']\n",
      "- This IS expected if you are initializing BertForTextRepresentation from the checkpoint of a model trained on another task or with another architecture (e.g. initializing a BertForSequenceClassification model from a BertForPreTraining model).\n",
      "- This IS NOT expected if you are initializing BertForTextRepresentation from the checkpoint of a model that you expect to be exactly identical (initializing a BertForSequenceClassification model from a BertForSequenceClassification model).\n"
     ]
    },
    {
     "data": {
      "application/javascript": [
       "\n",
       "            setTimeout(function() {\n",
       "                var nbb_cell_id = 25;\n",
       "                var nbb_unformatted_code = \"# Let's initialize the Embeddings Class with model_name and model_type as parameters\\nmodel = RepresentationModel(model_type=\\\"bert\\\", model_name=\\\"bert-base-uncased\\\", use_cuda=True)\";\n",
       "                var nbb_formatted_code = \"# Let's initialize the Embeddings Class with model_name and model_type as parameters\\nmodel = RepresentationModel(\\n    model_type=\\\"bert\\\", model_name=\\\"bert-base-uncased\\\", use_cuda=True\\n)\";\n",
       "                var nbb_cells = Jupyter.notebook.get_cells();\n",
       "                for (var i = 0; i < nbb_cells.length; ++i) {\n",
       "                    if (nbb_cells[i].input_prompt_number == nbb_cell_id) {\n",
       "                        if (nbb_cells[i].get_text() == nbb_unformatted_code) {\n",
       "                             nbb_cells[i].set_text(nbb_formatted_code);\n",
       "                        }\n",
       "                        break;\n",
       "                    }\n",
       "                }\n",
       "            }, 500);\n",
       "            "
      ],
      "text/plain": [
       "<IPython.core.display.Javascript object>"
      ]
     },
     "metadata": {},
     "output_type": "display_data"
    }
   ],
   "source": [
    "# Let's initialize the Embeddings Class with model_name and model_type as parameters\n",
    "model = RepresentationModel(\n",
    "    model_type=\"bert\", model_name=\"bert-base-uncased\", use_cuda=True\n",
    ")"
   ]
  },
  {
   "cell_type": "code",
   "execution_count": 26,
   "metadata": {},
   "outputs": [
    {
     "data": {
      "application/javascript": [
       "\n",
       "            setTimeout(function() {\n",
       "                var nbb_cell_id = 26;\n",
       "                var nbb_unformatted_code = \"# Let's convert the train and eval sentences into vectors/embeddings(BERT Embeddings)\\ntrain_sentence_vectors = model.encode_sentences(train_sentences, combine_strategy=\\\"mean\\\")\\neval_sentence_vectors = model.encode_sentences(eval_sentences, combine_strategy=\\\"mean\\\")\";\n",
       "                var nbb_formatted_code = \"# Let's convert the train and eval sentences into vectors/embeddings(BERT Embeddings)\\ntrain_sentence_vectors = model.encode_sentences(\\n    train_sentences, combine_strategy=\\\"mean\\\"\\n)\\neval_sentence_vectors = model.encode_sentences(eval_sentences, combine_strategy=\\\"mean\\\")\";\n",
       "                var nbb_cells = Jupyter.notebook.get_cells();\n",
       "                for (var i = 0; i < nbb_cells.length; ++i) {\n",
       "                    if (nbb_cells[i].input_prompt_number == nbb_cell_id) {\n",
       "                        if (nbb_cells[i].get_text() == nbb_unformatted_code) {\n",
       "                             nbb_cells[i].set_text(nbb_formatted_code);\n",
       "                        }\n",
       "                        break;\n",
       "                    }\n",
       "                }\n",
       "            }, 500);\n",
       "            "
      ],
      "text/plain": [
       "<IPython.core.display.Javascript object>"
      ]
     },
     "metadata": {},
     "output_type": "display_data"
    }
   ],
   "source": [
    "# Let's convert the train and eval sentences into vectors/embeddings(BERT Embeddings)\n",
    "train_sentence_vectors = model.encode_sentences(\n",
    "    train_sentences, combine_strategy=\"mean\"\n",
    ")\n",
    "eval_sentence_vectors = model.encode_sentences(eval_sentences, combine_strategy=\"mean\")"
   ]
  },
  {
   "cell_type": "markdown",
   "metadata": {},
   "source": [
    "<br>\n",
    "<font color=magenta><h3> <b>Training & Evaluation</b></h3></font>"
   ]
  },
  {
   "cell_type": "markdown",
   "metadata": {},
   "source": [
    "<font><h4> <b>Naive Bayes Classifier</b></h4></font>"
   ]
  },
  {
   "cell_type": "code",
   "execution_count": 27,
   "metadata": {},
   "outputs": [
    {
     "data": {
      "text/plain": [
       "LabelPowerset(classifier=GaussianNB(), require_dense=[True, True])"
      ]
     },
     "execution_count": 27,
     "metadata": {},
     "output_type": "execute_result"
    },
    {
     "data": {
      "application/javascript": [
       "\n",
       "            setTimeout(function() {\n",
       "                var nbb_cell_id = 27;\n",
       "                var nbb_unformatted_code = \"naive_bayes_classifier = LabelPowerset(GaussianNB())\\nnaive_bayes_classifier.fit(train_sentence_vectors, train_labels)\";\n",
       "                var nbb_formatted_code = \"naive_bayes_classifier = LabelPowerset(GaussianNB())\\nnaive_bayes_classifier.fit(train_sentence_vectors, train_labels)\";\n",
       "                var nbb_cells = Jupyter.notebook.get_cells();\n",
       "                for (var i = 0; i < nbb_cells.length; ++i) {\n",
       "                    if (nbb_cells[i].input_prompt_number == nbb_cell_id) {\n",
       "                        if (nbb_cells[i].get_text() == nbb_unformatted_code) {\n",
       "                             nbb_cells[i].set_text(nbb_formatted_code);\n",
       "                        }\n",
       "                        break;\n",
       "                    }\n",
       "                }\n",
       "            }, 500);\n",
       "            "
      ],
      "text/plain": [
       "<IPython.core.display.Javascript object>"
      ]
     },
     "metadata": {},
     "output_type": "display_data"
    }
   ],
   "source": [
    "naive_bayes_classifier = LabelPowerset(GaussianNB())\n",
    "naive_bayes_classifier.fit(train_sentence_vectors, train_labels)"
   ]
  },
  {
   "cell_type": "code",
   "execution_count": 28,
   "metadata": {},
   "outputs": [
    {
     "name": "stdout",
     "output_type": "stream",
     "text": [
      "Train Accuracy of Naive Bayes Classifier  --> 0.44802120810452567\n",
      "Eval  Accuracy of Naive Bayes Classifier  --> 0.3111279333838001\n"
     ]
    },
    {
     "data": {
      "application/javascript": [
       "\n",
       "            setTimeout(function() {\n",
       "                var nbb_cell_id = 28;\n",
       "                var nbb_unformatted_code = \"train_accuracy, eval_accuracy = get_metrics(\\n    classifier=naive_bayes_classifier, \\n    train_sentence_vectors=train_sentence_vectors, \\n    eval_sentence_vectors=eval_sentence_vectors, \\n    train_labels=train_labels,\\n    eval_labels=eval_labels\\n)\\n\\n# Let's see the train and eval accuracy for information\\nprint(\\\"Train Accuracy of Naive Bayes Classifier  -->\\\", train_accuracy)\\nprint(\\\"Eval  Accuracy of Naive Bayes Classifier  -->\\\", eval_accuracy)\";\n",
       "                var nbb_formatted_code = \"train_accuracy, eval_accuracy = get_metrics(\\n    classifier=naive_bayes_classifier,\\n    train_sentence_vectors=train_sentence_vectors,\\n    eval_sentence_vectors=eval_sentence_vectors,\\n    train_labels=train_labels,\\n    eval_labels=eval_labels,\\n)\\n\\n# Let's see the train and eval accuracy for information\\nprint(\\\"Train Accuracy of Naive Bayes Classifier  -->\\\", train_accuracy)\\nprint(\\\"Eval  Accuracy of Naive Bayes Classifier  -->\\\", eval_accuracy)\";\n",
       "                var nbb_cells = Jupyter.notebook.get_cells();\n",
       "                for (var i = 0; i < nbb_cells.length; ++i) {\n",
       "                    if (nbb_cells[i].input_prompt_number == nbb_cell_id) {\n",
       "                        if (nbb_cells[i].get_text() == nbb_unformatted_code) {\n",
       "                             nbb_cells[i].set_text(nbb_formatted_code);\n",
       "                        }\n",
       "                        break;\n",
       "                    }\n",
       "                }\n",
       "            }, 500);\n",
       "            "
      ],
      "text/plain": [
       "<IPython.core.display.Javascript object>"
      ]
     },
     "metadata": {},
     "output_type": "display_data"
    }
   ],
   "source": [
    "train_accuracy, eval_accuracy = get_metrics(\n",
    "    classifier=naive_bayes_classifier,\n",
    "    train_sentence_vectors=train_sentence_vectors,\n",
    "    eval_sentence_vectors=eval_sentence_vectors,\n",
    "    train_labels=train_labels,\n",
    "    eval_labels=eval_labels,\n",
    ")\n",
    "\n",
    "# Let's see the train and eval accuracy for information\n",
    "print(\"Train Accuracy of Naive Bayes Classifier  -->\", train_accuracy)\n",
    "print(\"Eval  Accuracy of Naive Bayes Classifier  -->\", eval_accuracy)"
   ]
  },
  {
   "cell_type": "markdown",
   "metadata": {},
   "source": [
    "<font><h4> <b>Random Forest Classifier</b></h4></font>"
   ]
  },
  {
   "cell_type": "code",
   "execution_count": 29,
   "metadata": {},
   "outputs": [
    {
     "data": {
      "text/plain": [
       "LabelPowerset(classifier=RandomForestClassifier(), require_dense=[True, True])"
      ]
     },
     "execution_count": 29,
     "metadata": {},
     "output_type": "execute_result"
    },
    {
     "data": {
      "application/javascript": [
       "\n",
       "            setTimeout(function() {\n",
       "                var nbb_cell_id = 29;\n",
       "                var nbb_unformatted_code = \"random_forest_classifier = LabelPowerset(RandomForestClassifier())\\nrandom_forest_classifier.fit(train_sentence_vectors, train_labels)\";\n",
       "                var nbb_formatted_code = \"random_forest_classifier = LabelPowerset(RandomForestClassifier())\\nrandom_forest_classifier.fit(train_sentence_vectors, train_labels)\";\n",
       "                var nbb_cells = Jupyter.notebook.get_cells();\n",
       "                for (var i = 0; i < nbb_cells.length; ++i) {\n",
       "                    if (nbb_cells[i].input_prompt_number == nbb_cell_id) {\n",
       "                        if (nbb_cells[i].get_text() == nbb_unformatted_code) {\n",
       "                             nbb_cells[i].set_text(nbb_formatted_code);\n",
       "                        }\n",
       "                        break;\n",
       "                    }\n",
       "                }\n",
       "            }, 500);\n",
       "            "
      ],
      "text/plain": [
       "<IPython.core.display.Javascript object>"
      ]
     },
     "metadata": {},
     "output_type": "display_data"
    }
   ],
   "source": [
    "random_forest_classifier = LabelPowerset(RandomForestClassifier())\n",
    "random_forest_classifier.fit(train_sentence_vectors, train_labels)"
   ]
  },
  {
   "cell_type": "code",
   "execution_count": 30,
   "metadata": {},
   "outputs": [
    {
     "name": "stdout",
     "output_type": "stream",
     "text": [
      "Train Accuracy of Random Forest Classifier  --> 1.0\n",
      "Eval  Accuracy of Random Forest Classifier  --> 0.45571536714610145\n"
     ]
    },
    {
     "data": {
      "application/javascript": [
       "\n",
       "            setTimeout(function() {\n",
       "                var nbb_cell_id = 30;\n",
       "                var nbb_unformatted_code = \"train_accuracy, eval_accuracy = get_metrics(\\n    classifier=random_forest_classifier, \\n    train_sentence_vectors=train_sentence_vectors, \\n    eval_sentence_vectors=eval_sentence_vectors, \\n    train_labels=train_labels,\\n    eval_labels=eval_labels\\n)\\n\\n# Let's see the train and eval accuracy for information\\nprint(\\\"Train Accuracy of Random Forest Classifier  -->\\\", train_accuracy)\\nprint(\\\"Eval  Accuracy of Random Forest Classifier  -->\\\", eval_accuracy)\";\n",
       "                var nbb_formatted_code = \"train_accuracy, eval_accuracy = get_metrics(\\n    classifier=random_forest_classifier,\\n    train_sentence_vectors=train_sentence_vectors,\\n    eval_sentence_vectors=eval_sentence_vectors,\\n    train_labels=train_labels,\\n    eval_labels=eval_labels,\\n)\\n\\n# Let's see the train and eval accuracy for information\\nprint(\\\"Train Accuracy of Random Forest Classifier  -->\\\", train_accuracy)\\nprint(\\\"Eval  Accuracy of Random Forest Classifier  -->\\\", eval_accuracy)\";\n",
       "                var nbb_cells = Jupyter.notebook.get_cells();\n",
       "                for (var i = 0; i < nbb_cells.length; ++i) {\n",
       "                    if (nbb_cells[i].input_prompt_number == nbb_cell_id) {\n",
       "                        if (nbb_cells[i].get_text() == nbb_unformatted_code) {\n",
       "                             nbb_cells[i].set_text(nbb_formatted_code);\n",
       "                        }\n",
       "                        break;\n",
       "                    }\n",
       "                }\n",
       "            }, 500);\n",
       "            "
      ],
      "text/plain": [
       "<IPython.core.display.Javascript object>"
      ]
     },
     "metadata": {},
     "output_type": "display_data"
    }
   ],
   "source": [
    "train_accuracy, eval_accuracy = get_metrics(\n",
    "    classifier=random_forest_classifier,\n",
    "    train_sentence_vectors=train_sentence_vectors,\n",
    "    eval_sentence_vectors=eval_sentence_vectors,\n",
    "    train_labels=train_labels,\n",
    "    eval_labels=eval_labels,\n",
    ")\n",
    "\n",
    "# Let's see the train and eval accuracy for information\n",
    "print(\"Train Accuracy of Random Forest Classifier  -->\", train_accuracy)\n",
    "print(\"Eval  Accuracy of Random Forest Classifier  -->\", eval_accuracy)"
   ]
  },
  {
   "cell_type": "markdown",
   "metadata": {},
   "source": [
    "<font><h4> <b>Support Vector Classifier</b></h4></font>"
   ]
  },
  {
   "cell_type": "code",
   "execution_count": 31,
   "metadata": {},
   "outputs": [
    {
     "data": {
      "text/plain": [
       "LabelPowerset(classifier=SVC(probability=True), require_dense=[True, True])"
      ]
     },
     "execution_count": 31,
     "metadata": {},
     "output_type": "execute_result"
    },
    {
     "data": {
      "application/javascript": [
       "\n",
       "            setTimeout(function() {\n",
       "                var nbb_cell_id = 31;\n",
       "                var nbb_unformatted_code = \"svm_classifier = LabelPowerset(SVC(probability=True))\\nsvm_classifier.fit(train_sentence_vectors, train_labels)\";\n",
       "                var nbb_formatted_code = \"svm_classifier = LabelPowerset(SVC(probability=True))\\nsvm_classifier.fit(train_sentence_vectors, train_labels)\";\n",
       "                var nbb_cells = Jupyter.notebook.get_cells();\n",
       "                for (var i = 0; i < nbb_cells.length; ++i) {\n",
       "                    if (nbb_cells[i].input_prompt_number == nbb_cell_id) {\n",
       "                        if (nbb_cells[i].get_text() == nbb_unformatted_code) {\n",
       "                             nbb_cells[i].set_text(nbb_formatted_code);\n",
       "                        }\n",
       "                        break;\n",
       "                    }\n",
       "                }\n",
       "            }, 500);\n",
       "            "
      ],
      "text/plain": [
       "<IPython.core.display.Javascript object>"
      ]
     },
     "metadata": {},
     "output_type": "display_data"
    }
   ],
   "source": [
    "svm_classifier = LabelPowerset(SVC(probability=True))\n",
    "svm_classifier.fit(train_sentence_vectors, train_labels)"
   ]
  },
  {
   "cell_type": "code",
   "execution_count": 32,
   "metadata": {},
   "outputs": [
    {
     "name": "stdout",
     "output_type": "stream",
     "text": [
      "Train Accuracy of SVM Classifier  --> 0.638515432683204\n",
      "Eval  Accuracy of SVM Classifier  --> 0.6018168054504164\n"
     ]
    },
    {
     "data": {
      "application/javascript": [
       "\n",
       "            setTimeout(function() {\n",
       "                var nbb_cell_id = 32;\n",
       "                var nbb_unformatted_code = \"train_accuracy, eval_accuracy = get_metrics(\\n    classifier=svm_classifier, \\n    train_sentence_vectors=train_sentence_vectors, \\n    eval_sentence_vectors=eval_sentence_vectors, \\n    train_labels=train_labels,\\n    eval_labels=eval_labels\\n)\\n# Let's see the train and eval accuracy for information\\nprint(\\\"Train Accuracy of SVM Classifier  -->\\\", train_accuracy)\\nprint(\\\"Eval  Accuracy of SVM Classifier  -->\\\", eval_accuracy)\";\n",
       "                var nbb_formatted_code = \"train_accuracy, eval_accuracy = get_metrics(\\n    classifier=svm_classifier,\\n    train_sentence_vectors=train_sentence_vectors,\\n    eval_sentence_vectors=eval_sentence_vectors,\\n    train_labels=train_labels,\\n    eval_labels=eval_labels,\\n)\\n# Let's see the train and eval accuracy for information\\nprint(\\\"Train Accuracy of SVM Classifier  -->\\\", train_accuracy)\\nprint(\\\"Eval  Accuracy of SVM Classifier  -->\\\", eval_accuracy)\";\n",
       "                var nbb_cells = Jupyter.notebook.get_cells();\n",
       "                for (var i = 0; i < nbb_cells.length; ++i) {\n",
       "                    if (nbb_cells[i].input_prompt_number == nbb_cell_id) {\n",
       "                        if (nbb_cells[i].get_text() == nbb_unformatted_code) {\n",
       "                             nbb_cells[i].set_text(nbb_formatted_code);\n",
       "                        }\n",
       "                        break;\n",
       "                    }\n",
       "                }\n",
       "            }, 500);\n",
       "            "
      ],
      "text/plain": [
       "<IPython.core.display.Javascript object>"
      ]
     },
     "metadata": {},
     "output_type": "display_data"
    }
   ],
   "source": [
    "train_accuracy, eval_accuracy = get_metrics(\n",
    "    classifier=svm_classifier,\n",
    "    train_sentence_vectors=train_sentence_vectors,\n",
    "    eval_sentence_vectors=eval_sentence_vectors,\n",
    "    train_labels=train_labels,\n",
    "    eval_labels=eval_labels,\n",
    ")\n",
    "# Let's see the train and eval accuracy for information\n",
    "print(\"Train Accuracy of SVM Classifier  -->\", train_accuracy)\n",
    "print(\"Eval  Accuracy of SVM Classifier  -->\", eval_accuracy)"
   ]
  },
  {
   "cell_type": "markdown",
   "metadata": {},
   "source": [
    "<font><h4> <b>XGBoost Classifier</b></h4></font>"
   ]
  },
  {
   "cell_type": "code",
   "execution_count": 33,
   "metadata": {},
   "outputs": [
    {
     "name": "stdout",
     "output_type": "stream",
     "text": [
      "[14:34:06] WARNING: ../src/learner.cc:1115: Starting in XGBoost 1.3.0, the default evaluation metric used with the objective 'multi:softprob' was changed from 'merror' to 'mlogloss'. Explicitly set eval_metric if you'd like to restore the old behavior.\n"
     ]
    },
    {
     "data": {
      "text/plain": [
       "LabelPowerset(classifier=XGBClassifier(base_score=0.5, booster='gbtree',\n",
       "                                       colsample_bylevel=1, colsample_bynode=1,\n",
       "                                       colsample_bytree=1,\n",
       "                                       enable_categorical=False, gamma=0,\n",
       "                                       gpu_id=-1, importance_type=None,\n",
       "                                       interaction_constraints='',\n",
       "                                       learning_rate=0.300000012,\n",
       "                                       max_delta_step=0, max_depth=6,\n",
       "                                       min_child_weight=1, missing=nan,\n",
       "                                       monotone_constraints='()',\n",
       "                                       n_estimators=100, n_jobs=32,\n",
       "                                       num_parallel_tree=1,\n",
       "                                       objective='multi:softprob',\n",
       "                                       predictor='auto', random_state=0,\n",
       "                                       reg_alpha=0, reg_lambda=1,\n",
       "                                       scale_pos_weight=None, subsample=1,\n",
       "                                       tree_method='exact',\n",
       "                                       validate_parameters=1, verbosity=None),\n",
       "              require_dense=[True, True])"
      ]
     },
     "execution_count": 33,
     "metadata": {},
     "output_type": "execute_result"
    },
    {
     "data": {
      "application/javascript": [
       "\n",
       "            setTimeout(function() {\n",
       "                var nbb_cell_id = 33;\n",
       "                var nbb_unformatted_code = \"xgboost_classifier = LabelPowerset(XGBClassifier())\\nxgboost_classifier.fit(train_sentence_vectors, train_labels)\";\n",
       "                var nbb_formatted_code = \"xgboost_classifier = LabelPowerset(XGBClassifier())\\nxgboost_classifier.fit(train_sentence_vectors, train_labels)\";\n",
       "                var nbb_cells = Jupyter.notebook.get_cells();\n",
       "                for (var i = 0; i < nbb_cells.length; ++i) {\n",
       "                    if (nbb_cells[i].input_prompt_number == nbb_cell_id) {\n",
       "                        if (nbb_cells[i].get_text() == nbb_unformatted_code) {\n",
       "                             nbb_cells[i].set_text(nbb_formatted_code);\n",
       "                        }\n",
       "                        break;\n",
       "                    }\n",
       "                }\n",
       "            }, 500);\n",
       "            "
      ],
      "text/plain": [
       "<IPython.core.display.Javascript object>"
      ]
     },
     "metadata": {},
     "output_type": "display_data"
    }
   ],
   "source": [
    "xgboost_classifier = LabelPowerset(XGBClassifier())\n",
    "xgboost_classifier.fit(train_sentence_vectors, train_labels)"
   ]
  },
  {
   "cell_type": "code",
   "execution_count": 34,
   "metadata": {},
   "outputs": [
    {
     "name": "stdout",
     "output_type": "stream",
     "text": [
      "Train Accuracy of XGBoost Classifier  --> 1.0\n",
      "Eval  Accuracy of XGBoost Classifier  --> 0.43830431491294475\n"
     ]
    },
    {
     "data": {
      "application/javascript": [
       "\n",
       "            setTimeout(function() {\n",
       "                var nbb_cell_id = 34;\n",
       "                var nbb_unformatted_code = \"train_accuracy, eval_accuracy = get_metrics(\\n    classifier=xgboost_classifier, \\n    train_sentence_vectors=train_sentence_vectors, \\n    eval_sentence_vectors=eval_sentence_vectors, \\n    train_labels=train_labels,\\n    eval_labels=eval_labels\\n)\\n\\n# Let's see the train and eval accuracy for information\\nprint(\\\"Train Accuracy of XGBoost Classifier  -->\\\", train_accuracy)\\nprint(\\\"Eval  Accuracy of XGBoost Classifier  -->\\\", eval_accuracy)\";\n",
       "                var nbb_formatted_code = \"train_accuracy, eval_accuracy = get_metrics(\\n    classifier=xgboost_classifier,\\n    train_sentence_vectors=train_sentence_vectors,\\n    eval_sentence_vectors=eval_sentence_vectors,\\n    train_labels=train_labels,\\n    eval_labels=eval_labels,\\n)\\n\\n# Let's see the train and eval accuracy for information\\nprint(\\\"Train Accuracy of XGBoost Classifier  -->\\\", train_accuracy)\\nprint(\\\"Eval  Accuracy of XGBoost Classifier  -->\\\", eval_accuracy)\";\n",
       "                var nbb_cells = Jupyter.notebook.get_cells();\n",
       "                for (var i = 0; i < nbb_cells.length; ++i) {\n",
       "                    if (nbb_cells[i].input_prompt_number == nbb_cell_id) {\n",
       "                        if (nbb_cells[i].get_text() == nbb_unformatted_code) {\n",
       "                             nbb_cells[i].set_text(nbb_formatted_code);\n",
       "                        }\n",
       "                        break;\n",
       "                    }\n",
       "                }\n",
       "            }, 500);\n",
       "            "
      ],
      "text/plain": [
       "<IPython.core.display.Javascript object>"
      ]
     },
     "metadata": {},
     "output_type": "display_data"
    }
   ],
   "source": [
    "train_accuracy, eval_accuracy = get_metrics(\n",
    "    classifier=xgboost_classifier,\n",
    "    train_sentence_vectors=train_sentence_vectors,\n",
    "    eval_sentence_vectors=eval_sentence_vectors,\n",
    "    train_labels=train_labels,\n",
    "    eval_labels=eval_labels,\n",
    ")\n",
    "\n",
    "# Let's see the train and eval accuracy for information\n",
    "print(\"Train Accuracy of XGBoost Classifier  -->\", train_accuracy)\n",
    "print(\"Eval  Accuracy of XGBoost Classifier  -->\", eval_accuracy)"
   ]
  },
  {
   "cell_type": "markdown",
   "metadata": {},
   "source": [
    "<font color=magenta><h3> <b>Hyper Parameter Tuning</b></h3></font>"
   ]
  },
  {
   "cell_type": "markdown",
   "metadata": {},
   "source": [
    "<font><h4> <b>Support Vector Classifier</b></h4></font>"
   ]
  },
  {
   "cell_type": "markdown",
   "metadata": {},
   "source": [
    "1. Observed that SVM is performing decently well with the below hyperparameters\n",
    "    * C=2\n",
    "    * kernel=\"poly\"\n",
    "    * gamma=\"scale\""
   ]
  },
  {
   "cell_type": "code",
   "execution_count": 35,
   "metadata": {},
   "outputs": [
    {
     "data": {
      "text/plain": [
       "LabelPowerset(classifier=SVC(C=2, kernel='poly', probability=True),\n",
       "              require_dense=[True, True])"
      ]
     },
     "execution_count": 35,
     "metadata": {},
     "output_type": "execute_result"
    },
    {
     "data": {
      "application/javascript": [
       "\n",
       "            setTimeout(function() {\n",
       "                var nbb_cell_id = 35;\n",
       "                var nbb_unformatted_code = \"# svc with poly kernel\\nsvm_classifier = LabelPowerset(SVC(C=2, kernel=\\\"poly\\\", gamma=\\\"scale\\\", probability=True))\\nsvm_classifier.fit(train_sentence_vectors, train_labels)\";\n",
       "                var nbb_formatted_code = \"# svc with poly kernel\\nsvm_classifier = LabelPowerset(SVC(C=2, kernel=\\\"poly\\\", gamma=\\\"scale\\\", probability=True))\\nsvm_classifier.fit(train_sentence_vectors, train_labels)\";\n",
       "                var nbb_cells = Jupyter.notebook.get_cells();\n",
       "                for (var i = 0; i < nbb_cells.length; ++i) {\n",
       "                    if (nbb_cells[i].input_prompt_number == nbb_cell_id) {\n",
       "                        if (nbb_cells[i].get_text() == nbb_unformatted_code) {\n",
       "                             nbb_cells[i].set_text(nbb_formatted_code);\n",
       "                        }\n",
       "                        break;\n",
       "                    }\n",
       "                }\n",
       "            }, 500);\n",
       "            "
      ],
      "text/plain": [
       "<IPython.core.display.Javascript object>"
      ]
     },
     "metadata": {},
     "output_type": "display_data"
    }
   ],
   "source": [
    "# svc with poly kernel\n",
    "svm_classifier = LabelPowerset(SVC(C=2, kernel=\"poly\", gamma=\"scale\", probability=True))\n",
    "svm_classifier.fit(train_sentence_vectors, train_labels)"
   ]
  },
  {
   "cell_type": "code",
   "execution_count": 36,
   "metadata": {},
   "outputs": [
    {
     "name": "stdout",
     "output_type": "stream",
     "text": [
      "Train Accuracy of SVM Classifier  --> 0.7462601779965915\n",
      "Eval  Accuracy of SVM Classifier  --> 0.6207418622255867\n"
     ]
    },
    {
     "data": {
      "application/javascript": [
       "\n",
       "            setTimeout(function() {\n",
       "                var nbb_cell_id = 36;\n",
       "                var nbb_unformatted_code = \"train_accuracy, eval_accuracy = get_metrics(\\n    classifier=svm_classifier, \\n    train_sentence_vectors=train_sentence_vectors, \\n    eval_sentence_vectors=eval_sentence_vectors, \\n    train_labels=train_labels,\\n    eval_labels=eval_labels\\n)\\n# Let's see the train and eval accuracy for information\\nprint(\\\"Train Accuracy of SVM Classifier  -->\\\", train_accuracy)\\nprint(\\\"Eval  Accuracy of SVM Classifier  -->\\\", eval_accuracy)\";\n",
       "                var nbb_formatted_code = \"train_accuracy, eval_accuracy = get_metrics(\\n    classifier=svm_classifier,\\n    train_sentence_vectors=train_sentence_vectors,\\n    eval_sentence_vectors=eval_sentence_vectors,\\n    train_labels=train_labels,\\n    eval_labels=eval_labels,\\n)\\n# Let's see the train and eval accuracy for information\\nprint(\\\"Train Accuracy of SVM Classifier  -->\\\", train_accuracy)\\nprint(\\\"Eval  Accuracy of SVM Classifier  -->\\\", eval_accuracy)\";\n",
       "                var nbb_cells = Jupyter.notebook.get_cells();\n",
       "                for (var i = 0; i < nbb_cells.length; ++i) {\n",
       "                    if (nbb_cells[i].input_prompt_number == nbb_cell_id) {\n",
       "                        if (nbb_cells[i].get_text() == nbb_unformatted_code) {\n",
       "                             nbb_cells[i].set_text(nbb_formatted_code);\n",
       "                        }\n",
       "                        break;\n",
       "                    }\n",
       "                }\n",
       "            }, 500);\n",
       "            "
      ],
      "text/plain": [
       "<IPython.core.display.Javascript object>"
      ]
     },
     "metadata": {},
     "output_type": "display_data"
    }
   ],
   "source": [
    "train_accuracy, eval_accuracy = get_metrics(\n",
    "    classifier=svm_classifier,\n",
    "    train_sentence_vectors=train_sentence_vectors,\n",
    "    eval_sentence_vectors=eval_sentence_vectors,\n",
    "    train_labels=train_labels,\n",
    "    eval_labels=eval_labels,\n",
    ")\n",
    "# Let's see the train and eval accuracy for information\n",
    "print(\"Train Accuracy of SVM Classifier  -->\", train_accuracy)\n",
    "print(\"Eval  Accuracy of SVM Classifier  -->\", eval_accuracy)"
   ]
  },
  {
   "cell_type": "code",
   "execution_count": 37,
   "metadata": {},
   "outputs": [
    {
     "data": {
      "text/plain": [
       "MLkNN(k=20)"
      ]
     },
     "execution_count": 37,
     "metadata": {},
     "output_type": "execute_result"
    },
    {
     "data": {
      "application/javascript": [
       "\n",
       "            setTimeout(function() {\n",
       "                var nbb_cell_id = 37;\n",
       "                var nbb_unformatted_code = \"from skmultilearn.adapt import MLkNN\\nclassifier = MLkNN(k=20)\\nclassifier.fit(train_sentence_vectors, train_labels)\";\n",
       "                var nbb_formatted_code = \"from skmultilearn.adapt import MLkNN\\n\\nclassifier = MLkNN(k=20)\\nclassifier.fit(train_sentence_vectors, train_labels)\";\n",
       "                var nbb_cells = Jupyter.notebook.get_cells();\n",
       "                for (var i = 0; i < nbb_cells.length; ++i) {\n",
       "                    if (nbb_cells[i].input_prompt_number == nbb_cell_id) {\n",
       "                        if (nbb_cells[i].get_text() == nbb_unformatted_code) {\n",
       "                             nbb_cells[i].set_text(nbb_formatted_code);\n",
       "                        }\n",
       "                        break;\n",
       "                    }\n",
       "                }\n",
       "            }, 500);\n",
       "            "
      ],
      "text/plain": [
       "<IPython.core.display.Javascript object>"
      ]
     },
     "metadata": {},
     "output_type": "display_data"
    }
   ],
   "source": [
    "from skmultilearn.adapt import MLkNN\n",
    "\n",
    "classifier = MLkNN(k=20)\n",
    "classifier.fit(train_sentence_vectors, train_labels)"
   ]
  },
  {
   "cell_type": "markdown",
   "metadata": {},
   "source": [
    "<font><h5> <b>Model Saving(SVM)</b></h5></font>"
   ]
  },
  {
   "cell_type": "code",
   "execution_count": 38,
   "metadata": {},
   "outputs": [
    {
     "data": {
      "application/javascript": [
       "\n",
       "            setTimeout(function() {\n",
       "                var nbb_cell_id = 38;\n",
       "                var nbb_unformatted_code = \"# Let's save the svm model with best parameters onto S3 Bucket\\nsave_model_into_s3(\\n    model_prefix=MODEL_PREFIX,\\n    model=svm_classifier,\\n    model_name=MODEL_NAME\\n)\";\n",
       "                var nbb_formatted_code = \"# Let's save the svm model with best parameters onto S3 Bucket\\nsave_model_into_s3(\\n    model_prefix=MODEL_PREFIX, model=svm_classifier, model_name=MODEL_NAME\\n)\";\n",
       "                var nbb_cells = Jupyter.notebook.get_cells();\n",
       "                for (var i = 0; i < nbb_cells.length; ++i) {\n",
       "                    if (nbb_cells[i].input_prompt_number == nbb_cell_id) {\n",
       "                        if (nbb_cells[i].get_text() == nbb_unformatted_code) {\n",
       "                             nbb_cells[i].set_text(nbb_formatted_code);\n",
       "                        }\n",
       "                        break;\n",
       "                    }\n",
       "                }\n",
       "            }, 500);\n",
       "            "
      ],
      "text/plain": [
       "<IPython.core.display.Javascript object>"
      ]
     },
     "metadata": {},
     "output_type": "display_data"
    }
   ],
   "source": [
    "# Let's save the svm model with best parameters onto S3 Bucket\n",
    "save_model_into_s3(\n",
    "    model_prefix=MODEL_PREFIX, model=svm_classifier, model_name=MODEL_NAME\n",
    ")"
   ]
  },
  {
   "cell_type": "markdown",
   "metadata": {},
   "source": [
    "<font><h4> <b>Random Forest Classifier</b></h4></font>"
   ]
  },
  {
   "cell_type": "markdown",
   "metadata": {},
   "source": [
    "1. Random Forest is overfitting with default parameters i.e train accuracy is significantly higher than eval/test accuracy\n",
    "1. Observed that Random Forest is performing decently well with the below hyperparameters\n",
    "    * n_estimators= 4000\n",
    "    * max_depth= 230"
   ]
  },
  {
   "cell_type": "code",
   "execution_count": 39,
   "metadata": {},
   "outputs": [
    {
     "data": {
      "text/plain": [
       "LabelPowerset(classifier=RandomForestClassifier(max_depth=450,\n",
       "                                                n_estimators=3000),\n",
       "              require_dense=[True, True])"
      ]
     },
     "execution_count": 39,
     "metadata": {},
     "output_type": "execute_result"
    },
    {
     "data": {
      "application/javascript": [
       "\n",
       "            setTimeout(function() {\n",
       "                var nbb_cell_id = 39;\n",
       "                var nbb_unformatted_code = \"random_forest_classifier = LabelPowerset(RandomForestClassifier(n_estimators=3000, max_depth=450))\\nrandom_forest_classifier.fit(train_sentence_vectors, train_labels)\";\n",
       "                var nbb_formatted_code = \"random_forest_classifier = LabelPowerset(\\n    RandomForestClassifier(n_estimators=3000, max_depth=450)\\n)\\nrandom_forest_classifier.fit(train_sentence_vectors, train_labels)\";\n",
       "                var nbb_cells = Jupyter.notebook.get_cells();\n",
       "                for (var i = 0; i < nbb_cells.length; ++i) {\n",
       "                    if (nbb_cells[i].input_prompt_number == nbb_cell_id) {\n",
       "                        if (nbb_cells[i].get_text() == nbb_unformatted_code) {\n",
       "                             nbb_cells[i].set_text(nbb_formatted_code);\n",
       "                        }\n",
       "                        break;\n",
       "                    }\n",
       "                }\n",
       "            }, 500);\n",
       "            "
      ],
      "text/plain": [
       "<IPython.core.display.Javascript object>"
      ]
     },
     "metadata": {},
     "output_type": "display_data"
    }
   ],
   "source": [
    "random_forest_classifier = LabelPowerset(\n",
    "    RandomForestClassifier(n_estimators=3000, max_depth=450)\n",
    ")\n",
    "random_forest_classifier.fit(train_sentence_vectors, train_labels)"
   ]
  },
  {
   "cell_type": "code",
   "execution_count": 40,
   "metadata": {},
   "outputs": [
    {
     "name": "stdout",
     "output_type": "stream",
     "text": [
      "Train Accuracy of Random Forest Classifier  --> 1.0\n",
      "Eval  Accuracy of Random Forest Classifier  --> 0.48750946252838756\n"
     ]
    },
    {
     "data": {
      "application/javascript": [
       "\n",
       "            setTimeout(function() {\n",
       "                var nbb_cell_id = 40;\n",
       "                var nbb_unformatted_code = \"train_accuracy, eval_accuracy = get_metrics(\\n    classifier=random_forest_classifier, \\n    train_sentence_vectors=train_sentence_vectors, \\n    eval_sentence_vectors=eval_sentence_vectors, \\n    train_labels=train_labels,\\n    eval_labels=eval_labels\\n)\\n\\n# Let's see the train and eval accuracy for information\\nprint(\\\"Train Accuracy of Random Forest Classifier  -->\\\", train_accuracy)\\nprint(\\\"Eval  Accuracy of Random Forest Classifier  -->\\\", eval_accuracy)\";\n",
       "                var nbb_formatted_code = \"train_accuracy, eval_accuracy = get_metrics(\\n    classifier=random_forest_classifier,\\n    train_sentence_vectors=train_sentence_vectors,\\n    eval_sentence_vectors=eval_sentence_vectors,\\n    train_labels=train_labels,\\n    eval_labels=eval_labels,\\n)\\n\\n# Let's see the train and eval accuracy for information\\nprint(\\\"Train Accuracy of Random Forest Classifier  -->\\\", train_accuracy)\\nprint(\\\"Eval  Accuracy of Random Forest Classifier  -->\\\", eval_accuracy)\";\n",
       "                var nbb_cells = Jupyter.notebook.get_cells();\n",
       "                for (var i = 0; i < nbb_cells.length; ++i) {\n",
       "                    if (nbb_cells[i].input_prompt_number == nbb_cell_id) {\n",
       "                        if (nbb_cells[i].get_text() == nbb_unformatted_code) {\n",
       "                             nbb_cells[i].set_text(nbb_formatted_code);\n",
       "                        }\n",
       "                        break;\n",
       "                    }\n",
       "                }\n",
       "            }, 500);\n",
       "            "
      ],
      "text/plain": [
       "<IPython.core.display.Javascript object>"
      ]
     },
     "metadata": {},
     "output_type": "display_data"
    }
   ],
   "source": [
    "train_accuracy, eval_accuracy = get_metrics(\n",
    "    classifier=random_forest_classifier,\n",
    "    train_sentence_vectors=train_sentence_vectors,\n",
    "    eval_sentence_vectors=eval_sentence_vectors,\n",
    "    train_labels=train_labels,\n",
    "    eval_labels=eval_labels,\n",
    ")\n",
    "\n",
    "# Let's see the train and eval accuracy for information\n",
    "print(\"Train Accuracy of Random Forest Classifier  -->\", train_accuracy)\n",
    "print(\"Eval  Accuracy of Random Forest Classifier  -->\", eval_accuracy)"
   ]
  },
  {
   "cell_type": "code",
   "execution_count": 41,
   "metadata": {},
   "outputs": [
    {
     "data": {
      "text/plain": [
       "LabelPowerset(classifier=RandomForestClassifier(max_depth=230,\n",
       "                                                n_estimators=4000),\n",
       "              require_dense=[True, True])"
      ]
     },
     "execution_count": 41,
     "metadata": {},
     "output_type": "execute_result"
    },
    {
     "data": {
      "application/javascript": [
       "\n",
       "            setTimeout(function() {\n",
       "                var nbb_cell_id = 41;\n",
       "                var nbb_unformatted_code = \"random_forest_classifier = LabelPowerset(RandomForestClassifier(n_estimators=4000, max_depth=230))\\nrandom_forest_classifier.fit(train_sentence_vectors, train_labels)\";\n",
       "                var nbb_formatted_code = \"random_forest_classifier = LabelPowerset(\\n    RandomForestClassifier(n_estimators=4000, max_depth=230)\\n)\\nrandom_forest_classifier.fit(train_sentence_vectors, train_labels)\";\n",
       "                var nbb_cells = Jupyter.notebook.get_cells();\n",
       "                for (var i = 0; i < nbb_cells.length; ++i) {\n",
       "                    if (nbb_cells[i].input_prompt_number == nbb_cell_id) {\n",
       "                        if (nbb_cells[i].get_text() == nbb_unformatted_code) {\n",
       "                             nbb_cells[i].set_text(nbb_formatted_code);\n",
       "                        }\n",
       "                        break;\n",
       "                    }\n",
       "                }\n",
       "            }, 500);\n",
       "            "
      ],
      "text/plain": [
       "<IPython.core.display.Javascript object>"
      ]
     },
     "metadata": {},
     "output_type": "display_data"
    }
   ],
   "source": [
    "random_forest_classifier = LabelPowerset(\n",
    "    RandomForestClassifier(n_estimators=4000, max_depth=230)\n",
    ")\n",
    "random_forest_classifier.fit(train_sentence_vectors, train_labels)"
   ]
  },
  {
   "cell_type": "code",
   "execution_count": 42,
   "metadata": {},
   "outputs": [
    {
     "name": "stdout",
     "output_type": "stream",
     "text": [
      "Train Accuracy of Random Forest Classifier  --> 1.0\n",
      "Eval  Accuracy of Random Forest Classifier  --> 0.48750946252838756\n"
     ]
    },
    {
     "data": {
      "application/javascript": [
       "\n",
       "            setTimeout(function() {\n",
       "                var nbb_cell_id = 42;\n",
       "                var nbb_unformatted_code = \"train_accuracy, eval_accuracy = get_metrics(\\n    classifier=random_forest_classifier, \\n    train_sentence_vectors=train_sentence_vectors, \\n    eval_sentence_vectors=eval_sentence_vectors, \\n    train_labels=train_labels,\\n    eval_labels=eval_labels\\n)\\n\\n# Let's see the train and eval accuracy for information\\nprint(\\\"Train Accuracy of Random Forest Classifier  -->\\\", train_accuracy)\\nprint(\\\"Eval  Accuracy of Random Forest Classifier  -->\\\", eval_accuracy)\";\n",
       "                var nbb_formatted_code = \"train_accuracy, eval_accuracy = get_metrics(\\n    classifier=random_forest_classifier,\\n    train_sentence_vectors=train_sentence_vectors,\\n    eval_sentence_vectors=eval_sentence_vectors,\\n    train_labels=train_labels,\\n    eval_labels=eval_labels,\\n)\\n\\n# Let's see the train and eval accuracy for information\\nprint(\\\"Train Accuracy of Random Forest Classifier  -->\\\", train_accuracy)\\nprint(\\\"Eval  Accuracy of Random Forest Classifier  -->\\\", eval_accuracy)\";\n",
       "                var nbb_cells = Jupyter.notebook.get_cells();\n",
       "                for (var i = 0; i < nbb_cells.length; ++i) {\n",
       "                    if (nbb_cells[i].input_prompt_number == nbb_cell_id) {\n",
       "                        if (nbb_cells[i].get_text() == nbb_unformatted_code) {\n",
       "                             nbb_cells[i].set_text(nbb_formatted_code);\n",
       "                        }\n",
       "                        break;\n",
       "                    }\n",
       "                }\n",
       "            }, 500);\n",
       "            "
      ],
      "text/plain": [
       "<IPython.core.display.Javascript object>"
      ]
     },
     "metadata": {},
     "output_type": "display_data"
    }
   ],
   "source": [
    "train_accuracy, eval_accuracy = get_metrics(\n",
    "    classifier=random_forest_classifier,\n",
    "    train_sentence_vectors=train_sentence_vectors,\n",
    "    eval_sentence_vectors=eval_sentence_vectors,\n",
    "    train_labels=train_labels,\n",
    "    eval_labels=eval_labels,\n",
    ")\n",
    "\n",
    "# Let's see the train and eval accuracy for information\n",
    "print(\"Train Accuracy of Random Forest Classifier  -->\", train_accuracy)\n",
    "print(\"Eval  Accuracy of Random Forest Classifier  -->\", eval_accuracy)"
   ]
  },
  {
   "cell_type": "code",
   "execution_count": 43,
   "metadata": {},
   "outputs": [
    {
     "data": {
      "text/plain": [
       "LabelPowerset(classifier=RandomForestClassifier(max_depth=450,\n",
       "                                                n_estimators=5000),\n",
       "              require_dense=[True, True])"
      ]
     },
     "execution_count": 43,
     "metadata": {},
     "output_type": "execute_result"
    },
    {
     "data": {
      "application/javascript": [
       "\n",
       "            setTimeout(function() {\n",
       "                var nbb_cell_id = 43;\n",
       "                var nbb_unformatted_code = \"random_forest_classifier = LabelPowerset(RandomForestClassifier(n_estimators=5000, max_depth=450))\\nrandom_forest_classifier.fit(train_sentence_vectors, train_labels)\";\n",
       "                var nbb_formatted_code = \"random_forest_classifier = LabelPowerset(\\n    RandomForestClassifier(n_estimators=5000, max_depth=450)\\n)\\nrandom_forest_classifier.fit(train_sentence_vectors, train_labels)\";\n",
       "                var nbb_cells = Jupyter.notebook.get_cells();\n",
       "                for (var i = 0; i < nbb_cells.length; ++i) {\n",
       "                    if (nbb_cells[i].input_prompt_number == nbb_cell_id) {\n",
       "                        if (nbb_cells[i].get_text() == nbb_unformatted_code) {\n",
       "                             nbb_cells[i].set_text(nbb_formatted_code);\n",
       "                        }\n",
       "                        break;\n",
       "                    }\n",
       "                }\n",
       "            }, 500);\n",
       "            "
      ],
      "text/plain": [
       "<IPython.core.display.Javascript object>"
      ]
     },
     "metadata": {},
     "output_type": "display_data"
    }
   ],
   "source": [
    "random_forest_classifier = LabelPowerset(\n",
    "    RandomForestClassifier(n_estimators=5000, max_depth=450)\n",
    ")\n",
    "random_forest_classifier.fit(train_sentence_vectors, train_labels)"
   ]
  },
  {
   "cell_type": "code",
   "execution_count": 44,
   "metadata": {},
   "outputs": [
    {
     "name": "stdout",
     "output_type": "stream",
     "text": [
      "Train Accuracy of Random Forest Classifier  --> 1.0\n",
      "Eval  Accuracy of Random Forest Classifier  --> 0.49356548069644207\n"
     ]
    },
    {
     "data": {
      "application/javascript": [
       "\n",
       "            setTimeout(function() {\n",
       "                var nbb_cell_id = 44;\n",
       "                var nbb_unformatted_code = \"train_accuracy, eval_accuracy = get_metrics(\\n    classifier=random_forest_classifier, \\n    train_sentence_vectors=train_sentence_vectors, \\n    eval_sentence_vectors=eval_sentence_vectors, \\n    train_labels=train_labels,\\n    eval_labels=eval_labels\\n)\\n\\n# Let's see the train and eval accuracy for information\\nprint(\\\"Train Accuracy of Random Forest Classifier  -->\\\", train_accuracy)\\nprint(\\\"Eval  Accuracy of Random Forest Classifier  -->\\\", eval_accuracy)\";\n",
       "                var nbb_formatted_code = \"train_accuracy, eval_accuracy = get_metrics(\\n    classifier=random_forest_classifier,\\n    train_sentence_vectors=train_sentence_vectors,\\n    eval_sentence_vectors=eval_sentence_vectors,\\n    train_labels=train_labels,\\n    eval_labels=eval_labels,\\n)\\n\\n# Let's see the train and eval accuracy for information\\nprint(\\\"Train Accuracy of Random Forest Classifier  -->\\\", train_accuracy)\\nprint(\\\"Eval  Accuracy of Random Forest Classifier  -->\\\", eval_accuracy)\";\n",
       "                var nbb_cells = Jupyter.notebook.get_cells();\n",
       "                for (var i = 0; i < nbb_cells.length; ++i) {\n",
       "                    if (nbb_cells[i].input_prompt_number == nbb_cell_id) {\n",
       "                        if (nbb_cells[i].get_text() == nbb_unformatted_code) {\n",
       "                             nbb_cells[i].set_text(nbb_formatted_code);\n",
       "                        }\n",
       "                        break;\n",
       "                    }\n",
       "                }\n",
       "            }, 500);\n",
       "            "
      ],
      "text/plain": [
       "<IPython.core.display.Javascript object>"
      ]
     },
     "metadata": {},
     "output_type": "display_data"
    }
   ],
   "source": [
    "train_accuracy, eval_accuracy = get_metrics(\n",
    "    classifier=random_forest_classifier,\n",
    "    train_sentence_vectors=train_sentence_vectors,\n",
    "    eval_sentence_vectors=eval_sentence_vectors,\n",
    "    train_labels=train_labels,\n",
    "    eval_labels=eval_labels,\n",
    ")\n",
    "\n",
    "# Let's see the train and eval accuracy for information\n",
    "print(\"Train Accuracy of Random Forest Classifier  -->\", train_accuracy)\n",
    "print(\"Eval  Accuracy of Random Forest Classifier  -->\", eval_accuracy)"
   ]
  },
  {
   "cell_type": "markdown",
   "metadata": {},
   "source": [
    "<font color=magenta><h3> <b>Metrics</b></h3></font>"
   ]
  },
  {
   "cell_type": "code",
   "execution_count": 45,
   "metadata": {},
   "outputs": [
    {
     "data": {
      "application/javascript": [
       "\n",
       "            setTimeout(function() {\n",
       "                var nbb_cell_id = 45;\n",
       "                var nbb_unformatted_code = \"# Let's get the classification report of finetuned SVC\\ny_pred = svm_classifier.predict(eval_sentence_vectors)\\nclassification_report = metrics.classification_report(y_true=eval_labels, y_pred=y_pred, target_names=LABELS, output_dict=True)\";\n",
       "                var nbb_formatted_code = \"# Let's get the classification report of finetuned SVC\\ny_pred = svm_classifier.predict(eval_sentence_vectors)\\nclassification_report = metrics.classification_report(\\n    y_true=eval_labels, y_pred=y_pred, target_names=LABELS, output_dict=True\\n)\";\n",
       "                var nbb_cells = Jupyter.notebook.get_cells();\n",
       "                for (var i = 0; i < nbb_cells.length; ++i) {\n",
       "                    if (nbb_cells[i].input_prompt_number == nbb_cell_id) {\n",
       "                        if (nbb_cells[i].get_text() == nbb_unformatted_code) {\n",
       "                             nbb_cells[i].set_text(nbb_formatted_code);\n",
       "                        }\n",
       "                        break;\n",
       "                    }\n",
       "                }\n",
       "            }, 500);\n",
       "            "
      ],
      "text/plain": [
       "<IPython.core.display.Javascript object>"
      ]
     },
     "metadata": {},
     "output_type": "display_data"
    }
   ],
   "source": [
    "# Let's get the classification report of finetuned SVC\n",
    "y_pred = svm_classifier.predict(eval_sentence_vectors)\n",
    "classification_report = metrics.classification_report(\n",
    "    y_true=eval_labels, y_pred=y_pred, target_names=LABELS, output_dict=True\n",
    ")"
   ]
  },
  {
   "cell_type": "code",
   "execution_count": 46,
   "metadata": {},
   "outputs": [
    {
     "data": {
      "text/html": [
       "<div>\n",
       "<style scoped>\n",
       "    .dataframe tbody tr th:only-of-type {\n",
       "        vertical-align: middle;\n",
       "    }\n",
       "\n",
       "    .dataframe tbody tr th {\n",
       "        vertical-align: top;\n",
       "    }\n",
       "\n",
       "    .dataframe thead th {\n",
       "        text-align: right;\n",
       "    }\n",
       "</style>\n",
       "<table border=\"1\" class=\"dataframe\">\n",
       "  <thead>\n",
       "    <tr style=\"text-align: right;\">\n",
       "      <th></th>\n",
       "      <th>precision</th>\n",
       "      <th>recall</th>\n",
       "      <th>f1-score</th>\n",
       "      <th>support</th>\n",
       "    </tr>\n",
       "  </thead>\n",
       "  <tbody>\n",
       "    <tr>\n",
       "      <th>Access to Care</th>\n",
       "      <td>0.181818</td>\n",
       "      <td>0.048193</td>\n",
       "      <td>0.076190</td>\n",
       "      <td>83.0</td>\n",
       "    </tr>\n",
       "    <tr>\n",
       "      <th>Authorization</th>\n",
       "      <td>0.500000</td>\n",
       "      <td>0.195122</td>\n",
       "      <td>0.280702</td>\n",
       "      <td>41.0</td>\n",
       "    </tr>\n",
       "    <tr>\n",
       "      <th>Benefits</th>\n",
       "      <td>0.714286</td>\n",
       "      <td>0.367232</td>\n",
       "      <td>0.485075</td>\n",
       "      <td>177.0</td>\n",
       "    </tr>\n",
       "    <tr>\n",
       "      <th>Claim</th>\n",
       "      <td>0.751592</td>\n",
       "      <td>0.706587</td>\n",
       "      <td>0.728395</td>\n",
       "      <td>167.0</td>\n",
       "    </tr>\n",
       "    <tr>\n",
       "      <th>EE Benefits</th>\n",
       "      <td>0.800000</td>\n",
       "      <td>0.137931</td>\n",
       "      <td>0.235294</td>\n",
       "      <td>29.0</td>\n",
       "    </tr>\n",
       "    <tr>\n",
       "      <th>Grievance and/or Appeal</th>\n",
       "      <td>0.884615</td>\n",
       "      <td>0.333333</td>\n",
       "      <td>0.484211</td>\n",
       "      <td>69.0</td>\n",
       "    </tr>\n",
       "    <tr>\n",
       "      <th>ID Card</th>\n",
       "      <td>0.740741</td>\n",
       "      <td>0.769231</td>\n",
       "      <td>0.754717</td>\n",
       "      <td>78.0</td>\n",
       "    </tr>\n",
       "    <tr>\n",
       "      <th>Membership/Enrollment</th>\n",
       "      <td>0.698113</td>\n",
       "      <td>0.751269</td>\n",
       "      <td>0.723716</td>\n",
       "      <td>197.0</td>\n",
       "    </tr>\n",
       "    <tr>\n",
       "      <th>Monthly Premium</th>\n",
       "      <td>0.875000</td>\n",
       "      <td>0.538462</td>\n",
       "      <td>0.666667</td>\n",
       "      <td>52.0</td>\n",
       "    </tr>\n",
       "    <tr>\n",
       "      <th>Need Case Management</th>\n",
       "      <td>0.000000</td>\n",
       "      <td>0.000000</td>\n",
       "      <td>0.000000</td>\n",
       "      <td>4.0</td>\n",
       "    </tr>\n",
       "    <tr>\n",
       "      <th>No Reason Given</th>\n",
       "      <td>0.570755</td>\n",
       "      <td>0.883212</td>\n",
       "      <td>0.693410</td>\n",
       "      <td>137.0</td>\n",
       "    </tr>\n",
       "    <tr>\n",
       "      <th>Nurse Line</th>\n",
       "      <td>0.833333</td>\n",
       "      <td>0.384615</td>\n",
       "      <td>0.526316</td>\n",
       "      <td>13.0</td>\n",
       "    </tr>\n",
       "    <tr>\n",
       "      <th>OTC</th>\n",
       "      <td>0.902174</td>\n",
       "      <td>0.741071</td>\n",
       "      <td>0.813725</td>\n",
       "      <td>224.0</td>\n",
       "    </tr>\n",
       "    <tr>\n",
       "      <th>Provider</th>\n",
       "      <td>0.717949</td>\n",
       "      <td>0.565657</td>\n",
       "      <td>0.632768</td>\n",
       "      <td>99.0</td>\n",
       "    </tr>\n",
       "    <tr>\n",
       "      <th>RX/Pharmacy</th>\n",
       "      <td>0.862069</td>\n",
       "      <td>0.531915</td>\n",
       "      <td>0.657895</td>\n",
       "      <td>94.0</td>\n",
       "    </tr>\n",
       "    <tr>\n",
       "      <th>Transportation</th>\n",
       "      <td>0.673333</td>\n",
       "      <td>0.855932</td>\n",
       "      <td>0.753731</td>\n",
       "      <td>118.0</td>\n",
       "    </tr>\n",
       "    <tr>\n",
       "      <th>micro avg</th>\n",
       "      <td>0.719549</td>\n",
       "      <td>0.604930</td>\n",
       "      <td>0.657280</td>\n",
       "      <td>1582.0</td>\n",
       "    </tr>\n",
       "    <tr>\n",
       "      <th>macro avg</th>\n",
       "      <td>0.669111</td>\n",
       "      <td>0.488110</td>\n",
       "      <td>0.532051</td>\n",
       "      <td>1582.0</td>\n",
       "    </tr>\n",
       "    <tr>\n",
       "      <th>weighted avg</th>\n",
       "      <td>0.717610</td>\n",
       "      <td>0.604930</td>\n",
       "      <td>0.631614</td>\n",
       "      <td>1582.0</td>\n",
       "    </tr>\n",
       "    <tr>\n",
       "      <th>samples avg</th>\n",
       "      <td>0.722180</td>\n",
       "      <td>0.670515</td>\n",
       "      <td>0.687030</td>\n",
       "      <td>1582.0</td>\n",
       "    </tr>\n",
       "  </tbody>\n",
       "</table>\n",
       "</div>"
      ],
      "text/plain": [
       "                         precision    recall  f1-score  support\n",
       "Access to Care            0.181818  0.048193  0.076190     83.0\n",
       "Authorization             0.500000  0.195122  0.280702     41.0\n",
       "Benefits                  0.714286  0.367232  0.485075    177.0\n",
       "Claim                     0.751592  0.706587  0.728395    167.0\n",
       "EE Benefits               0.800000  0.137931  0.235294     29.0\n",
       "Grievance and/or Appeal   0.884615  0.333333  0.484211     69.0\n",
       "ID Card                   0.740741  0.769231  0.754717     78.0\n",
       "Membership/Enrollment     0.698113  0.751269  0.723716    197.0\n",
       "Monthly Premium           0.875000  0.538462  0.666667     52.0\n",
       "Need Case Management      0.000000  0.000000  0.000000      4.0\n",
       "No Reason Given           0.570755  0.883212  0.693410    137.0\n",
       "Nurse Line                0.833333  0.384615  0.526316     13.0\n",
       "OTC                       0.902174  0.741071  0.813725    224.0\n",
       "Provider                  0.717949  0.565657  0.632768     99.0\n",
       "RX/Pharmacy               0.862069  0.531915  0.657895     94.0\n",
       "Transportation            0.673333  0.855932  0.753731    118.0\n",
       "micro avg                 0.719549  0.604930  0.657280   1582.0\n",
       "macro avg                 0.669111  0.488110  0.532051   1582.0\n",
       "weighted avg              0.717610  0.604930  0.631614   1582.0\n",
       "samples avg               0.722180  0.670515  0.687030   1582.0"
      ]
     },
     "execution_count": 46,
     "metadata": {},
     "output_type": "execute_result"
    },
    {
     "data": {
      "application/javascript": [
       "\n",
       "            setTimeout(function() {\n",
       "                var nbb_cell_id = 46;\n",
       "                var nbb_unformatted_code = \"# Let's create a dataframe of classification report and see what's in it\\nclassification_report_df = pd.DataFrame(classification_report).transpose()\\nclassification_report_df\";\n",
       "                var nbb_formatted_code = \"# Let's create a dataframe of classification report and see what's in it\\nclassification_report_df = pd.DataFrame(classification_report).transpose()\\nclassification_report_df\";\n",
       "                var nbb_cells = Jupyter.notebook.get_cells();\n",
       "                for (var i = 0; i < nbb_cells.length; ++i) {\n",
       "                    if (nbb_cells[i].input_prompt_number == nbb_cell_id) {\n",
       "                        if (nbb_cells[i].get_text() == nbb_unformatted_code) {\n",
       "                             nbb_cells[i].set_text(nbb_formatted_code);\n",
       "                        }\n",
       "                        break;\n",
       "                    }\n",
       "                }\n",
       "            }, 500);\n",
       "            "
      ],
      "text/plain": [
       "<IPython.core.display.Javascript object>"
      ]
     },
     "metadata": {},
     "output_type": "display_data"
    }
   ],
   "source": [
    "# Let's create a dataframe of classification report and see what's in it\n",
    "classification_report_df = pd.DataFrame(classification_report).transpose()\n",
    "classification_report_df"
   ]
  },
  {
   "cell_type": "code",
   "execution_count": 47,
   "metadata": {},
   "outputs": [
    {
     "data": {
      "text/plain": [
       "<AxesSubplot:>"
      ]
     },
     "execution_count": 47,
     "metadata": {},
     "output_type": "execute_result"
    },
    {
     "data": {
      "image/png": "[encoded data removed]",
      "text/plain": [
       "<Figure size 864x576 with 2 Axes>"
      ]
     },
     "metadata": {},
     "output_type": "display_data"
    },
    {
     "data": {
      "application/javascript": [
       "\n",
       "            setTimeout(function() {\n",
       "                var nbb_cell_id = 47;\n",
       "                var nbb_unformatted_code = \"# Let's plot the heatmap of classification report\\nplt.figure(figsize=(12, 8)) # setting the figure-size to width of 12 and height of 8\\nsns.set_theme(style=\\\"darkgrid\\\") # setting the theme to darkgrid\\nsns.heatmap(data=classification_report_df, annot=True, linewidths=.5, cmap=\\\"YlGnBu\\\")\";\n",
       "                var nbb_formatted_code = \"# Let's plot the heatmap of classification report\\nplt.figure(figsize=(12, 8))  # setting the figure-size to width of 12 and height of 8\\nsns.set_theme(style=\\\"darkgrid\\\")  # setting the theme to darkgrid\\nsns.heatmap(data=classification_report_df, annot=True, linewidths=0.5, cmap=\\\"YlGnBu\\\")\";\n",
       "                var nbb_cells = Jupyter.notebook.get_cells();\n",
       "                for (var i = 0; i < nbb_cells.length; ++i) {\n",
       "                    if (nbb_cells[i].input_prompt_number == nbb_cell_id) {\n",
       "                        if (nbb_cells[i].get_text() == nbb_unformatted_code) {\n",
       "                             nbb_cells[i].set_text(nbb_formatted_code);\n",
       "                        }\n",
       "                        break;\n",
       "                    }\n",
       "                }\n",
       "            }, 500);\n",
       "            "
      ],
      "text/plain": [
       "<IPython.core.display.Javascript object>"
      ]
     },
     "metadata": {},
     "output_type": "display_data"
    }
   ],
   "source": [
    "# Let's plot the heatmap of classification report\n",
    "plt.figure(figsize=(12, 8))  # setting the figure-size to width of 12 and height of 8\n",
    "sns.set_theme(style=\"darkgrid\")  # setting the theme to darkgrid\n",
    "sns.heatmap(data=classification_report_df, annot=True, linewidths=0.5, cmap=\"YlGnBu\")"
   ]
  },
  {
   "cell_type": "raw",
   "metadata": {},
   "source": [
    "# n_estimators = [int(x) for x in np.linspace(start=200, stop=2000, num=20)] # Number of trees in random forest\n",
    "# max_features = [\"auto\", \"sqrt\", \"log2\"]                                    # Number of features to consider at every split\n",
    "# max_depth = [int(x) for x in np.linspace(start=10, stop=1000, num=10)]     # Maximum number of levels in tree\n",
    "# max_depth.append(None)\n",
    "# min_samples_split = [2, 5, 10, 14, 18]                                     # Minimum number of samples required to split a node\n",
    "# min_samples_leaf = [1, 2, 4, 6, 8]                                         # Minimum number of samples required at each leaf node\n",
    "# bootstrap = [True, False]                                                  # Method of selecting samples for training each tree\n",
    "# random_grid = {\n",
    "#     'classifier': [LabelPowerset()],\n",
    "#     'classifier__classifier': [RandomForestClassifier()],\n",
    "#     'classifier__classifier__n_estimators': n_estimators,\n",
    "#     'classifier__classifier__max_features': max_features,\n",
    "#     'classifier__classifier__max_depth': max_depth,\n",
    "#     'classifier__classifier__min_samples_split': min_samples_split,\n",
    "#     'classifier__classifier__min_samples_leaf': min_samples_leaf,\n",
    "#     'classifier__classifier__bootstrap': bootstrap,\n",
    "#     'clusterer' : [\n",
    "#         NetworkXLabelGraphClusterer(LabelCooccurrenceGraphBuilder(weighted=True, include_self_edges=False), 'louvain'),\n",
    "#         NetworkXLabelGraphClusterer(LabelCooccurrenceGraphBuilder(weighted=True, include_self_edges=False), 'lpa')\n",
    "#     ]\n",
    "# }\n",
    "# rf_random = RandomizedSearchCV(\n",
    "#     estimator=LabelSpacePartitioningClassifier(), \n",
    "#     param_distributions=random_grid, \n",
    "#     n_iter=10, \n",
    "#     cv=3, \n",
    "#     n_jobs=-1, \n",
    "#     random_state=42, \n",
    "#     scoring=\"f1_macro\", \n",
    "#     verbose=2)\n",
    "# rf_random.fit(train_sentence_vectors, train_labels)"
   ]
  }
 ],
 "metadata": {
  "kernelspec": {
   "display_name": "multi_label",
   "language": "python",
   "name": "multi_label"
  },
  "language_info": {
   "codemirror_mode": {
    "name": "ipython",
    "version": 3
   },
   "file_extension": ".py",
   "mimetype": "text/x-python",
   "name": "python",
   "nbconvert_exporter": "python",
   "pygments_lexer": "ipython3",
   "version": "3.9.12"
  }
 },
 "nbformat": 4,
 "nbformat_minor": 4
}
